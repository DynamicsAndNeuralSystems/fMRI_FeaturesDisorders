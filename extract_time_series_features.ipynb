{
 "cells": [
  {
   "cell_type": "markdown",
   "metadata": {},
   "source": [
    "# Extracting time-series features from resting-state fMRI data"
   ]
  },
  {
   "cell_type": "code",
   "execution_count": 6,
   "metadata": {},
   "outputs": [
    {
     "name": "stdout",
     "output_type": "stream",
     "text": [
      "The rpy2.ipython extension is already loaded. To reload it, use:\n",
      "  %reload_ext rpy2.ipython\n"
     ]
    }
   ],
   "source": [
    "import os\n",
    "import numpy as np\n",
    "import nibabel as nib\n",
    "import pandas as pd\n",
    "from nilearn import plotting\n",
    "from nilearn.image import math_img, resample_img, index_img, threshold_img\n",
    "from matplotlib import pyplot as plt\n",
    "\n",
    "%load_ext rpy2.ipython"
   ]
  },
  {
   "cell_type": "markdown",
   "metadata": {},
   "source": [
    "## Loading in the data\n",
    "\n",
    "We will start by computing the mean framewise displacement (FD) for each participant so that we know which participant(s) to exclude from further analysis.\n",
    "FD is computed using the method from [Power et al. (2012)](https://doi.org/10.1016/j.neuroimage.2011.10.018) and we apply the 'lenient' threshold described in [Parkes et al. (2018)](https://doi.org/10.1016/j.neuroimage.2017.12.073).\n",
    "FD data should be organized in a `.txt` file with two columns (comma-delimited): one for the `Sample_ID` and one for the `Mean_FD_Power`.\n"
   ]
  },
  {
   "cell_type": "code",
   "execution_count": 2,
   "metadata": {},
   "outputs": [
    {
     "data": {
      "text/html": [
       "<div>\n",
       "<style scoped>\n",
       "    .dataframe tbody tr th:only-of-type {\n",
       "        vertical-align: middle;\n",
       "    }\n",
       "\n",
       "    .dataframe tbody tr th {\n",
       "        vertical-align: top;\n",
       "    }\n",
       "\n",
       "    .dataframe thead th {\n",
       "        text-align: right;\n",
       "    }\n",
       "</style>\n",
       "<table border=\"1\" class=\"dataframe\">\n",
       "  <thead>\n",
       "    <tr style=\"text-align: right;\">\n",
       "      <th></th>\n",
       "      <th>Sample_ID</th>\n",
       "      <th>Mean_FD_Power</th>\n",
       "    </tr>\n",
       "  </thead>\n",
       "  <tbody>\n",
       "    <tr>\n",
       "      <th>0</th>\n",
       "      <td>sub-10159</td>\n",
       "      <td>0.110490</td>\n",
       "    </tr>\n",
       "    <tr>\n",
       "      <th>1</th>\n",
       "      <td>sub-10171</td>\n",
       "      <td>0.214750</td>\n",
       "    </tr>\n",
       "    <tr>\n",
       "      <th>2</th>\n",
       "      <td>sub-10189</td>\n",
       "      <td>0.204260</td>\n",
       "    </tr>\n",
       "    <tr>\n",
       "      <th>3</th>\n",
       "      <td>sub-10206</td>\n",
       "      <td>0.064667</td>\n",
       "    </tr>\n",
       "    <tr>\n",
       "      <th>4</th>\n",
       "      <td>sub-10217</td>\n",
       "      <td>0.062641</td>\n",
       "    </tr>\n",
       "  </tbody>\n",
       "</table>\n",
       "</div>"
      ],
      "text/plain": [
       "   Sample_ID  Mean_FD_Power\n",
       "0  sub-10159       0.110490\n",
       "1  sub-10171       0.214750\n",
       "2  sub-10189       0.204260\n",
       "3  sub-10206       0.064667\n",
       "4  sub-10217       0.062641"
      ]
     },
     "execution_count": 2,
     "metadata": {},
     "output_type": "execute_result"
    }
   ],
   "source": [
    "UCLA_CNP_mean_FD = pd.read_table('data/input_data/UCLA_CNP_Mean_FD_Power.txt', delimiter=',', header=0)\n",
    "ABIDE_mean_FD = pd.read_table('data/input_data/ABIDE_Mean_FD_Power.txt', delimiter=',', header=0)\n",
    "\n",
    "# Print the first five rows of the UCLA CNP Mean FD\n",
    "UCLA_CNP_mean_FD.head()"
   ]
  },
  {
   "cell_type": "markdown",
   "metadata": {},
   "source": [
    "We will drop any participants with a mean FD > 0.55mm per the 'lenient' threshold criteria and save the list of participants to drop to a .txt file:"
   ]
  },
  {
   "cell_type": "code",
   "execution_count": 26,
   "metadata": {},
   "outputs": [],
   "source": [
    "# Identify any participants with Mean_FD_Power > 0.55 and write their sample IDs to a text file\n",
    "UCLA_CNP_mean_FD[UCLA_CNP_mean_FD['Mean_FD_Power'] > 0.55]['Sample_ID'].to_csv('data/input_data/UCLA_CNP_participants_to_drop_lenient.txt', index=False, header=False)\n",
    "ABIDE_mean_FD[ABIDE_mean_FD['Mean_FD_Power'] > 0.55]['Sample_ID'].to_csv('data/input_data/ABIDE_participants_to_drop_lenient.txt', index=False, header=False)"
   ]
  },
  {
   "cell_type": "markdown",
   "metadata": {},
   "source": [
    "\n",
    "We will start with our resting-state fMRI data stored in a [`.feather` file](https://arrow.apache.org/docs/python/feather.html) (for easy conversion between R and Python).\n",
    "Data should be organized in a long format, such that there is one row for each brain region and timepoint per participant."
   ]
  },
  {
   "cell_type": "code",
   "execution_count": 3,
   "metadata": {},
   "outputs": [],
   "source": [
    "# Define input time-series feather files for the two datasets\n",
    "\n",
    "UCLA_CNP_input_time_series_data = pd.read_feather('data/input_data/UCLA_CNP_AROMA_2P_GMR_fMRI_TS.feather')\n",
    "ABIDE_input_time_series_data = pd.read_feather('data/input_data/ABIDE_ASD_FC1000_fMRI_TS.feather')\n"
   ]
  },
  {
   "cell_type": "markdown",
   "metadata": {},
   "source": [
    "Let's print out the first five rows of this time-series dataset for the UCLA CNP cohort:"
   ]
  },
  {
   "cell_type": "code",
   "execution_count": 4,
   "metadata": {},
   "outputs": [
    {
     "data": {
      "text/html": [
       "<div>\n",
       "<style scoped>\n",
       "    .dataframe tbody tr th:only-of-type {\n",
       "        vertical-align: middle;\n",
       "    }\n",
       "\n",
       "    .dataframe tbody tr th {\n",
       "        vertical-align: top;\n",
       "    }\n",
       "\n",
       "    .dataframe thead th {\n",
       "        text-align: right;\n",
       "    }\n",
       "</style>\n",
       "<table border=\"1\" class=\"dataframe\">\n",
       "  <thead>\n",
       "    <tr style=\"text-align: right;\">\n",
       "      <th></th>\n",
       "      <th>Sample_ID</th>\n",
       "      <th>Noise_Proc</th>\n",
       "      <th>Brain_Region</th>\n",
       "      <th>timepoint</th>\n",
       "      <th>values</th>\n",
       "    </tr>\n",
       "  </thead>\n",
       "  <tbody>\n",
       "    <tr>\n",
       "      <th>0</th>\n",
       "      <td>sub-10159</td>\n",
       "      <td>AROMA+2P+GMR</td>\n",
       "      <td>ctx-lh-bankssts</td>\n",
       "      <td>1</td>\n",
       "      <td>4.071963</td>\n",
       "    </tr>\n",
       "    <tr>\n",
       "      <th>1</th>\n",
       "      <td>sub-10159</td>\n",
       "      <td>AROMA+2P+GMR</td>\n",
       "      <td>ctx-lh-caudalanteriorcingulate</td>\n",
       "      <td>1</td>\n",
       "      <td>1.078613</td>\n",
       "    </tr>\n",
       "    <tr>\n",
       "      <th>2</th>\n",
       "      <td>sub-10159</td>\n",
       "      <td>AROMA+2P+GMR</td>\n",
       "      <td>ctx-lh-caudalmiddlefrontal</td>\n",
       "      <td>1</td>\n",
       "      <td>-0.191693</td>\n",
       "    </tr>\n",
       "    <tr>\n",
       "      <th>3</th>\n",
       "      <td>sub-10159</td>\n",
       "      <td>AROMA+2P+GMR</td>\n",
       "      <td>ctx-lh-cuneus</td>\n",
       "      <td>1</td>\n",
       "      <td>0.888717</td>\n",
       "    </tr>\n",
       "    <tr>\n",
       "      <th>4</th>\n",
       "      <td>sub-10159</td>\n",
       "      <td>AROMA+2P+GMR</td>\n",
       "      <td>ctx-lh-entorhinal</td>\n",
       "      <td>1</td>\n",
       "      <td>-4.071331</td>\n",
       "    </tr>\n",
       "  </tbody>\n",
       "</table>\n",
       "</div>"
      ],
      "text/plain": [
       "   Sample_ID    Noise_Proc                    Brain_Region  timepoint  \\\n",
       "0  sub-10159  AROMA+2P+GMR                 ctx-lh-bankssts          1   \n",
       "1  sub-10159  AROMA+2P+GMR  ctx-lh-caudalanteriorcingulate          1   \n",
       "2  sub-10159  AROMA+2P+GMR      ctx-lh-caudalmiddlefrontal          1   \n",
       "3  sub-10159  AROMA+2P+GMR                   ctx-lh-cuneus          1   \n",
       "4  sub-10159  AROMA+2P+GMR               ctx-lh-entorhinal          1   \n",
       "\n",
       "     values  \n",
       "0  4.071963  \n",
       "1  1.078613  \n",
       "2 -0.191693  \n",
       "3  0.888717  \n",
       "4 -4.071331  "
      ]
     },
     "execution_count": 4,
     "metadata": {},
     "output_type": "execute_result"
    }
   ],
   "source": [
    "UCLA_CNP_input_time_series_data.head()"
   ]
  },
  {
   "cell_type": "markdown",
   "metadata": {},
   "source": [
    "The data should be structured such that there are five columns:\n",
    "1. `Sample_ID`: The unique ID mapping to an individual participant.\n",
    "2. `Noise_Proc`: Name of the noise processing procedure, useful for when multiple noise processing pipelines are evaluated.\n",
    "3. `Brain_Region`: The name of the brain region.\n",
    "4. `timepoint`: The timepoint corresponding to the BOLD frame.\n",
    "5. `values`: The BOLD signal amplitude at the given timepoint."
   ]
  },
  {
   "cell_type": "markdown",
   "metadata": {},
   "source": [
    "## Extracting univariate time-series features\n",
    "\n",
    "First, we will extract 25 univariate time-series features comprising the [`catch22`](https://doi.org/10.1007/s10618-019-00647-x) feature set, mean, standard deviation, and fractional amplitude of low-frequency fluctuations (fALFF).\n",
    "The `catch22` features, mean, and SD can all be computed in R using the [`theft`](https://cran.r-project.org/web/packages/theft/vignettes/theft.html) package (collectively referred to as the `catch24` feature set), while the fALFF will be computed in Matlab.\n",
    "Computing the `catch24` features will take several minutes, so feel free to hit play on the next code chunk and grab a coffee ☕️\n",
    "(Alternatively, you can run this on a high-performance computing cluster if you prefer.)"
   ]
  },
  {
   "cell_type": "code",
   "execution_count": 30,
   "metadata": {},
   "outputs": [
    {
     "name": "stdout",
     "output_type": "stream",
     "text": [
      "\n",
      "    WARNING: The R package \"reticulate\" only fixed recently\n",
      "    an issue that caused a segfault when used with rpy2:\n",
      "    https://github.com/rstudio/reticulate/pull/1188\n",
      "    Make sure that you use a version of that package that includes\n",
      "    the fix.\n",
      "    "
     ]
    },
    {
     "data": {
      "text/plain": [
       "Registered S3 method overwritten by 'quantmod':\n",
       "  method            from\n",
       "  as.zoo.data.frame zoo \n",
       "No IDs removed. All value vectors good for feature extraction.\n",
       "Running computations for catch22...\n",
       "\n",
       "Calculations completed for catch22.\n",
       "No IDs removed. All value vectors good for feature extraction.\n",
       "Running computations for catch22...\n",
       "\n",
       "Calculations completed for catch22.\n",
       "In addition: Warning messages:\n",
       "1: Using an external vector in selections was deprecated in tidyselect 1.1.0.\n",
       "ℹ Please use `all_of()` or `any_of()` instead.\n",
       "  # Was:\n",
       "  data %>% select(unique_columns)\n",
       "\n",
       "  # Now:\n",
       "  data %>% select(all_of(unique_columns))\n",
       "\n",
       "See <https://tidyselect.r-lib.org/reference/faq-external-vector.html>.\n",
       "This warning is displayed once every 8 hours.\n",
       "Call `lifecycle::last_lifecycle_warnings()` to see where this warning was\n",
       "generated. \n",
       "2: There was 1 warning in `dplyr::summarise()`.\n",
       "ℹ In argument: `Rcatch22::catch22_all(.data$values, catch24 = catch24)`.\n",
       "ℹ In group 1: `id = \"sub-10159__Left-Accumbens-area__AROMA+2P+GMR\"`.\n",
       "Caused by warning:\n",
       "! As of 0.1.14 the feature 'CO_f1ecac' returns a double instead of int\n",
       "This warning is displayed once per session. \n",
       "3: Returning more (or less) than 1 row per `summarise()` group was deprecated in\n",
       "dplyr 1.1.0.\n",
       "ℹ Please use `reframe()` instead.\n",
       "ℹ When switching from `summarise()` to `reframe()`, remember that `reframe()`\n",
       "  always returns an ungrouped data frame and adjust accordingly.\n",
       "ℹ The deprecated feature was likely used in the theft package.\n",
       "  Please report the issue at <https://github.com/hendersontrent/theft/issues>.\n",
       "This warning is displayed once every 8 hours.\n",
       "Call `lifecycle::last_lifecycle_warnings()` to see where this warning was\n",
       "generated. \n"
      ]
     },
     "metadata": {},
     "output_type": "display_data"
    }
   ],
   "source": [
    "%%R -i UCLA_CNP_input_time_series_data,ABIDE_input_time_series_data -o UCLA_CNP_catch24_features,ABIDE_catch24_features\n",
    "# Load the theft and tidyr packages\n",
    "library(theft)\n",
    "library(tidyr)\n",
    "\n",
    "# We can define a helper function to compute the `catch24` time-series features using the `theft` package\n",
    "catch24_all_samples <- function(full_TS_data,\n",
    "                                output_column_names = c(\"Output\"),\n",
    "                                unique_columns = c(\"Sample_ID\", \"Brain_Region\", \"Noise_Proc\")) {\n",
    "  \n",
    "  \n",
    "  # Merge columns into unique ID\n",
    "  full_TS_data <- full_TS_data %>%\n",
    "    tidyr::unite(\"Unique_ID\", unique_columns, sep=\"__\")\n",
    "  \n",
    "  # Compute the set of 24 time-series features using theft\n",
    "  TS_catch24 <- theft::calculate_features(data = full_TS_data, \n",
    "                                          id_var = \"Unique_ID\", \n",
    "                                          time_var = \"timepoint\", \n",
    "                                          values_var = \"values\", \n",
    "                                          feature_set = \"catch22\",\n",
    "                                          catch24 = TRUE)[[1]] %>%\n",
    "    tidyr::separate(\"id\", c(output_column_names), sep=\"__\")\n",
    "\n",
    "  # Return the resulting set of 24 features computed per brain region\n",
    "  return(TS_catch24)\n",
    "    \n",
    "}\n",
    "\n",
    "# Compute the 24 time-series features for UCLA CNP and ABIDE time-series data\n",
    "UCLA_CNP_catch24_features <- catch24_all_samples(UCLA_CNP_input_time_series_data,\n",
    "                                                 output_column_names = c(\"Sample_ID\", \"Brain_Region\", \"Noise_Proc\"))\n",
    "ABIDE_catch24_features <- catch24_all_samples(ABIDE_input_time_series_data,\n",
    "                                                output_column_names = c(\"Sample_ID\", \"Brain_Region\", \"Noise_Proc\"))\n",
    "                                  "
   ]
  },
  {
   "cell_type": "markdown",
   "metadata": {},
   "source": [
    "We will separately compute the fractional amplitude of low-frequency fluctuations (fALFF) using the Matlab script `compute_regional_fALFF.m` as follows (note: Matlab license is required to run this):"
   ]
  },
  {
   "cell_type": "code",
   "execution_count": 2,
   "metadata": {},
   "outputs": [
    {
     "data": {
      "text/plain": [
       "'/Users/abry4213/Library/CloudStorage/OneDrive-TheUniversityofSydney(Students)/github/fMRI_FeaturesDisorders'"
      ]
     },
     "execution_count": 2,
     "metadata": {},
     "output_type": "execute_result"
    }
   ],
   "source": [
    "os.getcwd()"
   ]
  },
  {
   "cell_type": "code",
   "execution_count": 5,
   "metadata": {},
   "outputs": [
    {
     "data": {
      "text/plain": [
       "0"
      ]
     },
     "execution_count": 5,
     "metadata": {},
     "output_type": "execute_result"
    }
   ],
   "source": [
    "# First, we need to convert our time-series feather file to a Matlab .mat file to be read in properly\n",
    "UCLA_CNP_time_series_file_base = 'data/input_data/UCLA_CNP_AROMA_2P_GMR_fMRI_TS'\n",
    "ABIDE_time_series_file_base = 'data/input_data/ABIDE_ASD_FC1000_fMRI_TS'\n",
    "\n",
    "# Run the feather_to_mat.py script with the file base as the input argument, indicating that the output file should be a mat file\n",
    "os.system(f\"python3 code/feature_extraction/feather_to_mat.py {UCLA_CNP_time_series_file_base} mat\")\n",
    "os.system(f\"python3 code/feature_extraction/feather_to_mat.py {ABIDE_time_series_file_base} mat\")\n",
    "\n",
    "# Run the compute_regional_fALFF.m script -- note that you might need to update your matlab path here\n",
    "TS_mat_file = \"data/input_data/UCLA_CNP_AROMA_2P_GMR_fMRI_TS.mat\"\n",
    "output_mat_file = \"data/time_series_features/UCLA_CNP_fALFF.mat\"\n",
    "current_dir = os.getcwd()\n",
    "os.system(f\"cd {current_dir}/code/feature_extraction\")\n",
    "# os.system(f\"cd {current_dir}/code/feature_extraction; /Applications/MATLAB_R2023a.app/bin/matlab -nodisplay -singleCompThread -r 'compute_regional_fALFF $TS_mat_file $output_mat_file; exit'; cd ../..\")"
   ]
  },
  {
   "cell_type": "code",
   "execution_count": 18,
   "metadata": {},
   "outputs": [],
   "source": [
    "%%bash \n",
    "\n",
    "# Run the feather_to_mat.py script with the file base as the input argument, indicating that the output file should be a mat file\n",
    "python3 code/feature_extraction/feather_to_mat.py data/input_data/UCLA_CNP_AROMA_2P_GMR_fMRI_TS mat\n",
    "python3 code/feature_extraction/feather_to_mat.py data/input_data/ABIDE_ASD_FC1000_fMRI_TS mat\n",
    "\n",
    "# Define the path to the data\n",
    "data_path=$(echo $(pwd) | tr -d ' ')\n",
    "\n",
    "# Run the compute_regional_fALFF.m script -- note that you might need to update your matlab path here\n",
    "cd code/feature_extraction\n",
    "\n",
    "# # UCLA CNP\n",
    "# TS_mat_file=\"$data_path/data/input_data/UCLA_CNP_AROMA_2P_GMR_fMRI_TS.mat\"\n",
    "# output_mat_file=\"data/time_series_features/UCLA_CNP_fALFF.mat\"\n",
    "# /Applications/MATLAB_R2023a.app/bin/matlab -nodisplay -singleCompThread -r \"compute_regional_fALFF $data_path $TS_mat_file $output_mat_file; exit\"\n",
    "\n",
    "# # ABIDE\n",
    "# TS_mat_file=\"data/input_data/ABIDE_ASD_FC1000_fMRI_TS.mat\"\n",
    "# output_mat_file=\"data/time_series_features/ABIDE_fALFF.mat\"\n",
    "# /Applications/MATLAB_R2023a.app/bin/matlab -nodisplay -singleCompThread -r \"compute_regional_fALFF $data_path $TS_mat_file $output_mat_file; exit\"\n",
    "\n",
    "# Convert the mat file back to feather for fALFF\n",
    "python3 feather_to_mat.py ${data_path}/data/time_series_features/UCLA_CNP_fALFF feather\n",
    "python3 feather_to_mat.py ${data_path}/data/time_series_features/ABIDE_fALFF feather"
   ]
  },
  {
   "cell_type": "code",
   "execution_count": 32,
   "metadata": {},
   "outputs": [],
   "source": [
    "# We can save the results as .feather files\n",
    "\n",
    "UCLA_CNP_catch24_features.reset_index().to_feather('data/time_series_features/UCLA_CNP_catch24_features.feather')\n",
    "ABIDE_catch24_features.reset_index().to_feather('data/time_series_features/ABIDE_catch24_features.feather')"
   ]
  }
 ],
 "metadata": {
  "kernelspec": {
   "display_name": "pyspi",
   "language": "python",
   "name": "python3"
  },
  "language_info": {
   "codemirror_mode": {
    "name": "ipython",
    "version": 3
   },
   "file_extension": ".py",
   "mimetype": "text/x-python",
   "name": "python",
   "nbconvert_exporter": "python",
   "pygments_lexer": "ipython3",
   "version": "3.9.0"
  }
 },
 "nbformat": 4,
 "nbformat_minor": 2
}

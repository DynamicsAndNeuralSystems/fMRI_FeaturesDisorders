{
 "cells": [
  {
   "cell_type": "code",
   "execution_count": 5,
   "metadata": {},
   "outputs": [],
   "source": [
    "import os\n",
    "import sys\n",
    "import numpy as np\n",
    "import pandas as pd\n",
    "import os.path\n",
    "\n",
    "data_path=\"/headnode1/abry4213/data/TS_feature_manuscript/\"\n",
    "\n",
    "%load_ext rpy2.ipython"
   ]
  },
  {
   "cell_type": "code",
   "execution_count": null,
   "metadata": {},
   "outputs": [],
   "source": [
    "%%R\n",
    "# Load tidyverse R package\n",
    "suppressPackageStartupMessages({\n",
    "    library(tidyverse)\n",
    "    library(see)\n",
    "    library(cowplot)\n",
    "    theme_set(theme_cowplot())\n",
    "})"
   ]
  },
  {
   "cell_type": "code",
   "execution_count": 12,
   "metadata": {},
   "outputs": [],
   "source": [
    "if not os.path.isfile(f\"{data_path}/time_series_features/ABIDE_pyspi14_mean_FC.feather\"):\n",
    "    # Load pyspi14 data for UCLA CNP and ABIDE\n",
    "    UCLA_CNP_pyspi14 = pd.read_feather(f\"{data_path}/time_series_features/UCLA_CNP_pyspi14_filtered.feather\")\n",
    "    ABIDE_pyspi14 = pd.read_feather(f\"{data_path}/time_series_features/ABIDE_pyspi14_filtered.feather\")\n",
    "\n",
    "    # Take the mean value per SPI by Sample_ID\n",
    "    UCLA_CNP_pyspi14_mean = UCLA_CNP_pyspi14.groupby([\"Sample_ID\", \"SPI\"])[\"value\"].mean().reset_index()\n",
    "    ABIDE_pyspi14_mean = ABIDE_pyspi14.groupby([\"Sample_ID\", \"SPI\"])[\"value\"].mean().reset_index()\n",
    "\n",
    "    # Save results to feather files\n",
    "    UCLA_CNP_pyspi14_mean.to_feather(f\"{data_path}/time_series_features/UCLA_CNP_pyspi14_mean_FC.feather\")\n",
    "    ABIDE_pyspi14_mean.to_feather(f\"{data_path}/time_series_features/ABIDE_pyspi14_mean_FC.feather\")\n",
    "else:\n",
    "    UCLA_CNP_pyspi14_mean = pd.read_feather(f\"{data_path}/time_series_features/UCLA_CNP_pyspi14_mean_FC.feather\")\n",
    "    ABIDE_pyspi14_mean = pd.read_feather(f\"{data_path}/time_series_features/ABIDE_pyspi14_mean_FC.feather\")"
   ]
  }
 ],
 "metadata": {
  "kernelspec": {
   "display_name": "annie_env",
   "language": "python",
   "name": "python3"
  },
  "language_info": {
   "codemirror_mode": {
    "name": "ipython",
    "version": 3
   },
   "file_extension": ".py",
   "mimetype": "text/x-python",
   "name": "python",
   "nbconvert_exporter": "python",
   "pygments_lexer": "ipython3",
   "version": "3.9.13"
  }
 },
 "nbformat": 4,
 "nbformat_minor": 2
}

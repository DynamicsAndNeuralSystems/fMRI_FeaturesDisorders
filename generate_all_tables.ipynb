{
 "cells": [
  {
   "cell_type": "code",
   "execution_count": 1,
   "metadata": {},
   "outputs": [],
   "source": [
    "import os\n",
    "import numpy as np\n",
    "import pandas as pd\n",
    "from scipy.stats import pearsonr, spearmanr\n",
    "from statsmodels.stats.multitest import multipletests\n",
    "\n",
    "%load_ext rpy2.ipython"
   ]
  },
  {
   "cell_type": "markdown",
   "metadata": {},
   "source": [
    "## Load R Packages"
   ]
  },
  {
   "cell_type": "code",
   "execution_count": 2,
   "metadata": {},
   "outputs": [],
   "source": [
    "%%R \n",
    "\n",
    "suppressPackageStartupMessages({\n",
    "    library(broom)\n",
    "    library(rlist)\n",
    "    library(rstatix)\n",
    "    library(tidyverse)\n",
    "})"
   ]
  },
  {
   "cell_type": "markdown",
   "metadata": {},
   "source": [
    "## Load data needed for this analysis"
   ]
  },
  {
   "cell_type": "code",
   "execution_count": 3,
   "metadata": {},
   "outputs": [],
   "source": [
    "# Load information about the time-series features\n",
    "univariate_TS_feature_info = pd.read_csv(\"data/feature_info/univariate_feature_info.csv\")\n",
    "pairwise_TS_feature_info = pd.read_csv(\"data/feature_info/pairwise_feature_info.csv\").sort_values(by=['Directed'])\n",
    "\n",
    "# Define SVM kernel type\n",
    "SVM_kernel = \"Linear\"\n",
    "\n",
    "# Name the feature sets\n",
    "univariate_feature_set = \"catch25\"\n",
    "pairwise_feature_set = \"pyspi14\"\n",
    "\n",
    "# Load participants included\n",
    "UCLA_CNP_subjects_to_keep = pd.read_feather(\"data/time_series_features/UCLA_CNP_filtered_sample_info_catch25_pyspi14.feather\")\n",
    "ABIDE_subjects_to_keep = pd.read_feather(\"data/time_series_features/ABIDE_filtered_sample_info_catch25_pyspi14.feather\")\n",
    "\n",
    "# Load metadata\n",
    "UCLA_CNP_metadata = (pd.read_feather(\"data/input_data/UCLA_CNP_sample_metadata.feather\")\n",
    "                        .assign(Study = \"UCLA_CNP\")\n",
    "                        .query(\"Sample_ID in @UCLA_CNP_subjects_to_keep.Sample_ID\"))\n",
    "ABIDE_metadata = (pd.read_feather(\"data/input_data/ABIDE_sample_metadata.feather\")\n",
    "                        .assign(Study = \"ABIDE\")\n",
    "                        .query(\"Sample_ID in @ABIDE_subjects_to_keep.Sample_ID\"))\n",
    "\n",
    "# Load head movement \n",
    "UCLA_CNP_head_mvmt = (pd.read_table('data/movement_data/UCLA_CNP_Mean_FD_Power.txt', sep=',')\n",
    "                      .assign(Study = \"UCLA_CNP\")\n",
    "                        .query(\"Sample_ID in @UCLA_CNP_subjects_to_keep.Sample_ID\"))\n",
    "ABIDE_head_mvmt = (pd.read_table('data/movement_data/ABIDE_Mean_FD_Power.txt', sep=',', dtype={'Sample_ID': str,\n",
    "                                                                                              'Mean_FD_Power': float})\n",
    "                   .assign(Study = \"ABIDE\")\n",
    "                        .query(\"Sample_ID in @ABIDE_subjects_to_keep.Sample_ID\"))\n",
    "\n",
    "# Merge metadata + head movement\n",
    "merged_metadata = pd.concat([UCLA_CNP_metadata, ABIDE_metadata], axis=0).merge(pd.concat([UCLA_CNP_head_mvmt, ABIDE_head_mvmt], axis=0))\n",
    "\n",
    "# Load all results\n",
    "univariate_balanced_accuracy_results = pd.read_feather('data/classification_results/univariate_balanced_accuracy_results.feather')\n",
    "univariate_balanced_accuracy_results_all_folds = pd.read_feather('data/classification_results/univariate_balanced_accuracy_results_all_folds.feather')\n",
    "univariate_p_values = pd.read_feather('data/classification_results/univariate_p_values.feather')\n",
    "\n",
    "pairwise_balanced_accuracy_results = pd.read_feather('data/classification_results/pairwise_balanced_accuracy_results.feather')\n",
    "pairwise_balanced_accuracy_results_all_folds = pd.read_feather('data/classification_results/pairwise_balanced_accuracy_results_all_folds.feather')\n",
    "pairwise_p_values = pd.read_feather('data/classification_results/pairwise_p_values.feather')\n",
    "\n",
    "combined_univariate_pairwise_balanced_accuracy_results = pd.read_feather('data/classification_results/combined_univariate_pairwise_balanced_accuracy_results.feather')\n",
    "combined_univariate_pairwise_balanced_accuracy_results_all_folds = pd.read_feather('data/classification_results/combined_univariate_pairwise_balanced_accuracy_results_all_folds.feather')\n",
    "combined_univariate_pairwise_p_values = pd.read_feather('data/classification_results/combined_univariate_pairwise_p_values.feather')\n",
    "\n",
    "# Combine balanced accuracy results \n",
    "all_balanced_accuracy_results = pd.concat([univariate_balanced_accuracy_results, pairwise_balanced_accuracy_results, combined_univariate_pairwise_balanced_accuracy_results], axis=0)\n",
    "\n",
    "# Load null distributions\n",
    "univariate_null_distribution = pd.read_feather('data/classification_results/univariate_null_balanced_accuracy_distribution.feather')\n",
    "pairwise_null_distribution = pd.read_feather('data/classification_results/pairwise_null_balanced_accuracy_distribution.feather')\n",
    "combined_univariate_pairwise_null_distribution = pd.read_feather('data/classification_results/combined_univariate_pairwise_null_balanced_accuracy_distribution.feather')\n",
    "\n",
    "# Load confound balanced accuracy \n",
    "confounds_balanced_accuracy_results = pd.read_feather('data/classification_results/confound_analysis/confounds_predicting_dx_balanced_accuracy_results.feather')\n",
    "confounds_balanced_accuracy_results_all_folds = pd.read_feather('data/classification_results/confound_analysis/confounds_predicting_dx_balanced_accuracy_results_all_folds.feather')\n",
    "time_series_features_predicting_confounds_score_results = pd.read_feather('data/classification_results/confound_analysis/time_series_features_predicting_confounds_score_results.feather')\n",
    "\n",
    "# Load training balanced accuracy results \n",
    "training_balanced_accuracy_results = pd.read_feather(\"data/classification_results/robustness_analysis/all_training_balacc_results.feather\")\n",
    "\n",
    "# Load first 25 PCs for univariate combo data\n",
    "univariate_combo_first_25_PCs = pd.read_feather(\"data/time_series_features/univariate_combo_first25_PCs.feather\")\n",
    "univariate_combo_first_25_PCs_classification_res = pd.read_feather(\"data/classification_results/robustness_analysis/All_univariate_combo_first_25_PCs_classification_res.feather\")\n",
    "univariate_combo_L1_regularized_classification_res = pd.read_feather(\"data/classification_results/robustness_analysis/All_univariate_combo_L1_regularized_linear_SVM_classification_res.feather\")\n",
    "\n",
    "# ABIDE ASD site-specific results for sites 20 and 5\n",
    "ABIDE_site_specific_results = pd.read_feather(\"data/classification_results/robustness_analysis/ABIDE_site_specific_balanced_accuracy.feather\")\n",
    "\n",
    "# Age + sex classification results \n",
    "age_sex_feature_model_results = pd.read_feather(\"data/classification_results/confound_analysis/feature_based_models_with_age_and_sex_main_classification_res.feather\")\n",
    "\n",
    "# Read in results for (1) classifier choice and (2) nested cross-validation comparison \n",
    "classifier_type_classification_res = pd.read_feather(\"data/classification_results/robustness_analysis/all_classifier_types_results.feather\")\n",
    "nested_CV_classification_res = pd.read_feather(\"data/classification_results/robustness_analysis/all_nested_CV_results.feather\")\n",
    "\n",
    "# Load in the region-wise volumes data\n",
    "UCLA_CNP_region_wise_volumes = pd.read_feather(\"data/input_data/UCLA_CNP_region_wise_volumes.feather\")\n",
    "\n",
    "# Study/disorder lookup table\n",
    "study_disorder_lookup = {'SCZ': 'UCLA_CNP', \n",
    "                          'BP': 'UCLA_CNP', \n",
    "                          'ADHD': 'UCLA_CNP', \n",
    "                          'ASD': 'ABIDE'}\n",
    "\n",
    "ABIDE_brain_region_info = pd.read_excel(\"data/input_data/ABIDE_Brain_Region_info.xlsx\")"
   ]
  },
  {
   "cell_type": "code",
   "execution_count": 4,
   "metadata": {},
   "outputs": [],
   "source": [
    "%%R -o study_group_df,UCLA_CNP_brain_region_info,aparc_aseg_LUT\n",
    "\n",
    "# Load brain region info\n",
    "UCLA_CNP_brain_region_info <- read.csv(\"data/input_data/UCLA_CNP_Brain_Region_info.csv\")  %>%\n",
    "  rowwise() %>%\n",
    "    mutate(Hemisphere = ifelse(str_detect(Brain_Region, \"ctx-lh|Left-\"), \"L\", \"R\"),\n",
    "            Region_Only = gsub(\"ctx-lh-|ctx-rh-|Left-|Right-\", \"\", Brain_Region)) %>%\n",
    "    mutate(Figure_Name = paste0(Hemisphere, \" \", Region_Only), .keep=\"unused\")\n",
    "\n",
    "aparc_aseg_LUT <- read.table(\"data/input_data/FreeSurferLUT.txt\",\n",
    "                             header=T) %>%\n",
    "  dplyr::rename(\"ROI_Index\" = \"Value\")\n",
    "\n",
    "# Compile a study lookup table\n",
    "study_group_df <- data.frame(Study = c(rep(\"UCLA_CNP\", 3), \"ABIDE\"),\n",
    "                              Disorder = c(\"SCZ\", \"BP\", \"ADHD\", \"ASD\"))"
   ]
  },
  {
   "cell_type": "markdown",
   "metadata": {},
   "source": [
    "## Table S1: Brain region classification results"
   ]
  },
  {
   "cell_type": "code",
   "execution_count": 8,
   "metadata": {},
   "outputs": [],
   "source": [
    "%%R -i univariate_p_values\n",
    "# Save the resulting significant region performance to a CSV file\n",
    "univariate_p_values %>%\n",
    "  filter(Analysis_Type==\"Brain_Region\") %>%\n",
    "  dplyr::select(Disorder, group_var, p_value, p_value_BenjaminiHochberg, Balanced_Accuracy, Balanced_Accuracy_SD) %>%\n",
    "  dplyr::rename(\"Brain Region\" = \"group_var\") %>%\n",
    "  mutate(Balanced_Accuracy = round(100*Balanced_Accuracy,1),\n",
    "         Balanced_Accuracy_SD = round(100*Balanced_Accuracy_SD,1),\n",
    "         p_value = format(p_value, digits=1),\n",
    "         p_value_BenjaminiHochberg = format(p_value_BenjaminiHochberg, digits=1)) %>%\n",
    "  dplyr::rename(\"Balanced Accuracy\" = \"Balanced_Accuracy\",\n",
    "                \"SD\" = \"Balanced_Accuracy_SD\",\n",
    "                \"p-value\" = \"p_value\",\n",
    "                \"Benjamini--Hochberg p-value\" = \"p_value_BenjaminiHochberg\") %>%\n",
    "  mutate(Disorder = factor(Disorder, levels = c(\"SCZ\", \"BP\", \"ADHD\", \"ASD\"))) %>%\n",
    "  ungroup() %>%\n",
    "  arrange(Disorder, desc(`Balanced Accuracy`)) %>%\n",
    "  dplyr::select(Disorder, `Brain Region`, `Balanced Accuracy`, `SD`, `p-value`, `Benjamini--Hochberg p-value`) %>%\n",
    "  write.csv(., \"tables/Table_S1_univariate_brain_region_wise_results.csv\", row.names = F)"
   ]
  },
  {
   "cell_type": "markdown",
   "metadata": {},
   "source": [
    "## Table S2: ABIDE site-specific results"
   ]
  },
  {
   "cell_type": "code",
   "execution_count": 13,
   "metadata": {},
   "outputs": [],
   "source": [
    "%%R -i ABIDE_site_specific_results\n",
    "\n",
    "ABIDE_site_specific_results %>% \n",
    "    dplyr::select(Site_Number, Analysis_Type, group_var, Balanced_Accuracy, Balanced_Accuracy_SD) %>%\n",
    "    mutate(Balanced_Accuracy = round(100*Balanced_Accuracy,1),\n",
    "           Balanced_Accuracy_SD = round(100*Balanced_Accuracy_SD,1)) %>%\n",
    "    rename(\"Analysis\" = \"Analysis_Type\", \n",
    "           \"Model\" = \"group_var\",\n",
    "           \"Balanced Accuracy\" = \"Balanced_Accuracy\",\n",
    "           \"SD\" = \"Balanced_Accuracy_SD\") %>% \n",
    "    write.csv(., \"tables/Table_S2_ABIDE_site_specific_results.csv\", row.names = F)"
   ]
  },
  {
   "cell_type": "markdown",
   "metadata": {},
   "source": [
    "## Table S3: Gray matter volume analyses"
   ]
  },
  {
   "cell_type": "code",
   "execution_count": 46,
   "metadata": {},
   "outputs": [
    {
     "name": "stdout",
     "output_type": "stream",
     "text": [
      "Joining with `by = join_by(Study, Sample_ID)`\n",
      "`summarise()` has grouped output by 'Diagnosis'. You can override using the\n",
      "`.groups` argument.\n",
      "Joining with `by = join_by(Brain_Region, Disorder)`\n"
     ]
    }
   ],
   "source": [
    "%%R -i UCLA_CNP_region_wise_volumes,UCLA_CNP_metadata -o ROI_volume_beta_by_group\n",
    "\n",
    "# Find mean volume by disorder \n",
    "mean_volume_by_diagnosis <- UCLA_CNP_region_wise_volumes %>% \n",
    "    left_join(., UCLA_CNP_metadata) %>% \n",
    "    group_by(Diagnosis, Brain_Region) %>%\n",
    "    summarise(Mean_Volume = mean(Num_Voxels, na.rm=T)) %>% \n",
    "    group_by(Brain_Region) %>% \n",
    "    mutate(Control_Volume = mean(Mean_Volume[Diagnosis==\"Control\"], na.rm=T)) %>% \n",
    "    filter(Diagnosis != \"Control\") %>%\n",
    "    dplyr::rename(\"Disorder_Volume\" = \"Mean_Volume\",\n",
    "                  \"Disorder\" = \"Diagnosis\")\n",
    "\n",
    "# Fit OLS models to extract beta coefficient for regional volumes in each group relative to control\n",
    "run_lm_beta_stats_for_group <- function(Disorder, region_wise_volumes){\n",
    "  res <- region_wise_volumes %>%\n",
    "    left_join(., UCLA_CNP_metadata, by = join_by(Study, Sample_ID)) %>%\n",
    "    mutate(Diagnosis = case_when(Diagnosis == \"Schizophrenia\" ~ \"SCZ\",\n",
    "                                 Diagnosis == \"Bipolar\" ~ \"BP\",\n",
    "                                 T ~ Diagnosis)) %>%\n",
    "    filter(Diagnosis %in% c(Disorder, \"Control\")) %>%\n",
    "    dplyr::select(Brain_Region, Diagnosis, Num_Voxels) %>%\n",
    "    mutate(Diagnosis = factor(Diagnosis, levels = c(\"Control\", Disorder))) %>%\n",
    "    group_by(Brain_Region) %>%\n",
    "    nest() %>%\n",
    "    mutate(\n",
    "      fit = map(data, ~ lm(Num_Voxels ~ Diagnosis, data = .x)),\n",
    "      tidied = map(fit, tidy)\n",
    "    ) %>% \n",
    "    unnest(tidied) %>%\n",
    "    dplyr::select(-data, -fit) %>%\n",
    "    ungroup() %>%\n",
    "    filter(term != \"(Intercept)\") %>%\n",
    "    mutate(Disorder = Disorder)\n",
    "  \n",
    "  return(res)\n",
    "}\n",
    "\n",
    "ROI_volume_beta_by_group <- 1:3 %>%\n",
    "  purrr::map_df(~ run_lm_beta_stats_for_group(region_wise_volumes = UCLA_CNP_region_wise_volumes,\n",
    "                                              Disorder = study_group_df$Disorder[.x])) %>%\n",
    "  group_by(Disorder) %>%\n",
    "  mutate(p_value_BenjaminiHochberg = p.adjust(p.value, method=\"BH\"))  %>%\n",
    "  ungroup() %>%\n",
    "  left_join(., mean_volume_by_diagnosis) %>%\n",
    "  mutate(estimate = round(estimate,1),\n",
    "         p_value = format(p.value, digits=1),\n",
    "         p_value_BenjaminiHochberg = format(p_value_BenjaminiHochberg, digits=1),\n",
    "         Disorder_Volume = format(Disorder_Volume, digits=1),\n",
    "         Control_Volume = format(Control_Volume, digits=1)) %>%\n",
    "  dplyr::select(Disorder, Brain_Region, Control_Volume, Disorder_Volume, estimate, p_value, p_value_BenjaminiHochberg) %>%\n",
    "  dplyr::rename(\"Brain Region\" = \"Brain_Region\",\n",
    "                \"Control Volume\" = \"Control_Volume\",\n",
    "                \"Disorder Volume\" = \"Disorder_Volume\",\n",
    "                \"beta\" = \"estimate\",\n",
    "                \"p-value\" = \"p_value\",\n",
    "                \"Benjamini--Hochberg p-value\" = \"p_value_BenjaminiHochberg\") %>%\n",
    "  write.csv(., \"tables/Table_S3_region_volume_differences.csv\", row.names = F)"
   ]
  },
  {
   "cell_type": "markdown",
   "metadata": {},
   "source": [
    "## Table S4: Classification performance with age + sex alone per disorder"
   ]
  },
  {
   "cell_type": "code",
   "execution_count": 51,
   "metadata": {},
   "outputs": [],
   "source": [
    "%%R -i confounds_balanced_accuracy_results\n",
    "\n",
    "confounds_balanced_accuracy_results %>%\n",
    "    filter(Analysis_Type == \"Age\") %>%   \n",
    "    mutate(Balanced_Accuracy = round(100*Balanced_Accuracy,1),\n",
    "           Balanced_Accuracy_SD = round(100*Balanced_Accuracy_SD,1)) %>%\n",
    "    dplyr::select(Study, Disorder, Analysis_Type, Balanced_Accuracy, Balanced_Accuracy_SD) %>% \n",
    "    rename(\"Analysis\" = \"Analysis_Type\", \n",
    "           \"Balanced Accuracy\" = \"Balanced_Accuracy\",\n",
    "           \"SD\" = \"Balanced_Accuracy_SD\") %>% \n",
    "    write.csv(., \"tables/Table_S4_Age_classification_results.csv\", row.names = F)"
   ]
  },
  {
   "cell_type": "markdown",
   "metadata": {},
   "source": [
    "## Table S5: Age+sex, BOLD feature, Age+sex+BOLD feature classification results"
   ]
  },
  {
   "cell_type": "code",
   "execution_count": 28,
   "metadata": {},
   "outputs": [
    {
     "name": "stdout",
     "output_type": "stream",
     "text": [
      "Joining with `by = join_by(group_var, Analysis_Type, Disorder, Study)`\n",
      "Joining with `by = join_by(Disorder, Study)`\n",
      "Joining with `by = join_by(feature_name)`\n"
     ]
    },
    {
     "name": "stderr",
     "output_type": "stream",
     "text": [
      "/Users/abry4213/anaconda3/envs/annie_env/lib/python3.9/site-packages/rpy2/robjects/pandas2ri.py:56: UserWarning: DataFrame contains duplicated elements in the index, which will lead to loss of the row names in the resulting data.frame\n",
      "  warnings.warn('DataFrame contains duplicated elements in the index, '\n"
     ]
    }
   ],
   "source": [
    "%%R -i univariate_TS_feature_info,all_balanced_accuracy_results,confounds_balanced_accuracy_results,age_sex_feature_model_results\n",
    "\n",
    "all_balanced_accuracy_results_here <- all_balanced_accuracy_results %>% \n",
    "    dplyr::rename(\"Features_Only\" = \"Balanced_Accuracy\") %>%\n",
    "    dplyr::select(group_var, Analysis_Type, Disorder, Study, Features_Only)\n",
    "\n",
    "age_sex_balanced_accuracy_results_here <- confounds_balanced_accuracy_results %>% \n",
    "    filter(Analysis_Type == \"Age And Sex\") %>% \n",
    "    dplyr::rename(\"Age_Sex_Only\" = \"Balanced_Accuracy\") %>%\n",
    "    dplyr::select(Disorder, Study, Age_Sex_Only)\n",
    "\n",
    "age_sex_feature_model_results_here <- age_sex_feature_model_results  %>% \n",
    "    dplyr::rename(\"Age_Sex_and_Features\" = \"Balanced_Accuracy\")  %>%\n",
    "    dplyr::select(group_var, Disorder, Analysis_Type, Study, Age_Sex_and_Features)\n",
    "\n",
    "all_models_combined_here <- left_join(all_balanced_accuracy_results_here,\n",
    "                                      age_sex_feature_model_results_here) %>% \n",
    "                                left_join(., age_sex_balanced_accuracy_results_here)\n",
    "\n",
    "# Write the CSV\n",
    "all_models_combined_here %>% \n",
    "    dplyr::rename(\"feature_name\" = \"group_var\") %>% \n",
    "    left_join(., univariate_TS_feature_info) %>% \n",
    "    dplyr::mutate(group_var = ifelse(is.na(Figure_name), feature_name, Figure_name)) %>% \n",
    "    pivot_longer(cols=c(Features_Only, Age_Sex_Only, Age_Sex_and_Features), \n",
    "                 names_to = \"Model_Type\", values_to=\"Balanced_Accuracy\") %>% \n",
    "    mutate(Model_Type = factor(Model_Type, levels = c(\"Age_Sex_Only\", \"Features_Only\", \"Age_Sex_and_Features\")),\n",
    "           Disorder = factor(Disorder, levels = c(\"SCZ\", \"BP\", \"ADHD\", \"ASD\")),\n",
    "           Analysis_Type = factor(Analysis_Type, levels = c(\"Brain_Region\", \"catch25_feature\", \n",
    "                                                            \"Univariate_Combo\", \"SPI\", \"SPI_Combo\"))) %>% \n",
    "    mutate(Balanced_Accuracy = round(100*Balanced_Accuracy,1)) %>%\n",
    "    pivot_wider(id_cols = c(Study, Disorder, Analysis_Type, group_var),\n",
    "                names_from = Model_Type, values_from = Balanced_Accuracy) %>% \n",
    "    dplyr::select(Study, Disorder, Analysis_Type, group_var, Age_Sex_Only, Features_Only, Age_Sex_and_Features) %>% \n",
    "    dplyr::rename(\"Age and Sex\" = \"Age_Sex_Only\", \n",
    "                  \"BOLD Features\" = \"Features_Only\",\n",
    "                  \"Age, Sex, and BOLD Features\" = \"Age_Sex_and_Features\",\n",
    "                  \"Model name\" = \"group_var\",\n",
    "                  \"Analysis\" = \"Analysis_Type\") %>% \n",
    "    write.csv(\"tables/Table_S5_Age_sex_BOLD_feature_classification_results.csv\", row.names = F)"
   ]
  },
  {
   "cell_type": "markdown",
   "metadata": {},
   "source": [
    "## Table S6: Univariate time-series feature classification results"
   ]
  },
  {
   "cell_type": "code",
   "execution_count": 16,
   "metadata": {},
   "outputs": [
    {
     "name": "stdout",
     "output_type": "stream",
     "text": [
      "Joining with `by = join_by(feature_name)`\n"
     ]
    }
   ],
   "source": [
    "%%R -i univariate_p_values,univariate_TS_feature_info\n",
    "# Save the resulting significant region performance to a CSV file\n",
    "univariate_p_values %>%\n",
    "  filter(Analysis_Type==\"catch25_feature\") %>%\n",
    "  dplyr::select(Disorder, group_var, p_value, p_value_BenjaminiHochberg, Balanced_Accuracy, Balanced_Accuracy_SD) %>%\n",
    "  dplyr::rename(\"feature_name\" = \"group_var\") %>%\n",
    "  left_join(., univariate_TS_feature_info) %>%\n",
    "  dplyr::rename(\"Time-series feature\" = \"Figure_name\") %>%\n",
    "  mutate(Balanced_Accuracy = round(100*Balanced_Accuracy,1),\n",
    "         Balanced_Accuracy_SD = round(100*Balanced_Accuracy_SD,1),\n",
    "         p_value = format(p_value, digits=1),\n",
    "         p_value_BenjaminiHochberg = format(p_value_BenjaminiHochberg, digits=1)) %>%\n",
    "  dplyr::rename(\"Balanced Accuracy\" = \"Balanced_Accuracy\",\n",
    "                \"SD\" = \"Balanced_Accuracy_SD\",\n",
    "                \"p-value\" = \"p_value\",\n",
    "                \"Benjamini--Hochberg p-value\" = \"p_value_BenjaminiHochberg\") %>%\n",
    "  mutate(Disorder = factor(Disorder, levels = c(\"SCZ\", \"BP\", \"ADHD\", \"ASD\"))) %>%\n",
    "  ungroup() %>%\n",
    "  arrange(Disorder, desc(`Balanced Accuracy`)) %>%\n",
    "  dplyr::select(Disorder, `Time-series feature`, `Balanced Accuracy`, `SD`, `p-value`, `Benjamini--Hochberg p-value`) %>%\n",
    "  write.csv(., \"tables/Table_S6_univariate_time_series_feature_wise_results.csv\", row.names = F)"
   ]
  },
  {
   "cell_type": "markdown",
   "metadata": {},
   "source": [
    "## Table S7: catch25 feature similarity indices"
   ]
  },
  {
   "cell_type": "code",
   "execution_count": 23,
   "metadata": {},
   "outputs": [],
   "source": [
    "data_for_corr_long = pd.read_csv(\"tables/catch25_top_feature_similarity_spearman_corr.csv\")\n",
    "\n",
    "# Save as table S7\n",
    "data_for_corr_long.to_csv(\"tables/Table_S7_univariate_time_series_spearman_correlation.csv\", index=False)"
   ]
  },
  {
   "cell_type": "markdown",
   "metadata": {},
   "source": [
    "## Table S8: Comparing head movement between each disorder and controls"
   ]
  },
  {
   "cell_type": "code",
   "execution_count": 32,
   "metadata": {},
   "outputs": [
    {
     "name": "stderr",
     "output_type": "stream",
     "text": [
      "/Users/abry4213/anaconda3/envs/annie_env/lib/python3.9/site-packages/rpy2/robjects/pandas2ri.py:65: UserWarning: Error while trying to convert the column \"Site\". Fall back to string conversion. The error is: Series can only be of one type, or None (and here we have <class 'float'> and <class 'str'>). If happening with a pandas DataFrame the method infer_objects() will normalize data types before conversion.\n",
      "  warnings.warn('Error while trying to convert '\n"
     ]
    }
   ],
   "source": [
    "%%R -i merged_metadata,study_group_df -o age_res_df,mean_FD_res_df,sex_res_df\n",
    "\n",
    "mean_FD_res_list <- list()\n",
    "\n",
    "for (i in 1:nrow(study_group_df)) {\n",
    "  disorder <- study_group_df$Disorder[i]\n",
    "  study <- study_group_df$Study[i]\n",
    "  disorder_ctrl_data <- merged_metadata %>%\n",
    "    filter(Diagnosis %in% c(\"Control\", disorder) & Study == study)\n",
    "\n",
    "  disorder_mean_FD_res <- disorder_ctrl_data %>%\n",
    "    wilcox_test(Mean_FD_Power ~ Diagnosis) %>% \n",
    "    mutate(Disorder = disorder, Study = study, Test = \"Mean_FD_Power\", \n",
    "           Asterisk = case_when(p < 0.001 ~ \"***\",\n",
    "                                p < 0.01 ~ \"**\", \n",
    "                                p < 0.05 ~ \"*\", \n",
    "                                T ~ \"\"))\n",
    "  mean_FD_res_list <- list.append(mean_FD_res_list, disorder_mean_FD_res)\n",
    "}\n",
    "\n",
    "# Combine the results\n",
    "mean_FD_res_df <- do.call(rbind, mean_FD_res_list)\n",
    "mean_FD_res_df %>% \n",
    "  dplyr::select(Disorder, Study, statistic, p) %>% \n",
    "  mutate(p = format(p, digits=1)) %>%\n",
    "  dplyr::rename(\"Wilcoxon rank-sum statistic\" = \"statistic\", \n",
    "                \"P-value\" = \"p\") %>% \n",
    "  write.csv(., \"tables/Table_S8_Mean_FD_Power_comparisons.csv\", row.names = F)"
   ]
  },
  {
   "cell_type": "markdown",
   "metadata": {},
   "source": [
    "## Table S9: Brain-wide SD values and mean FD_Power per participant"
   ]
  },
  {
   "cell_type": "code",
   "execution_count": 43,
   "metadata": {},
   "outputs": [],
   "source": [
    "merged_regional_SD = pd.read_feather(\"data/time_series_features/Merged_Regional_SD_values.feather\")\n",
    "                                 \n",
    "whole_brain_avg_SD = (merged_regional_SD.groupby(['Sample_ID', 'Study', 'Diagnosis'], as_index=False)\n",
    "                      .agg(Mean_BOLD_SD = ('values', 'mean'))\n",
    "                      .merge(merged_metadata))"
   ]
  },
  {
   "cell_type": "code",
   "execution_count": 42,
   "metadata": {},
   "outputs": [],
   "source": [
    "%%R -i whole_brain_avg_SD\n",
    "\n",
    "whole_brain_avg_SD %>% \n",
    "    arrange(Study, Diagnosis) %>%\n",
    "    dplyr::select(Study, Diagnosis, Sample_ID, Mean_BOLD_SD, Mean_FD_Power) %>% \n",
    "    mutate(Mean_BOLD_SD = round(Mean_BOLD_SD, 2),\n",
    "           Mean_FD_Power = round(Mean_FD_Power, 2)) %>%\n",
    "    dplyr::rename(\"Whole-brain BOLD SD\" = \"Mean_BOLD_SD\", \n",
    "                  \"Whole-brain framewise displacement (mm)\" = \"Mean_FD_Power\") %>%\n",
    "    write.csv(\"tables/Table_S9_Brain_wide_SD_vs_mean_FD.csv\", row.names=F)"
   ]
  },
  {
   "cell_type": "markdown",
   "metadata": {},
   "source": [
    "## Table S10: Region-wise correlation coefficients between BOLD SD and mean FD"
   ]
  },
  {
   "cell_type": "code",
   "execution_count": 45,
   "metadata": {},
   "outputs": [],
   "source": [
    "region_SD_mean_FD_corrs_list = []\n",
    "\n",
    "for disorder in [\"SCZ\", \"ASD\"]: \n",
    "    study = study_disorder_lookup[disorder] \n",
    "\n",
    "    # Individual brain regions\n",
    "    disorder_region_SD_values = (merged_regional_SD\n",
    "                            .query(\"Diagnosis in ['Control', @disorder] & Study == @study\")\n",
    "                            .merge(merged_metadata))\n",
    "    \n",
    "    region_wise_corrs = (disorder_region_SD_values\n",
    "        .filter([\"Sample_ID\", \"Brain_Region\", \"values\", \"Diagnosis\", \"Study\", \"Mean_FD_Power\"])\n",
    "        .groupby([\"Brain_Region\"])\n",
    "        .apply(lambda x: pearsonr(x[\"values\"], x[\"Mean_FD_Power\"])))\n",
    "\n",
    "    # Convert to DataFrame\n",
    "    region_wise_corrs_df = pd.DataFrame(region_wise_corrs).reset_index()\n",
    "    region_wise_corrs_df[['Pearson_R', 'p_value']] = pd.DataFrame(region_wise_corrs_df[0].tolist(), index=region_wise_corrs_df.index)\n",
    "    region_wise_corrs_df.drop(0, axis=1, inplace=True)\n",
    "\n",
    "    # Assign disorder, study, and corrected p-values \n",
    "    region_wise_corrs_df = (region_wise_corrs_df\n",
    "                            .assign(Disorder=disorder, Study=study, \n",
    "                                    p_value_BenjaminiHochberg=multipletests(region_wise_corrs_df.p_value, method=\"fdr_bh\")[1]))\n",
    "    region_SD_mean_FD_corrs_list.append(region_wise_corrs_df)\n",
    "    \n",
    "region_SD_mean_FD_corrs = pd.concat(region_SD_mean_FD_corrs_list).reset_index()\n"
   ]
  },
  {
   "cell_type": "code",
   "execution_count": 48,
   "metadata": {},
   "outputs": [],
   "source": [
    "%%R -i region_SD_mean_FD_corrs\n",
    "\n",
    "region_SD_mean_FD_corrs %>%\n",
    "    dplyr::select(Study, Disorder, Brain_Region, Pearson_R, p_value, p_value_BenjaminiHochberg) %>%\n",
    "    mutate(Pearson_R = round(Pearson_R, 2),\n",
    "           p_value = format(p_value, digits=1),\n",
    "           p_value_BenjaminiHochberg = format(p_value_BenjaminiHochberg, digits=1)) %>%\n",
    "    dplyr::rename(\"Brain Region\" = \"Brain_Region\",\n",
    "                  \"Pearson R\" = \"Pearson_R\",\n",
    "                  \"p-value\" = \"p_value\",\n",
    "                  \"Benjamini--Hochberg p-value\" = \"p_value_BenjaminiHochberg\") %>% \n",
    "    write.csv(., \"tables/Table_S10_Region_wise_BOLD_SD_and_mean_FD_correlations.csv\", row.names = F)"
   ]
  },
  {
   "cell_type": "markdown",
   "metadata": {},
   "source": [
    "## Table S11: Univariate combo classification results"
   ]
  },
  {
   "cell_type": "code",
   "execution_count": 51,
   "metadata": {},
   "outputs": [],
   "source": [
    "%%R -i univariate_p_values\n",
    "# Save the resulting significant region performance to a CSV file\n",
    "univariate_p_values %>%\n",
    "  filter(Analysis_Type==\"Univariate_Combo\") %>%\n",
    "  dplyr::select(Disorder, p_value, p_value_BenjaminiHochberg, Balanced_Accuracy, Balanced_Accuracy_SD) %>%\n",
    "  mutate(Balanced_Accuracy = round(100*Balanced_Accuracy,1),\n",
    "         Balanced_Accuracy_SD = round(100*Balanced_Accuracy_SD,1),\n",
    "         p_value = format(p_value, digits=1)) %>%\n",
    "  dplyr::rename(\"Balanced Accuracy\" = \"Balanced_Accuracy\",\n",
    "                \"SD\" = \"Balanced_Accuracy_SD\",\n",
    "                \"p-value\" = \"p_value\") %>%\n",
    "  mutate(Disorder = factor(Disorder, levels = c(\"SCZ\", \"BP\", \"ADHD\", \"ASD\"))) %>%\n",
    "  ungroup() %>%\n",
    "  arrange(Disorder, desc(`Balanced Accuracy`)) %>%\n",
    "  dplyr::select(Disorder, `Balanced Accuracy`, `SD`, `p-value`) %>%\n",
    "  write.csv(., \"tables/Table_S11_univariate_combo_results.csv\", row.names = F)"
   ]
  },
  {
   "cell_type": "markdown",
   "metadata": {},
   "source": [
    "## Table S12: Five-classifier robustness analysis comparison"
   ]
  },
  {
   "cell_type": "code",
   "execution_count": 64,
   "metadata": {},
   "outputs": [
    {
     "name": "stdout",
     "output_type": "stream",
     "text": [
      "Joining with `by = join_by(feature_name)`\n"
     ]
    }
   ],
   "source": [
    "%%R -i classifier_type_classification_res \n",
    "\n",
    "classifier_type_classification_res %>%\n",
    "    dplyr::rename(\"feature_name\" = \"group_var\") %>% \n",
    "    left_join(., univariate_TS_feature_info) %>% \n",
    "    dplyr::mutate(group_var = ifelse(is.na(Figure_name), feature_name, Figure_name),\n",
    "                  Balanced_Accuracy = round(100*Balanced_Accuracy, 1),\n",
    "                  Classifier_Type = case_when(Classifier_Type == \"Linear_SVM_sklearn\" ~ \"Linear_SVM\",\n",
    "                                              Classifier_Type == \"Linear_SVM_libsvm\" ~ \"Linear_SVM_L1_regularized\",\n",
    "                                              T ~ Classifier_Type)) %>% \n",
    "    dplyr::select(Study, Disorder, Analysis_Type, group_var, Classifier_Type, Balanced_Accuracy) %>%\n",
    "    pivot_wider(id_cols=c(Study,Disorder,Analysis_Type,group_var), \n",
    "                names_from=Classifier_Type, values_from=Balanced_Accuracy) %>%\n",
    "    dplyr::rename(\"Analysis\" = \"Analysis_Type\",\n",
    "                  \"Model\" = \"group_var\") %>%\n",
    "    write.csv(., \"tables/Table_S12_Robustness_classifier_type_results.csv\", row.names=F)"
   ]
  },
  {
   "cell_type": "markdown",
   "metadata": {},
   "source": [
    "## Table S13: Nested CV Analysis"
   ]
  },
  {
   "cell_type": "code",
   "execution_count": 66,
   "metadata": {},
   "outputs": [
    {
     "name": "stdout",
     "output_type": "stream",
     "text": [
      "Joining with `by = join_by(feature_name)`\n"
     ]
    }
   ],
   "source": [
    "%%R -i nested_CV_classification_res,univariate_balanced_accuracy_results \n",
    "\n",
    "nested_CV_classification_res %>%\n",
    "    mutate(Classifier_Type = \"Nested_CV\") %>%\n",
    "    plyr::rbind.fill(., univariate_balanced_accuracy_results %>% mutate(Classifier_Type = \"Regular_CV\")) %>%\n",
    "    dplyr::rename(\"feature_name\" = \"group_var\") %>% \n",
    "    left_join(., univariate_TS_feature_info) %>% \n",
    "    dplyr::mutate(group_var = ifelse(is.na(Figure_name), feature_name, Figure_name),\n",
    "                  Balanced_Accuracy = round(100*Balanced_Accuracy, 1)) %>% \n",
    "    dplyr::select(Study, Disorder, Analysis_Type, group_var, Classifier_Type, Balanced_Accuracy) %>%\n",
    "    pivot_wider(id_cols=c(Study,Disorder,Analysis_Type,group_var), \n",
    "                names_from=Classifier_Type, values_from=Balanced_Accuracy) %>%\n",
    "    dplyr::rename(\"Analysis\" = \"Analysis_Type\",\n",
    "                  \"Model\" = \"group_var\") %>%\n",
    "    write.csv(., \"tables/Table_S13_Nested_CV_comparison_results.csv\", row.names=F)"
   ]
  },
  {
   "cell_type": "markdown",
   "metadata": {},
   "source": [
    "## Table S14: First 25 PCs from uni_combo by disorder"
   ]
  },
  {
   "cell_type": "code",
   "execution_count": 67,
   "metadata": {},
   "outputs": [
    {
     "data": {
      "text/html": [
       "<div>\n",
       "<style scoped>\n",
       "    .dataframe tbody tr th:only-of-type {\n",
       "        vertical-align: middle;\n",
       "    }\n",
       "\n",
       "    .dataframe tbody tr th {\n",
       "        vertical-align: top;\n",
       "    }\n",
       "\n",
       "    .dataframe thead th {\n",
       "        text-align: right;\n",
       "    }\n",
       "</style>\n",
       "<table border=\"1\" class=\"dataframe\">\n",
       "  <thead>\n",
       "    <tr style=\"text-align: right;\">\n",
       "      <th></th>\n",
       "      <th>index</th>\n",
       "      <th>Dim.1</th>\n",
       "      <th>Dim.2</th>\n",
       "      <th>Dim.3</th>\n",
       "      <th>Dim.4</th>\n",
       "      <th>Dim.5</th>\n",
       "      <th>Dim.6</th>\n",
       "      <th>Dim.7</th>\n",
       "      <th>Dim.8</th>\n",
       "      <th>Dim.9</th>\n",
       "      <th>...</th>\n",
       "      <th>Dim.20</th>\n",
       "      <th>Dim.21</th>\n",
       "      <th>Dim.22</th>\n",
       "      <th>Dim.23</th>\n",
       "      <th>Dim.24</th>\n",
       "      <th>Dim.25</th>\n",
       "      <th>Sample_ID</th>\n",
       "      <th>Diagnosis</th>\n",
       "      <th>Disorder</th>\n",
       "      <th>Study</th>\n",
       "    </tr>\n",
       "  </thead>\n",
       "  <tbody>\n",
       "    <tr>\n",
       "      <th>0</th>\n",
       "      <td>Schizophrenia.1</td>\n",
       "      <td>7.763461</td>\n",
       "      <td>-11.992147</td>\n",
       "      <td>-15.470965</td>\n",
       "      <td>-13.912214</td>\n",
       "      <td>5.142571</td>\n",
       "      <td>-2.794405</td>\n",
       "      <td>-0.336542</td>\n",
       "      <td>9.285105</td>\n",
       "      <td>0.535040</td>\n",
       "      <td>...</td>\n",
       "      <td>-0.727008</td>\n",
       "      <td>1.479596</td>\n",
       "      <td>-11.084965</td>\n",
       "      <td>0.484343</td>\n",
       "      <td>1.700665</td>\n",
       "      <td>0.965886</td>\n",
       "      <td>sub-10159</td>\n",
       "      <td>Control</td>\n",
       "      <td>SCZ</td>\n",
       "      <td>UCLA_CNP</td>\n",
       "    </tr>\n",
       "    <tr>\n",
       "      <th>1</th>\n",
       "      <td>Schizophrenia.2</td>\n",
       "      <td>-1.154705</td>\n",
       "      <td>8.355952</td>\n",
       "      <td>12.421492</td>\n",
       "      <td>-1.755694</td>\n",
       "      <td>-0.562015</td>\n",
       "      <td>-5.013665</td>\n",
       "      <td>-0.394382</td>\n",
       "      <td>1.978370</td>\n",
       "      <td>-1.565298</td>\n",
       "      <td>...</td>\n",
       "      <td>-5.366631</td>\n",
       "      <td>4.716936</td>\n",
       "      <td>0.772830</td>\n",
       "      <td>-6.248253</td>\n",
       "      <td>-3.226295</td>\n",
       "      <td>-0.389390</td>\n",
       "      <td>sub-10171</td>\n",
       "      <td>Control</td>\n",
       "      <td>SCZ</td>\n",
       "      <td>UCLA_CNP</td>\n",
       "    </tr>\n",
       "    <tr>\n",
       "      <th>2</th>\n",
       "      <td>Schizophrenia.3</td>\n",
       "      <td>-14.731994</td>\n",
       "      <td>-2.146882</td>\n",
       "      <td>-7.468358</td>\n",
       "      <td>-12.924348</td>\n",
       "      <td>2.766982</td>\n",
       "      <td>6.065319</td>\n",
       "      <td>-9.053134</td>\n",
       "      <td>-3.399242</td>\n",
       "      <td>-2.903294</td>\n",
       "      <td>...</td>\n",
       "      <td>1.674169</td>\n",
       "      <td>-3.610891</td>\n",
       "      <td>-1.230216</td>\n",
       "      <td>-4.783337</td>\n",
       "      <td>-2.207630</td>\n",
       "      <td>3.442107</td>\n",
       "      <td>sub-10189</td>\n",
       "      <td>Control</td>\n",
       "      <td>SCZ</td>\n",
       "      <td>UCLA_CNP</td>\n",
       "    </tr>\n",
       "    <tr>\n",
       "      <th>3</th>\n",
       "      <td>Schizophrenia.4</td>\n",
       "      <td>16.214803</td>\n",
       "      <td>6.741375</td>\n",
       "      <td>-8.986557</td>\n",
       "      <td>-1.938153</td>\n",
       "      <td>2.172430</td>\n",
       "      <td>-11.955224</td>\n",
       "      <td>-7.993688</td>\n",
       "      <td>-2.246972</td>\n",
       "      <td>-2.669048</td>\n",
       "      <td>...</td>\n",
       "      <td>3.664696</td>\n",
       "      <td>-1.308004</td>\n",
       "      <td>0.997495</td>\n",
       "      <td>-6.063672</td>\n",
       "      <td>4.146329</td>\n",
       "      <td>5.984317</td>\n",
       "      <td>sub-10206</td>\n",
       "      <td>Control</td>\n",
       "      <td>SCZ</td>\n",
       "      <td>UCLA_CNP</td>\n",
       "    </tr>\n",
       "    <tr>\n",
       "      <th>4</th>\n",
       "      <td>Schizophrenia.5</td>\n",
       "      <td>15.340841</td>\n",
       "      <td>-6.730533</td>\n",
       "      <td>-3.957819</td>\n",
       "      <td>-9.995718</td>\n",
       "      <td>2.286904</td>\n",
       "      <td>-4.781978</td>\n",
       "      <td>-2.266357</td>\n",
       "      <td>-8.863625</td>\n",
       "      <td>3.900799</td>\n",
       "      <td>...</td>\n",
       "      <td>-0.885412</td>\n",
       "      <td>2.598588</td>\n",
       "      <td>1.778124</td>\n",
       "      <td>0.915183</td>\n",
       "      <td>3.598612</td>\n",
       "      <td>4.443876</td>\n",
       "      <td>sub-10217</td>\n",
       "      <td>Control</td>\n",
       "      <td>SCZ</td>\n",
       "      <td>UCLA_CNP</td>\n",
       "    </tr>\n",
       "  </tbody>\n",
       "</table>\n",
       "<p>5 rows × 30 columns</p>\n",
       "</div>"
      ],
      "text/plain": [
       "             index      Dim.1      Dim.2      Dim.3      Dim.4     Dim.5  \\\n",
       "0  Schizophrenia.1   7.763461 -11.992147 -15.470965 -13.912214  5.142571   \n",
       "1  Schizophrenia.2  -1.154705   8.355952  12.421492  -1.755694 -0.562015   \n",
       "2  Schizophrenia.3 -14.731994  -2.146882  -7.468358 -12.924348  2.766982   \n",
       "3  Schizophrenia.4  16.214803   6.741375  -8.986557  -1.938153  2.172430   \n",
       "4  Schizophrenia.5  15.340841  -6.730533  -3.957819  -9.995718  2.286904   \n",
       "\n",
       "       Dim.6     Dim.7     Dim.8     Dim.9  ...    Dim.20    Dim.21  \\\n",
       "0  -2.794405 -0.336542  9.285105  0.535040  ... -0.727008  1.479596   \n",
       "1  -5.013665 -0.394382  1.978370 -1.565298  ... -5.366631  4.716936   \n",
       "2   6.065319 -9.053134 -3.399242 -2.903294  ...  1.674169 -3.610891   \n",
       "3 -11.955224 -7.993688 -2.246972 -2.669048  ...  3.664696 -1.308004   \n",
       "4  -4.781978 -2.266357 -8.863625  3.900799  ... -0.885412  2.598588   \n",
       "\n",
       "      Dim.22    Dim.23    Dim.24    Dim.25  Sample_ID  Diagnosis  Disorder  \\\n",
       "0 -11.084965  0.484343  1.700665  0.965886  sub-10159    Control       SCZ   \n",
       "1   0.772830 -6.248253 -3.226295 -0.389390  sub-10171    Control       SCZ   \n",
       "2  -1.230216 -4.783337 -2.207630  3.442107  sub-10189    Control       SCZ   \n",
       "3   0.997495 -6.063672  4.146329  5.984317  sub-10206    Control       SCZ   \n",
       "4   1.778124  0.915183  3.598612  4.443876  sub-10217    Control       SCZ   \n",
       "\n",
       "      Study  \n",
       "0  UCLA_CNP  \n",
       "1  UCLA_CNP  \n",
       "2  UCLA_CNP  \n",
       "3  UCLA_CNP  \n",
       "4  UCLA_CNP  \n",
       "\n",
       "[5 rows x 30 columns]"
      ]
     },
     "execution_count": 67,
     "metadata": {},
     "output_type": "execute_result"
    }
   ],
   "source": [
    "univariate_combo_first_25_PCs.head()"
   ]
  },
  {
   "cell_type": "code",
   "execution_count": 70,
   "metadata": {},
   "outputs": [],
   "source": [
    "%%R -i univariate_combo_first_25_PCs\n",
    "\n",
    "univariate_combo_first_25_PCs %>%\n",
    "    dplyr::select(Sample_ID, Study, Diagnosis, `Dim.1`:`Dim.25`) %>% \n",
    "    write.csv(\"tables/Table_S14_univariate_combo_first_25_PCs.csv\", row.names=F)"
   ]
  },
  {
   "cell_type": "markdown",
   "metadata": {},
   "source": [
    "## Table S15: pyspi SPI-wise classification results"
   ]
  },
  {
   "cell_type": "code",
   "execution_count": 72,
   "metadata": {},
   "outputs": [
    {
     "name": "stdout",
     "output_type": "stream",
     "text": [
      "Joining with `by = join_by(pyspi_name)`\n"
     ]
    }
   ],
   "source": [
    "%%R -i pairwise_p_values,pairwise_TS_feature_info\n",
    "# Save the resulting significant region performance to a CSV file\n",
    "pairwise_p_values %>%\n",
    "  dplyr::select(Disorder, group_var, p_value, p_value_BenjaminiHochberg, Balanced_Accuracy, Balanced_Accuracy_SD) %>%\n",
    "  dplyr::rename(\"pyspi_name\" = \"group_var\") %>%\n",
    "  left_join(., pairwise_TS_feature_info) %>%\n",
    "  dplyr::rename(\"SPI\" = \"Figure_name\") %>%\n",
    "  mutate(Balanced_Accuracy = round(100*Balanced_Accuracy,1),\n",
    "         Balanced_Accuracy_SD = round(100*Balanced_Accuracy_SD,1),\n",
    "         p_value = format(p_value, digits=1),\n",
    "         p_value_BenjaminiHochberg = format(p_value_BenjaminiHochberg, digits=1)) %>%\n",
    "  dplyr::rename(\"Balanced Accuracy\" = \"Balanced_Accuracy\",\n",
    "                \"SD\" = \"Balanced_Accuracy_SD\",\n",
    "                \"p-value\" = \"p_value\",\n",
    "                \"Benjamini--Hochberg p-value\" = \"p_value_BenjaminiHochberg\") %>%\n",
    "  mutate(Disorder = factor(Disorder, levels = c(\"SCZ\", \"BP\", \"ADHD\", \"ASD\"))) %>%\n",
    "  ungroup() %>%\n",
    "  arrange(Disorder, desc(`Balanced Accuracy`)) %>%\n",
    "  dplyr::select(Disorder, SPI, `Balanced Accuracy`, `SD`, `p-value`, `Benjamini--Hochberg p-value`) %>%\n",
    "  write.csv(., \"tables/Table_S15_pairwise_SPI_wise_results.csv\", row.names = F)"
   ]
  },
  {
   "cell_type": "markdown",
   "metadata": {},
   "source": [
    "## Table 16: SPI-wise similarity indices"
   ]
  },
  {
   "cell_type": "code",
   "execution_count": 74,
   "metadata": {},
   "outputs": [
    {
     "data": {
      "text/html": [
       "<div>\n",
       "<style scoped>\n",
       "    .dataframe tbody tr th:only-of-type {\n",
       "        vertical-align: middle;\n",
       "    }\n",
       "\n",
       "    .dataframe tbody tr th {\n",
       "        vertical-align: top;\n",
       "    }\n",
       "\n",
       "    .dataframe thead th {\n",
       "        text-align: right;\n",
       "    }\n",
       "</style>\n",
       "<table border=\"1\" class=\"dataframe\">\n",
       "  <thead>\n",
       "    <tr style=\"text-align: right;\">\n",
       "      <th></th>\n",
       "      <th>Unnamed: 0</th>\n",
       "      <th>index</th>\n",
       "      <th>SPI1</th>\n",
       "      <th>SPI2</th>\n",
       "      <th>Spearman_Rho</th>\n",
       "    </tr>\n",
       "  </thead>\n",
       "  <tbody>\n",
       "    <tr>\n",
       "      <th>0</th>\n",
       "      <td>0</td>\n",
       "      <td>0</td>\n",
       "      <td>cohmag_multitaper_mean_fs-1_fmin-0_fmax-0-5</td>\n",
       "      <td>cov_EmpiricalCovariance</td>\n",
       "      <td>0.063558</td>\n",
       "    </tr>\n",
       "    <tr>\n",
       "      <th>1</th>\n",
       "      <td>1</td>\n",
       "      <td>0</td>\n",
       "      <td>cohmag_multitaper_mean_fs-1_fmin-0_fmax-0-5</td>\n",
       "      <td>di_gaussian</td>\n",
       "      <td>0.685875</td>\n",
       "    </tr>\n",
       "    <tr>\n",
       "      <th>2</th>\n",
       "      <td>2</td>\n",
       "      <td>0</td>\n",
       "      <td>cohmag_multitaper_mean_fs-1_fmin-0_fmax-0-5</td>\n",
       "      <td>dtw_constraint-itakura</td>\n",
       "      <td>-0.076110</td>\n",
       "    </tr>\n",
       "    <tr>\n",
       "      <th>3</th>\n",
       "      <td>3</td>\n",
       "      <td>0</td>\n",
       "      <td>cohmag_multitaper_mean_fs-1_fmin-0_fmax-0-5</td>\n",
       "      <td>pec</td>\n",
       "      <td>0.277649</td>\n",
       "    </tr>\n",
       "    <tr>\n",
       "      <th>4</th>\n",
       "      <td>4</td>\n",
       "      <td>0</td>\n",
       "      <td>cohmag_multitaper_mean_fs-1_fmin-0_fmax-0-5</td>\n",
       "      <td>phi_star_t-1_norm-0</td>\n",
       "      <td>0.568166</td>\n",
       "    </tr>\n",
       "  </tbody>\n",
       "</table>\n",
       "</div>"
      ],
      "text/plain": [
       "   Unnamed: 0  index                                         SPI1  \\\n",
       "0           0      0  cohmag_multitaper_mean_fs-1_fmin-0_fmax-0-5   \n",
       "1           1      0  cohmag_multitaper_mean_fs-1_fmin-0_fmax-0-5   \n",
       "2           2      0  cohmag_multitaper_mean_fs-1_fmin-0_fmax-0-5   \n",
       "3           3      0  cohmag_multitaper_mean_fs-1_fmin-0_fmax-0-5   \n",
       "4           4      0  cohmag_multitaper_mean_fs-1_fmin-0_fmax-0-5   \n",
       "\n",
       "                      SPI2  Spearman_Rho  \n",
       "0  cov_EmpiricalCovariance      0.063558  \n",
       "1              di_gaussian      0.685875  \n",
       "2   dtw_constraint-itakura     -0.076110  \n",
       "3                      pec      0.277649  \n",
       "4      phi_star_t-1_norm-0      0.568166  "
      ]
     },
     "execution_count": 74,
     "metadata": {},
     "output_type": "execute_result"
    }
   ],
   "source": [
    "spearman_rho_SPI_df = pd.read_csv(\"data/time_series_features/SPI_performance_correlation_across_disorders.csv\")\n"
   ]
  },
  {
   "cell_type": "code",
   "execution_count": 81,
   "metadata": {},
   "outputs": [],
   "source": [
    "%%R -i spearman_rho_SPI_df \n",
    "\n",
    "spearman_rho_SPI_df %>% \n",
    "    plyr::rbind.fill(., spearman_rho_SPI_df %>% mutate(SPI1_new = SPI2, SPI2_new = SPI1) %>% \n",
    "                            dplyr::select(-SPI1, -SPI2) %>% \n",
    "                            dplyr::rename(\"SPI1\" = \"SPI1_new\",\n",
    "                                          \"SPI2\" = \"SPI2_new\")) %>% \n",
    "    mutate(spearman_abs_corr = round(abs(Spearman_Rho), 2)) %>%\n",
    "    dplyr::select(SPI1, SPI2, spearman_abs_corr) %>% \n",
    "    arrange(SPI1) %>%\n",
    "    dplyr::rename(\"Absolute Spearman correlation\" = \"spearman_abs_corr\") %>%\n",
    "    write.csv(., \"tables/Table_S16_SPI_wise_correlation_across_disorders.csv\", row.names=F)"
   ]
  },
  {
   "cell_type": "markdown",
   "metadata": {},
   "source": [
    "## Table S17: SPI with local univariate dynamics performance"
   ]
  },
  {
   "cell_type": "code",
   "execution_count": 83,
   "metadata": {},
   "outputs": [
    {
     "name": "stdout",
     "output_type": "stream",
     "text": [
      "Joining with `by = join_by(pyspi_name)`\n"
     ]
    }
   ],
   "source": [
    "%%R -i combined_univariate_pairwise_p_values,pairwise_TS_feature_info\n",
    "# Save the resulting significant region performance to a CSV file\n",
    "combined_univariate_pairwise_p_values %>%\n",
    "  dplyr::select(Disorder, group_var, p_value, p_value_BenjaminiHochberg, Balanced_Accuracy, Balanced_Accuracy_SD) %>%\n",
    "  dplyr::rename(\"pyspi_name\" = \"group_var\") %>%\n",
    "  left_join(., pairwise_TS_feature_info) %>%\n",
    "  dplyr::rename(\"SPI\" = \"Figure_name\") %>%\n",
    "  mutate(Balanced_Accuracy = round(100*Balanced_Accuracy,1),\n",
    "         Balanced_Accuracy_SD = round(100*Balanced_Accuracy_SD,1),\n",
    "         p_value = format(p_value, digits=1),\n",
    "         p_value_BenjaminiHochberg = format(p_value_BenjaminiHochberg, digits=1)) %>%\n",
    "  dplyr::rename(\"Balanced Accuracy\" = \"Balanced_Accuracy\",\n",
    "                \"SD\" = \"Balanced_Accuracy_SD\",\n",
    "                \"p-value\" = \"p_value\",\n",
    "                \"Benjamini--Hochberg p-value\" = \"p_value_BenjaminiHochberg\") %>%\n",
    "  mutate(Disorder = factor(Disorder, levels = c(\"SCZ\", \"BP\", \"ADHD\", \"ASD\"))) %>%\n",
    "  ungroup() %>%\n",
    "  dplyr::select(Disorder, SPI, `Balanced Accuracy`, `SD`, `p-value`, `Benjamini--Hochberg p-value`) %>%\n",
    "  write.csv(., \"tables/Table_S17_combined_univariate_pairwise_SPI_wise_results.csv\", row.names = F)"
   ]
  },
  {
   "cell_type": "markdown",
   "metadata": {},
   "source": [
    "## Table S18: Corrected T-statistics comparing how each SPI performs with versus without local univariate dynamics"
   ]
  },
  {
   "cell_type": "code",
   "execution_count": 87,
   "metadata": {},
   "outputs": [
    {
     "name": "stdout",
     "output_type": "stream",
     "text": [
      "[1] \"error for disorder\"\n",
      "[1] \"ADHD\"\n"
     ]
    }
   ],
   "source": [
    "%%R -i pairwise_balanced_accuracy_results_all_folds,combined_univariate_pairwise_balanced_accuracy_results_all_folds,pairwise_p_values,combined_univariate_pairwise_p_values,study_group_df,UCLA_CNP_metadata,ABIDE_metadata,pairwise_TS_feature_info -o corrected_SPI_T_res\n",
    "\n",
    "source(\"/Users/abry4213/github/correctR/R/repkfold_ttest.R\")\n",
    "source(\"code/data_visualization/visualization_helper_functions.R\")\n",
    "\n",
    "results_df = plyr::rbind.fill(pairwise_balanced_accuracy_results_all_folds %>%\n",
    "                                left_join(pairwise_p_values %>%\n",
    "                                dplyr::select(Study, Disorder, group_var, Classifier_Type, Analysis_Type, p_value_BenjaminiHochberg), \n",
    "                                by = join_by(group_var, Analysis_Type, Disorder, Study, Classifier_Type)), \n",
    "                              combined_univariate_pairwise_balanced_accuracy_results_all_folds %>% \n",
    "                              left_join(combined_univariate_pairwise_p_values %>%\n",
    "                                dplyr::select(Study, Disorder, group_var, Classifier_Type, Analysis_Type, p_value_BenjaminiHochberg), \n",
    "                                by = join_by(group_var, Analysis_Type, Disorder, Study, Classifier_Type)))\n",
    "\n",
    "corrected_SPI_T_res <- 1:nrow(study_group_df) %>%\n",
    "  purrr::map_df(~ run_correctR_group(disorder = study_group_df$Disorder[.x],\n",
    "                                     study = study_group_df$Study[.x],\n",
    "                                     metadata = plyr::rbind.fill(UCLA_CNP_metadata, ABIDE_metadata),\n",
    "                                     results_df = results_df)) %>%\n",
    "  left_join(., pairwise_TS_feature_info, by=c(\"SPI\"=\"pyspi_name\"))\n",
    "\n",
    "# Write to table \n",
    "corrected_SPI_T_res %>% \n",
    "    dplyr::select(Disorder, Figure_name, statistic, p.value, p_value_corr_BenjaminiHochberg) %>% \n",
    "    mutate(p_value = format(p.value, digits=1),\n",
    "              p_value_corr_BenjaminiHochberg = format(p_value_corr_BenjaminiHochberg, digits=1),\n",
    "              statistic = -1*statistic) %>%\n",
    "    dplyr::rename(\"SPI\" = \"Figure_name\",\n",
    "                  \"T-statistic\" = \"statistic\",\n",
    "                  \"p-value\" = \"p.value\",\n",
    "                  \"Benjamini--Hochberg p-value\" = \"p_value_corr_BenjaminiHochberg\") %>%\n",
    "    write.csv(., \"tables/Table_S18_SPI_wise_corrected_T_test_results.csv\", row.names = F)\n"
   ]
  },
  {
   "cell_type": "markdown",
   "metadata": {},
   "source": [
    "## Table S19: One-shot approach to case--control classification by representation type"
   ]
  },
  {
   "cell_type": "code",
   "execution_count": 5,
   "metadata": {},
   "outputs": [],
   "source": [
    "training_balacc_results = pd.read_feather(\"data/classification_results/robustness_analysis/all_training_balacc_results.feather\")\n",
    "\n",
    "## Using PCA to make dimensionality consistent across representations\n",
    "all_first_10_PCs_classification_results = pd.read_feather(\"data/classification_results/robustness_analysis/all_first_10_PCs_classification_results.feather\")"
   ]
  },
  {
   "cell_type": "code",
   "execution_count": 17,
   "metadata": {},
   "outputs": [
    {
     "name": "stdout",
     "output_type": "stream",
     "text": [
      "Joining with `by = join_by(Fold, Repeat, Analysis_Type, group_var, Study,\n",
      "Disorder)`\n",
      "`summarise()` has grouped output by 'Analysis_Type', 'Disorder', 'Study',\n",
      "'Fold'. You can override using the `.groups` argument.\n",
      "Joining with `by = join_by(feature_name)`\n",
      "`summarise()` has grouped output by 'Study', 'Disorder', 'Analysis_Type',\n",
      "'Fold'. You can override using the `.groups` argument.\n"
     ]
    }
   ],
   "source": [
    "%%R -i univariate_TS_feature_info,all_first_10_PCs_classification_results,training_balanced_accuracy_results,pairwise_balanced_accuracy_results_all_folds,combined_univariate_pairwise_balanced_accuracy_results_all_folds\n",
    "\n",
    "SPI_first_10_PCs_classification_best_per_fold <- all_first_10_PCs_classification_results %>% \n",
    "    filter(Analysis_Type %in% c('pyspi14_SPI', 'SPI_Combo')) %>% \n",
    "    mutate(Analysis_Type = ifelse(Analysis_Type==\"pyspi14_SPI\", \"SPI\", Analysis_Type)) %>% \n",
    "    group_by(Analysis_Type, Disorder, Study, Fold, Repeat) %>% \n",
    "    arrange(desc(Train_Balanced_Accuracy)) %>% \n",
    "    mutate(Training_Rank = dense_rank(-Train_Balanced_Accuracy)) %>% \n",
    "    filter(Training_Rank==1)\n",
    "\n",
    "# Subset main pairwise results to these SPI selections\n",
    "SPI_balanced_accuracy_chosen_by_PCA <- plyr::rbind.fill(list(pairwise_balanced_accuracy_results_all_folds,\n",
    "                                                             combined_univariate_pairwise_balanced_accuracy_results_all_folds)) %>%\n",
    "                                       semi_join(., SPI_first_10_PCs_classification_best_per_fold) %>% \n",
    "                                       # Deal with ties\n",
    "                                       group_by(Analysis_Type, Disorder, Study, Fold, Repeat) %>% \n",
    "                                       summarise(Balanced_Accuracy = mean(Balanced_Accuracy, na.rm=T), \n",
    "                                                 group_var = paste0(group_var, collapse = \" \"))\n",
    "\n",
    "\n",
    "# Take only the top-performing region and time-series feature from training data folds\n",
    "intra_regional_balanced_accuracy_best_from_in_sample_all_folds <- training_balanced_accuracy_results %>%\n",
    "  filter(Analysis_Type %in% c(\"Brain_Region\", \"catch25_feature\", \"Univariate_Combo\")) %>%\n",
    "  dplyr::rename(\"feature_name\" = \"group_var\") %>% \n",
    "  left_join(., univariate_TS_feature_info) %>% \n",
    "  dplyr::mutate(group_var = ifelse(is.na(Figure_name), feature_name, Figure_name)) %>%\n",
    "  group_by(Study, Disorder, Analysis_Type, Fold, Repeat) %>%\n",
    "  filter(Train_Balanced_Accuracy==max(Train_Balanced_Accuracy)) %>%\n",
    "  # Take average in case of ties\n",
    "  summarise(Balanced_Accuracy = mean(Balanced_Accuracy), \n",
    "            group_var = paste0(group_var, collapse = \" \")) %>%\n",
    "  ungroup() \n",
    "\n",
    "# Summarize data\n",
    "chosen_model_per_represenatation_all <- intra_regional_balanced_accuracy_best_from_in_sample_all_folds %>%\n",
    "  plyr::rbind.fill(., SPI_balanced_accuracy_chosen_by_PCA) %>%\n",
    "  mutate(Analysis_Type = factor(Analysis_Type, levels = rev(c(\"Brain_Region\", \"catch25_feature\", \"Univariate_Combo\", \n",
    "                                                          \"SPI\", \"SPI_Combo\"))), \n",
    "         Disorder = factor(Disorder, levels = c(\"SCZ\", \"BP\", \"ADHD\", \"ASD\"))) \n",
    "  \n",
    "chosen_model_per_represenatation_all %>% \n",
    "    mutate(Balanced_Accuracy = round(100*Balanced_Accuracy, 1),\n",
    "           Fold = Fold + 1, \n",
    "           Repeat = Repeat + 1) %>%\n",
    "    dplyr::rename(\"Analysis\" = \"Analysis_Type\", \n",
    "                  \"Balanced Accuracy\" = \"Balanced_Accuracy\") %>%\n",
    "    write.csv(., \"tables/Table_S19_One_shot_classification_model_results.csv\", row.names = F)"
   ]
  }
 ],
 "metadata": {
  "kernelspec": {
   "display_name": "annie_env",
   "language": "python",
   "name": "python3"
  },
  "language_info": {
   "codemirror_mode": {
    "name": "ipython",
    "version": 3
   },
   "file_extension": ".py",
   "mimetype": "text/x-python",
   "name": "python",
   "nbconvert_exporter": "python",
   "pygments_lexer": "ipython3",
   "version": "3.9.19"
  }
 },
 "nbformat": 4,
 "nbformat_minor": 2
}

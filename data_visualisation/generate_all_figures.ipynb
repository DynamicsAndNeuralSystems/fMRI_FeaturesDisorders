{
 "cells": [
  {
   "cell_type": "markdown",
   "metadata": {},
   "source": [
    "# Figures for \"Systematically comparing feature-based representations of intra-regional and inter-regional brain dynamics\"\n",
    "\n",
    "## Load python packages"
   ]
  },
  {
   "cell_type": "code",
   "execution_count": null,
   "metadata": {},
   "outputs": [],
   "source": [
    "import os\n",
    "import numpy as np\n",
    "import nibabel as nib\n",
    "import pandas as pd\n",
    "from nilearn import plotting\n",
    "from nilearn.image import math_img, resample_img, index_img, threshold_img\n",
    "from matplotlib import pyplot as plt\n",
    "\n",
    "%load_ext rpy2.ipython"
   ]
  },
  {
   "cell_type": "markdown",
   "metadata": {},
   "source": [
    "## Load R Packages"
   ]
  },
  {
   "cell_type": "code",
   "execution_count": 88,
   "metadata": {},
   "outputs": [],
   "source": [
    "%%R \n",
    "library(broom)\n",
    "library(circlize)\n",
    "library(colorspace)\n",
    "library(ComplexHeatmap)\n",
    "library(correctR)\n",
    "library(cowplot)\n",
    "library(dendextend)\n",
    "library(factoextra)\n",
    "library(FactoMineR)\n",
    "library(feather)\n",
    "library(ggnewscale)\n",
    "library(ggpp)\n",
    "library(ggpubr)\n",
    "library(ggraph)\n",
    "library(ggridges)\n",
    "library(ggseg)\n",
    "library(ggsegDefaultExtra)\n",
    "library(ggsegHO)\n",
    "library(ggsignif)\n",
    "library(glue)\n",
    "library(icesTAF)\n",
    "library(igraph)\n",
    "library(LaCroixColoR)\n",
    "library(patchwork)\n",
    "library(R.matlab)\n",
    "library(RColorBrewer)\n",
    "library(rlist)\n",
    "library(scales)\n",
    "library(see)\n",
    "library(splitstackshape)\n",
    "library(theft)\n",
    "library(tidyverse)\n",
    "library(viridis)\n",
    "\n",
    "# Set cowplot theme\n",
    "theme_set(theme_cowplot())"
   ]
  },
  {
   "cell_type": "markdown",
   "metadata": {},
   "source": [
    "## Load data needed for this analysis"
   ]
  },
  {
   "cell_type": "code",
   "execution_count": 90,
   "metadata": {},
   "outputs": [
    {
     "ename": "FileNotFoundError",
     "evalue": "[Errno 2] No such file or directory: '/Users/abry4213/data//UCLA_CNP/processed_data/UCLA_CNP_AROMA_2P_GMR_catch25_filtered.feather'",
     "output_type": "error",
     "traceback": [
      "\u001b[0;31m---------------------------------------------------------------------------\u001b[0m",
      "\u001b[0;31mFileNotFoundError\u001b[0m                         Traceback (most recent call last)",
      "Cell \u001b[0;32mIn[90], line 24\u001b[0m\n\u001b[1;32m     20\u001b[0m ABIDE_ASD_metadata \u001b[38;5;241m=\u001b[39m (pd\u001b[38;5;241m.\u001b[39mread_feather(\u001b[38;5;124mf\u001b[39m\u001b[38;5;124m\"\u001b[39m\u001b[38;5;132;01m{\u001b[39;00mdata_path\u001b[38;5;132;01m}\u001b[39;00m\u001b[38;5;124m/ABIDE_ASD/study_metadata/ABIDE_ASD_sample_metadata.feather\u001b[39m\u001b[38;5;124m\"\u001b[39m)\n\u001b[1;32m     21\u001b[0m                         \u001b[38;5;241m.\u001b[39massign(Study \u001b[38;5;241m=\u001b[39m \u001b[38;5;124m\"\u001b[39m\u001b[38;5;124mABIDE_ASD\u001b[39m\u001b[38;5;124m\"\u001b[39m))\n\u001b[1;32m     23\u001b[0m \u001b[38;5;66;03m# Load intra-regional time-series features per disorder\u001b[39;00m\n\u001b[0;32m---> 24\u001b[0m UCLA_CNP_intra_regional_feature_data \u001b[38;5;241m=\u001b[39m (\u001b[43mpd\u001b[49m\u001b[38;5;241;43m.\u001b[39;49m\u001b[43mread_feather\u001b[49m\u001b[43m(\u001b[49m\u001b[38;5;124;43mf\u001b[39;49m\u001b[38;5;124;43m\"\u001b[39;49m\u001b[38;5;132;43;01m{\u001b[39;49;00m\u001b[43mdata_path\u001b[49m\u001b[38;5;132;43;01m}\u001b[39;49;00m\u001b[38;5;124;43m/UCLA_CNP/processed_data/UCLA_CNP_AROMA_2P_GMR_catch25_filtered.feather\u001b[39;49m\u001b[38;5;124;43m\"\u001b[39;49m\u001b[43m)\u001b[49m\n\u001b[1;32m     25\u001b[0m                                         \u001b[38;5;241m.\u001b[39mmerge(UCLA_CNP_metadata))\n\u001b[1;32m     26\u001b[0m ABIDE_ASD_intra_regional_feature_data \u001b[38;5;241m=\u001b[39m (pd\u001b[38;5;241m.\u001b[39mread_feather(\u001b[38;5;124mf\u001b[39m\u001b[38;5;124m\"\u001b[39m\u001b[38;5;132;01m{\u001b[39;00mdata_path\u001b[38;5;132;01m}\u001b[39;00m\u001b[38;5;124m/ABIDE_ASD/processed_data/ABIDE_ASD_FC1000_catch25_filtered.feather\u001b[39m\u001b[38;5;124m\"\u001b[39m)\n\u001b[1;32m     27\u001b[0m                                         \u001b[38;5;241m.\u001b[39mmerge(ABIDE_ASD_metadata))\n\u001b[1;32m     29\u001b[0m \u001b[38;5;66;03m# Define path where data is stored\u001b[39;00m\n",
      "File \u001b[0;32m~/anaconda3/envs/pyspi/lib/python3.9/site-packages/pandas/io/feather_format.py:144\u001b[0m, in \u001b[0;36mread_feather\u001b[0;34m(path, columns, use_threads, storage_options, dtype_backend)\u001b[0m\n\u001b[1;32m    140\u001b[0m \u001b[38;5;28;01mfrom\u001b[39;00m \u001b[38;5;21;01mpyarrow\u001b[39;00m \u001b[38;5;28;01mimport\u001b[39;00m feather\n\u001b[1;32m    142\u001b[0m check_dtype_backend(dtype_backend)\n\u001b[0;32m--> 144\u001b[0m \u001b[38;5;28;01mwith\u001b[39;00m \u001b[43mget_handle\u001b[49m\u001b[43m(\u001b[49m\n\u001b[1;32m    145\u001b[0m \u001b[43m    \u001b[49m\u001b[43mpath\u001b[49m\u001b[43m,\u001b[49m\u001b[43m \u001b[49m\u001b[38;5;124;43m\"\u001b[39;49m\u001b[38;5;124;43mrb\u001b[39;49m\u001b[38;5;124;43m\"\u001b[39;49m\u001b[43m,\u001b[49m\u001b[43m \u001b[49m\u001b[43mstorage_options\u001b[49m\u001b[38;5;241;43m=\u001b[39;49m\u001b[43mstorage_options\u001b[49m\u001b[43m,\u001b[49m\u001b[43m \u001b[49m\u001b[43mis_text\u001b[49m\u001b[38;5;241;43m=\u001b[39;49m\u001b[38;5;28;43;01mFalse\u001b[39;49;00m\n\u001b[1;32m    146\u001b[0m \u001b[43m\u001b[49m\u001b[43m)\u001b[49m \u001b[38;5;28;01mas\u001b[39;00m handles:\n\u001b[1;32m    147\u001b[0m     \u001b[38;5;28;01mif\u001b[39;00m dtype_backend \u001b[38;5;129;01mis\u001b[39;00m lib\u001b[38;5;241m.\u001b[39mno_default:\n\u001b[1;32m    148\u001b[0m         \u001b[38;5;28;01mreturn\u001b[39;00m feather\u001b[38;5;241m.\u001b[39mread_feather(\n\u001b[1;32m    149\u001b[0m             handles\u001b[38;5;241m.\u001b[39mhandle, columns\u001b[38;5;241m=\u001b[39mcolumns, use_threads\u001b[38;5;241m=\u001b[39m\u001b[38;5;28mbool\u001b[39m(use_threads)\n\u001b[1;32m    150\u001b[0m         )\n",
      "File \u001b[0;32m~/anaconda3/envs/pyspi/lib/python3.9/site-packages/pandas/io/common.py:868\u001b[0m, in \u001b[0;36mget_handle\u001b[0;34m(path_or_buf, mode, encoding, compression, memory_map, is_text, errors, storage_options)\u001b[0m\n\u001b[1;32m    859\u001b[0m         handle \u001b[38;5;241m=\u001b[39m \u001b[38;5;28mopen\u001b[39m(\n\u001b[1;32m    860\u001b[0m             handle,\n\u001b[1;32m    861\u001b[0m             ioargs\u001b[38;5;241m.\u001b[39mmode,\n\u001b[0;32m   (...)\u001b[0m\n\u001b[1;32m    864\u001b[0m             newline\u001b[38;5;241m=\u001b[39m\u001b[38;5;124m\"\u001b[39m\u001b[38;5;124m\"\u001b[39m,\n\u001b[1;32m    865\u001b[0m         )\n\u001b[1;32m    866\u001b[0m     \u001b[38;5;28;01melse\u001b[39;00m:\n\u001b[1;32m    867\u001b[0m         \u001b[38;5;66;03m# Binary mode\u001b[39;00m\n\u001b[0;32m--> 868\u001b[0m         handle \u001b[38;5;241m=\u001b[39m \u001b[38;5;28;43mopen\u001b[39;49m\u001b[43m(\u001b[49m\u001b[43mhandle\u001b[49m\u001b[43m,\u001b[49m\u001b[43m \u001b[49m\u001b[43mioargs\u001b[49m\u001b[38;5;241;43m.\u001b[39;49m\u001b[43mmode\u001b[49m\u001b[43m)\u001b[49m\n\u001b[1;32m    869\u001b[0m     handles\u001b[38;5;241m.\u001b[39mappend(handle)\n\u001b[1;32m    871\u001b[0m \u001b[38;5;66;03m# Convert BytesIO or file objects passed with an encoding\u001b[39;00m\n",
      "\u001b[0;31mFileNotFoundError\u001b[0m: [Errno 2] No such file or directory: '/Users/abry4213/data//UCLA_CNP/processed_data/UCLA_CNP_AROMA_2P_GMR_catch25_filtered.feather'"
     ]
    }
   ],
   "source": [
    "# Load information about the time-series features\n",
    "univariate_TS_feature_info = pd.read_csv(\"catch25_info.csv\")\n",
    "pairwise_TS_feature_info = pd.read_csv(\"SPI_info.csv\")\n",
    "\n",
    "# Define SVM kernel type\n",
    "SVM_kernel = \"Linear\"\n",
    "\n",
    "# Name the feature sets\n",
    "univariate_feature_set = \"catch25\"\n",
    "pairwise_feature_set = \"pyspi14\"\n",
    "\n",
    "# Load study metadata\n",
    "data_path = \"/Users/abry4213/data/\"\n",
    "\n",
    "# Load participants included\n",
    "UCLA_CNP_subjects_to_keep = pd.read_feather(f\"{data_path}/UCLA_CNP/processed_data/UCLA_CNP_filtered_sample_info_AROMA_2P_GMR_catch25_pyspi14.feather\")\n",
    "UCLA_CNP_metadata = (pd.read_feather(f\"{data_path}/UCLA_CNP/study_metadata/UCLA_CNP_sample_metadata.feather\")\n",
    "                        .assign(Study = \"UCLA_CNP\")\n",
    "                        .query(\"Sample_ID in @UCLA_CNP_subjects_to_keep.Sample_ID\"))\n",
    "ABIDE_ASD_metadata = (pd.read_feather(f\"{data_path}/ABIDE_ASD/study_metadata/ABIDE_ASD_sample_metadata.feather\")\n",
    "                        .assign(Study = \"ABIDE_ASD\"))\n",
    "\n",
    "# Load intra-regional time-series features per disorder\n",
    "UCLA_CNP_intra_regional_feature_data = (pd.read_feather(f\"{data_path}/UCLA_CNP/processed_data/UCLA_CNP_AROMA_2P_GMR_catch25_filtered.feather\")\n",
    "                                        .merge(UCLA_CNP_metadata))\n",
    "ABIDE_ASD_intra_regional_feature_data = (pd.read_feather(f\"{data_path}/ABIDE_ASD/processed_data/ABIDE_ASD_FC1000_catch25_filtered.feather\")\n",
    "                                        .merge(ABIDE_ASD_metadata))\n",
    "\n",
    "# Define path where data is stored\n",
    "results_data_path = \"/Users/abry4213/data/TS_feature_manuscript/\"\n",
    "\n",
    "# Load balanced accuracy scores\n",
    "intra_regional_balanced_accuracy_all_folds = (pd.read_feather(f\"{results_data_path}/UCLA_CNP_ABIDE_ASD_univariate_balanced_accuracy_all_folds.feather\")\n",
    "                                    .query(\"Univariate_Feature_Set == @univariate_feature_set & kernel == @SVM_kernel\"))\n",
    "inter_regional_balanced_accuracy_all_folds = (pd.read_feather(f\"{results_data_path}/UCLA_CNP_ABIDE_ASD_pairwise_balanced_accuracy_all_folds.feather\")\n",
    "                                    .query(\"Pairwise_Feature_Set == @pairwise_feature_set\"))\n",
    "combined_balanced_accuracy_all_folds = (pd.read_feather(f\"{results_data_path}/UCLA_CNP_ABIDE_ASD_combined_univariate_pairwise_balanced_accuracy_all_folds.feather\")\n",
    "                              .query(\"Univariate_Feature_Set == @univariate_feature_set & Pairwise_Feature_Set == @pairwise_feature_set\")\n",
    "                              .assign(Analysis_Type = \"SPI_Univariate_Combo\"))\n"
   ]
  },
  {
   "cell_type": "code",
   "execution_count": null,
   "metadata": {},
   "outputs": [],
   "source": [
    "%%R -i intra_regional_balanced_accuracy_all_folds,inter_regional_balanced_accuracy_all_folds,combined_balanced_accuracy_all_folds -o UCLA_CNP_brain_region_info,ABIDE_ASD_brain_region_info,study_group_df,intra_regional_balanced_accuracy,inter_regional_balanced_accuracy,combined_balanced_accuracy\n",
    "\n",
    "# Define study group dataframe\n",
    "study_group_df <- data.frame(Study = c(rep(\"UCLA_CNP\", 3), \"ABIDE_ASD\"),\n",
    "                             Noise_Proc = c(rep(\"AROMA+2P+GMR\",3), \"FC1000\"),\n",
    "                             Comparison_Group = c(\"Schizophrenia\", \"Bipolar\", \"ADHD\", \"ASD\"),\n",
    "                             Group_Nickname = c(\"SCZ\", \"BP\", \"ADHD\", \"ASD\"))\n",
    "\n",
    "# Load brain region info\n",
    "UCLA_CNP_brain_region_info <- read.csv(\"~/data/UCLA_CNP/study_metadata/UCLA_CNP_Brain_Region_info.csv\")\n",
    "ABIDE_ASD_brain_region_info <- read.table(\"~/data/ABIDE_ASD/study_metadata/ABIDE_ASD_Harvard_Oxford_cort_prob_2mm_ROI_lookup.txt\", sep=\";\", header = T) %>%\n",
    "  mutate(Brain_Region = ifelse(Index==45, \"Heschl's Gyrus (includes H1 and H2)\", Brain_Region))\n",
    "\n",
    "# Aggregate balanced accuracy results across folds\n",
    "intra_regional_balanced_accuracy <- intra_regional_balanced_accuracy_all_folds %>%\n",
    "  group_by(Study, Comparison_Group, Univariate_Feature_Set, Analysis_Type, group_var, kernel) %>%\n",
    "  reframe(Balanced_Accuracy_Across_Folds = mean(Balanced_Accuracy, na.rm=T),\n",
    "          Balanced_Accuracy_Across_Folds_SD = sd(Balanced_Accuracy, na.rm=T))\n",
    "\n",
    "inter_regional_balanced_accuracy <- inter_regional_balanced_accuracy_all_folds %>%\n",
    "    group_by(Study, Comparison_Group, Pairwise_Feature_Set, Analysis_Type, group_var) %>%\n",
    "    reframe(Balanced_Accuracy_Across_Folds = mean(Balanced_Accuracy, na.rm=T),\n",
    "            Balanced_Accuracy_Across_Folds_SD = sd(Balanced_Accuracy, na.rm=T))\n",
    "\n",
    "combined_balanced_accuracy <- combined_balanced_accuracy_all_folds %>%\n",
    "    group_by(Study, Comparison_Group, Univariate_Feature_Set, Pairwise_Feature_Set, Analysis_Type, group_var) %>%\n",
    "    reframe(Balanced_Accuracy_Across_Folds = mean(Balanced_Accuracy, na.rm=T),\n",
    "            Balanced_Accuracy_Across_Folds_SD = sd(Balanced_Accuracy, na.rm=T))"
   ]
  },
  {
   "cell_type": "code",
   "execution_count": null,
   "metadata": {},
   "outputs": [],
   "source": [
    "# Load p-values\n",
    "intra_regional_p_values = (pd.read_feather(f\"{results_data_path}/UCLA_CNP_ABIDE_ASD_univariate_empirical_p_values.feather\")\n",
    "                           .query(\"Univariate_Feature_Set == @univariate_feature_set\")\n",
    "                           .drop(columns=[\"Balanced_Accuracy_Across_Folds\"])\n",
    "                           .merge(intra_regional_balanced_accuracy))\n",
    "\n",
    "inter_regional_p_values = (pd.read_feather(f\"{results_data_path}/UCLA_CNP_ABIDE_ASD_pairwise_empirical_p_values.feather\")\n",
    "                            .query(\"Pairwise_Feature_Set == @pairwise_feature_set\")\n",
    "                            .drop(columns=[\"Balanced_Accuracy_Across_Folds\"])\n",
    "                            .merge(inter_regional_balanced_accuracy))\n",
    "\n",
    "combined_p_values = (pd.read_feather(f\"{results_data_path}/UCLA_CNP_ABIDE_ASD_combined_univariate_pairwise_empirical_p_values.feather\")\n",
    "                     .query(\"Univariate_Feature_Set == @univariate_feature_set & Pairwise_Feature_Set == @pairwise_feature_set\")\n",
    "                     .drop(columns=[\"Balanced_Accuracy_Across_Folds\"])\n",
    "                     .merge(combined_balanced_accuracy))\n"
   ]
  },
  {
   "cell_type": "markdown",
   "metadata": {},
   "source": []
  },
  {
   "cell_type": "code",
   "execution_count": null,
   "metadata": {},
   "outputs": [],
   "source": [
    "%%R \n",
    "# Source helper functions\n",
    "source(\"visualization_helper_functions.R\")"
   ]
  },
  {
   "cell_type": "markdown",
   "metadata": {},
   "source": [
    "# Figure 1: Methods"
   ]
  },
  {
   "cell_type": "code",
   "execution_count": null,
   "metadata": {},
   "outputs": [],
   "source": [
    "%%R\n",
    "\n",
    "# Plot an example brain\n",
    "ggplot() +\n",
    "  geom_brain(atlas = dk, hemi=\"left\", side=\"lateral\", color=\"gray30\") +\n",
    "  theme_void() + \n",
    "  theme(legend.position=\"none\")\n"
   ]
  },
  {
   "cell_type": "code",
   "execution_count": null,
   "metadata": {},
   "outputs": [],
   "source": [
    "%%R \n",
    "\n",
    "# Plot a few example time-series\n",
    "example_MTS <- as.data.frame(matrix(data=rnorm(500), nrow=50, ncol=10)) %>%\n",
    "  mutate(Timepoint = 1:50) %>%\n",
    "  pivot_longer(cols=c(-Timepoint), names_to = \"Brain_Region\", values_to=\"BOLD\") %>%\n",
    "  mutate(Brain_Region = as.factor(as.numeric(gsub(\"V\", \"\", Brain_Region))))\n",
    "\n",
    "example_MTS %>%\n",
    "  ggplot(mapping=aes(x=Timepoint, y=BOLD, color=Brain_Region)) +\n",
    "  geom_line() + \n",
    "  facet_grid(Brain_Region ~ .) +\n",
    "  theme_void() +\n",
    "  theme(legend.position = \"none\",\n",
    "        strip.text = element_blank(),\n",
    "        panel.spacing = unit(-1, \"lines\"))\n"
   ]
  },
  {
   "cell_type": "code",
   "execution_count": null,
   "metadata": {},
   "outputs": [],
   "source": [
    "%%R\n",
    "\n",
    "# Plot as an example MTS heatmap\n",
    "gg_color_hue <- function(n) {\n",
    "  hues = seq(15, 375, length = n + 1)\n",
    "  hcl(h = hues, l = 65, c = 100)[1:n]\n",
    "}\n",
    "\n",
    "MTS_heatmap_list <- list()\n",
    "MTS_colors <- gg_color_hue(10)\n",
    "for (i in 1:length(unique(example_MTS$Brain_Region))) {\n",
    "  roi = unique(example_MTS$Brain_Region)[i]\n",
    "  roi_color = MTS_colors[i]\n",
    "  roi_p <- example_MTS %>%\n",
    "    filter(Brain_Region == roi) %>%\n",
    "    ggplot(mapping=aes(x=Timepoint, fill=BOLD, y=0)) +\n",
    "    geom_tile() + \n",
    "    theme_void() +\n",
    "    scale_fill_gradient(low=alpha(roi_color, 0.2), high=roi_color) +\n",
    "    theme(legend.position = \"none\")\n",
    "  MTS_heatmap_list[[roi]] <- roi_p\n",
    "}\n",
    "wrap_plots(MTS_heatmap_list, ncol=1)\n"
   ]
  },
  {
   "cell_type": "code",
   "execution_count": null,
   "metadata": {},
   "outputs": [],
   "source": [
    "%%R\n",
    "# Example brain with regions highlighted\n",
    "dk %>%\n",
    "  as_tibble() %>%\n",
    "  mutate(fillval = case_when(label == \"lh_caudalmiddlefrontal\" ~ \"1\",\n",
    "                             label == \"lh_insula\" ~ \"2\",\n",
    "                             label == \"lh_lateraloccipital\" ~ \"3\", \n",
    "                             T ~ NA_character_)) %>%\n",
    "  ggseg(atlas = \"dk\", mapping = aes(fill = fillval),\n",
    "        hemisphere=\"left\",\n",
    "        view = \"lateral\",\n",
    "        position = \"stacked\", colour = \"gray50\") +\n",
    "  scale_fill_manual(values=c(\"#39b600\", \"#e76bf3\", \"#00b0f6\"),\n",
    "                    na.value=\"white\") +\n",
    "  theme_void() +\n",
    "  theme(plot.title = element_blank(),\n",
    "        legend.position = \"none\")\n"
   ]
  },
  {
   "cell_type": "code",
   "execution_count": null,
   "metadata": {},
   "outputs": [],
   "source": [
    "%%R\n",
    "# Sample feature vector\n",
    "data.frame(x=sample(1:24),\n",
    "           y=as.character(1:24)) %>%\n",
    "  ggplot(data=., mapping=aes(x=x, y=0, fill=y)) +\n",
    "  geom_tile(color=\"black\") +\n",
    "  scale_fill_viridis_d() +\n",
    "  theme_void() +\n",
    "  theme(legend.position = \"none\")"
   ]
  },
  {
   "cell_type": "code",
   "execution_count": null,
   "metadata": {},
   "outputs": [],
   "source": [
    "%%R\n",
    "\n",
    "# Brains with all 25 features [simulated data]\n",
    "plot_feature_in_brain <- function(fill_color_gradient, region_label=\"all\") {\n",
    "  if (region_label==\"all\") {\n",
    "    p <- dk %>%\n",
    "      as_tibble() %>%\n",
    "      mutate(region_values = runif(nrow(.))) %>%\n",
    "      ggseg(atlas = \"dk\", mapping = aes(fill = region_values),\n",
    "            hemisphere=\"left\",\n",
    "            view = \"lateral\",\n",
    "            position = \"stacked\", colour = \"black\") +\n",
    "      scale_fill_gradientn(colors=c(alpha(fill_color_gradient, 0.3), \n",
    "                                    fill_color_gradient), \n",
    "                           na.value=NA)\n",
    "  } else {\n",
    "    p <- dk %>%\n",
    "      as_tibble() %>%\n",
    "      mutate(region_values = ifelse(label==region_label, \"1\", NA_character_)) %>%\n",
    "      ggseg(atlas = \"dk\", mapping = aes(fill = region_values),\n",
    "            hemisphere=\"left\",\n",
    "            view = \"lateral\",\n",
    "            position = \"stacked\", colour = \"gray40\") +\n",
    "      scale_fill_manual(values=c(fill_color_gradient),\n",
    "                        na.value=\"white\")\n",
    "  }\n",
    "\n",
    "  p <- p  +\n",
    "    theme_void() +\n",
    "    theme(plot.title = element_blank(),\n",
    "          legend.position = \"none\") \n",
    "}\n",
    "\n",
    "\n",
    "# Plot the full brain\n",
    "plots <- sample(1:25) %>%\n",
    "  purrr::map(~ plot_feature_in_brain(fill_color_gradient=brain_colors[.x], \n",
    "                                     region_label=\"all\"))\n",
    "wrap_plots(plots, nrow=5)"
   ]
  },
  {
   "cell_type": "code",
   "execution_count": null,
   "metadata": {},
   "outputs": [],
   "source": [
    "%%R\n",
    "\n",
    "# Plot feature X region matrix\n",
    "feature_vec_plot_list <- list()\n",
    "for (i in sample(1:25)) {\n",
    "  p <- data.frame(x=sample(1:10),\n",
    "             y=as.character(1:10)) %>%\n",
    "    ggplot(data=., mapping=aes(x=y, y=0, fill=x)) +\n",
    "    geom_raster(color=\"black\") +\n",
    "    scale_fill_gradientn(colors=c(alpha(brain_colors[i], 0.3), \n",
    "                                  brain_colors[i]), \n",
    "                         na.value=NA) +\n",
    "    theme_void() +\n",
    "    theme(legend.position = \"none\")\n",
    "  feature_vec_plot_list <- list.append(feature_vec_plot_list, p)\n",
    "}\n",
    "\n",
    "wrap_plots(feature_vec_plot_list, ncol=1)"
   ]
  },
  {
   "cell_type": "code",
   "execution_count": null,
   "metadata": {},
   "outputs": [],
   "source": [
    "%%R\n",
    "# Sample pairwise feature vector\n",
    "pyspi_colors <- unname(lacroix_palette(\"PassionFruit\",14))\n",
    "data.frame(x=sample(1:14),\n",
    "           y=as.character(1:14)) %>%\n",
    "  ggplot(data=., mapping=aes(x=x, y=0, fill=y)) +\n",
    "  geom_tile(color=\"black\") +\n",
    "  scale_fill_manual(values=pyspi_colors) +\n",
    "  theme_void() +\n",
    "  theme(legend.position = \"none\")"
   ]
  },
  {
   "cell_type": "code",
   "execution_count": null,
   "metadata": {},
   "outputs": [],
   "source": [
    "%%R\n",
    "\n",
    "# Example network graph\n",
    "set.seed(127)\n",
    "\n",
    "# Data for all pairwise connection graphs\n",
    "# Edges are defined as cortical lobe --> specific ROI connection\n",
    "edges <- read.csv(\"region_node_hierarchy.csv\") %>% distinct()\n",
    "# ROIs don't include the origin --> cortical lobe connection\n",
    "rois <- edges %>% filter(!(to %in% c(\"Cingulate\", \"Frontal\", \"Insula\",\n",
    "                                     \"Occipital\", \"Parietal\", \"Temporal\")))\n",
    "# Create a dataframe of vertices, one line per object in the ROI cortical lobe hierarchy\n",
    "vertices = data.frame(name = unique(c(as.character(edges$from), as.character(edges$to))))\n",
    "vertices$group <- edges$from[match(vertices$name, edges$to)]\n",
    "# Create an igraph object\n",
    "mygraph <- graph_from_data_frame(edges, vertices=vertices)\n",
    "\n",
    "# plot_network_data is defined in visualization_helper_functions.R\n",
    "plots <- sample(1:14) %>%\n",
    "  purrr::map(~ plot_network_data(pyspi_colors[.x]))\n",
    "wrap_plots(plots, nrow=3)"
   ]
  },
  {
   "cell_type": "markdown",
   "metadata": {},
   "source": [
    "# Figure 2: Local properties of BOLD dynamics in individual brain regions can meaningfully distinguish cases versus controls"
   ]
  },
  {
   "cell_type": "code",
   "execution_count": null,
   "metadata": {},
   "outputs": [],
   "source": [
    "%%R -i intra_regional_p_values -o significant_univariate_region_wise_results\n",
    "\n",
    "# Define dataset with univariate region-wise results\n",
    "significant_univariate_region_wise_results <- intra_regional_p_values %>%\n",
    "  filter(Analysis_Type == \"Univariate_Brain_Region\") %>%\n",
    "  filter(p_value_HolmBonferroni < 0.05) %>%\n",
    "  mutate(Balanced_Accuracy_Across_Folds = 100*Balanced_Accuracy_Across_Folds)\n",
    "\n",
    "catch25_region_wise_balacc_plot_list <- plot_balacc_in_brain(significant_univariate_region_wise_results,\n",
    "                                                             bin_seq_range=seq(50,75,by=5))\n",
    "wrap_plots(catch25_region_wise_balacc_plot_list, \n",
    "           ncol=2, \n",
    "           byrow=T) + \n",
    "  plot_layout(guides = \"collect\")"
   ]
  },
  {
   "cell_type": "code",
   "execution_count": null,
   "metadata": {},
   "outputs": [],
   "source": [
    "%%R \n",
    "# We can get the number of significant regions per disorder\n",
    "significant_univariate_region_wise_results %>%\n",
    "  count(Comparison_Group)"
   ]
  },
  {
   "cell_type": "markdown",
   "metadata": {},
   "source": [
    "# Figure 3: Analysis with individual time-series features measured across the brain highlights diverse differences in brain-wide dynamics across clinical groups"
   ]
  },
  {
   "cell_type": "code",
   "execution_count": 89,
   "metadata": {},
   "outputs": [
    {
     "name": "stdout",
     "output_type": "stream",
     "text": [
      "Joining with `by = join_by(feature_name)`\n"
     ]
    },
    {
     "data": {
      "image/png": "[encoded data removed]",
      "text/plain": [
       "<IPython.core.display.Image object>"
      ]
     },
     "metadata": {},
     "output_type": "display_data"
    }
   ],
   "source": [
    "%%R -i intra_regional_p_values,univariate_TS_feature_info,univariate_feature_set\n",
    "\n",
    "# Balanced accuracy heatmap\n",
    "intra_regional_p_values %>%\n",
    "  filter(Univariate_Feature_Set == univariate_feature_set,\n",
    "         Analysis_Type == \"Univariate_TS_Feature\") %>%\n",
    "  dplyr::rename(\"feature_name\" = \"group_var\") %>%\n",
    "  left_join(., univariate_TS_feature_info) %>%\n",
    "  filter(p_value_HolmBonferroni<0.05) %>%\n",
    "  mutate(Comparison_Group = case_when(Comparison_Group == \"Schizophrenia\" ~ \"SCZ\",\n",
    "                                      Comparison_Group == \"Bipolar\" ~ \"BP\",\n",
    "                                      T ~ Comparison_Group),\n",
    "         Balanced_Accuracy_Across_Folds = 100*Balanced_Accuracy_Across_Folds) %>%\n",
    "  mutate(Figure_name = fct_reorder(Figure_name, Balanced_Accuracy_Across_Folds, .fun=sum),\n",
    "         Comparison_Group = factor(Comparison_Group, levels = c(\"SCZ\", \"BP\", \"ADHD\", \"ASD\"))) %>%\n",
    "  ggplot(data=., mapping=aes(x=Comparison_Group, y=Figure_name, \n",
    "                             fill=Balanced_Accuracy_Across_Folds)) +\n",
    "  geom_tile()+\n",
    "  geom_text(aes(label = round(Balanced_Accuracy_Across_Folds, 1))) +\n",
    "  scale_fill_gradientn(colors=c(alpha(\"#4C7FC0\", 0.1), \"#4C7FC0\"), \n",
    "                       na.value=NA) +\n",
    "  labs(fill = \"Mean Balanced Accuracy (%)\") +\n",
    "  xlab(\"Disorder\") +\n",
    "  ylab(\"Univariate time-series feature\") +\n",
    "  theme(legend.position=\"none\",\n",
    "        strip.background = element_blank(),\n",
    "        strip.text = element_blank())"
   ]
  },
  {
   "cell_type": "code",
   "execution_count": null,
   "metadata": {},
   "outputs": [],
   "source": [
    "%%R -i intra_regional_p_values,univariate_TS_feature_info,univariate_feature_set\n",
    "\n",
    "# Create adjacency matrix of feature values across all participants\n",
    "top_features <- intra_regional_p_values %>%\n",
    "  filter(Univariate_Feature_Set == univariate_feature_set,\n",
    "         Analysis_Type == \"Univariate_TS_Feature\") %>%\n",
    "  group_by(group_var) %>%\n",
    "  filter(sum(p_value_HolmBonferroni<0.05)>=3) %>%\n",
    "  summarise(sum_balacc = sum(Balanced_Accuracy_Across_Folds)) %>%\n",
    "  slice_max(sum_balacc, n=10) %>%\n",
    "  pull(group_var)\n",
    "\n",
    "data_for_corr_heatmap <- plyr::rbind.fill(UCLA_CNP_catch25, ABIDE_ASD_catch25) %>%\n",
    "  filter(names %in% top_features) %>%\n",
    "  mutate(unique_ID = paste0(Sample_ID, \"__\", Brain_Region), .keep=\"unused\") %>%\n",
    "  left_join(., TS_feature_info, by=c(\"names\"=\"feature_name\")) %>%\n",
    "  dplyr::select(unique_ID, Figure_name, values) %>%\n",
    "  pivot_wider(id_cols=unique_ID, names_from=Figure_name, values_from=values) %>%\n",
    "  dplyr::select(-unique_ID) %>%\n",
    "  cor(method=\"spearman\", use=\"complete.obs\") %>%\n",
    "  abs()\n",
    "\n",
    "# Convert to long for easy querying\n",
    "data_for_corr_long <- data_for_corr_heatmap %>%\n",
    "  as.data.frame() %>%\n",
    "  rownames_to_column(var=\"feature1\") %>%\n",
    "  pivot_longer(cols=c(-feature1), names_to=\"feature2\", values_to=\"spearman_corr_abs\")\n",
    "\n",
    "num_branches <- 2\n",
    "\n",
    "ht1 <- ComplexHeatmap::Heatmap(data_for_corr_heatmap,\n",
    "                               clustering_distance_rows = \"spearman\",\n",
    "                               clustering_distance_columns = \"spearman\",\n",
    "                               clustering_method_rows = \"average\",\n",
    "                               clustering_method_columns = \"average\",\n",
    "                               row_names_side = \"right\",\n",
    "                               row_dend_side = \"left\", \n",
    "                               row_dend_width = unit(1, \"cm\"),\n",
    "                               row_dend_gp = gpar(lwd=unit(2, \"cm\")),\n",
    "                               row_split = num_branches,\n",
    "                               column_split = num_branches,\n",
    "                               column_gap = unit(3, \"mm\"),\n",
    "                               row_title = NULL,\n",
    "                               column_title = NULL,\n",
    "                               show_row_names = TRUE,\n",
    "                               show_column_names = FALSE,\n",
    "                               show_column_dend = FALSE,\n",
    "                               border = TRUE,\n",
    "                               col = c(\"white\", brewer.pal(12, \"Reds\")),\n",
    "                               name = \"Spearman rank correlation, \\u03c1\",\n",
    "                               heatmap_legend_param = list(legend_direction = \"horizontal\",\n",
    "                                                           legend_width = unit(5, \"cm\")))"
   ]
  }
 ],
 "metadata": {
  "kernelspec": {
   "display_name": "pyspi",
   "language": "python",
   "name": "python3"
  },
  "language_info": {
   "codemirror_mode": {
    "name": "ipython",
    "version": 3
   },
   "file_extension": ".py",
   "mimetype": "text/x-python",
   "name": "python",
   "nbconvert_exporter": "python",
   "pygments_lexer": "ipython3",
   "version": "3.9.0"
  }
 },
 "nbformat": 4,
 "nbformat_minor": 2
}

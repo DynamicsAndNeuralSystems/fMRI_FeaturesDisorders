{
 "cells": [
  {
   "cell_type": "code",
   "execution_count": 1,
   "metadata": {},
   "outputs": [],
   "source": [
    "# Import required modules\n",
    "import glob\n",
    "import scipy.io as sio\n",
    "import pandas as pd\n",
    "import numpy as np\n",
    "import matplotlib.pyplot as plt\n",
    "plt.style.use('ggplot')\n",
    "import seaborn as sns\n",
    "import sklearn\n",
    "import analysisFunctions as af\n",
    "\n",
    "from scipy.stats import zscore\n"
   ]
  },
  {
   "cell_type": "code",
   "execution_count": 2,
   "metadata": {},
   "outputs": [
    {
     "name": "stdout",
     "output_type": "stream",
     "text": [
      "[0, 2, 3, 4, 6, 8, 10, 12, 13, 14, 15, 17, 18, 19, 20, 21, 22, 23, 25, 26, 27, 28, 29, 31, 32, 33, 34, 35, 36, 37, 38, 41, 42, 43, 44, 45, 46, 47, 48, 49, 50, 51, 52, 53, 54, 55, 56, 57, 58, 59, 61, 62, 63, 64, 65, 66, 67, 68, 69, 71, 73, 74, 75, 76, 78, 79, 80, 82, 83, 84, 86, 87, 88, 89, 90, 91, 93, 95, 96, 97, 98, 99, 100, 101, 103, 104, 105, 106, 107, 109, 110, 111, 112, 113, 114, 115, 116, 117, 118, 119, 120, 121, 122, 123, 124, 125, 126, 127, 128, 129, 130, 131, 132, 134, 135, 136, 137, 138, 139, 140, 141, 142, 143, 144]\n"
     ]
    }
   ],
   "source": [
    "# Read in and store the framewise displacement (fd) for the given dataset in a variable called fdAvgs,\n",
    "# and create the TS_path_names and indices2Keep variables\n",
    "\n",
    "# Store the fdAvgs and set a threshold fd\n",
    "filePath = '/Users/AV/Dropbox/COBRE/movementData/fdAvgs_COBRE.txt'\n",
    "fdAvgs = pd.read_csv(filePath,header=None);\n",
    "threshold_fd = 0.5\n",
    "\n",
    "# Store the path of the folder containing the subject data for the given dataset\n",
    "subPath = '/Users/AV/Dropbox/COBRE/cfgData/'\n",
    "\n",
    "# Need to alphabetise and store the subject file names into a variable\n",
    "Orig_TS_path_names = sorted(glob.glob(subPath + '*.mat'))\n",
    "TS_path_names = sorted(glob.glob(subPath + '*.mat'))\n",
    "\n",
    "# Filter the subjects based on their fd, and retain the subjects that have an fd < threshold_fd\n",
    "TS_path_names, indices2Keep = af.removePathNames(filePath, threshold_fd, TS_path_names)\n",
    "indices2Keep = indices2Keep.tolist()\n",
    "\n",
    "# Adding 1 to every element in the array to convert to MATLAB indexing\n",
    "indices2KeepMat = list(np.asarray(indices2Keep) + 1)\n",
    "\n",
    "# print(indices2Keep)"
   ]
  },
  {
   "cell_type": "code",
   "execution_count": 3,
   "metadata": {},
   "outputs": [],
   "source": [
    "# Add a multi-level index to the tsData and store some key variables\n",
    "\n",
    "element_txt = 'element3_COBRE.txt' # Read in the feature matrix data from the saved .txt file\n",
    "PyFeatList_txt = 'PythonFeatureList.txt' # This text file contains the 22 feature names\n",
    "\n",
    "# Add a multi-level index to the feature matrix and save into the variable, tsData\n",
    "# Also store the number of ROIs and subjects in the data\n",
    "tsData, ROIs, subjects, feats, featList = af.addIndices(element_txt,subPath,PyFeatList_txt)"
   ]
  },
  {
   "cell_type": "code",
   "execution_count": 4,
   "metadata": {},
   "outputs": [],
   "source": [
    "# Select a given feature from the dataframe\n",
    "''' This function should take the tsData, feature name and the indices to be kept (based on the threshold fd) and\n",
    "    return the selected featSlice as a dataframe '''\n",
    "\n",
    "featureName = 'CO_Embed2_Dist_tau_d_expfit_meandiff' # The first feature\n",
    "feature = 1\n",
    "\n",
    "def getFeatSlice(ROIs,subjects,tsData,feature,indices2KeepMat):\n",
    "\n",
    "    ROI_index = list(range(1,ROIs+1))\n",
    "    sub_index = list(range(1,subjects+1))\n",
    "\n",
    "    # featSlice = tsData.loc[:,featureName].values.reshape(ROIs,subjects).transpose() # Make the featSlice (no index)\n",
    "    \n",
    "    # If you want to use feature number instead:\n",
    "    featSlice = tsData.iloc[:,feature-1].values.reshape(ROIs,subjects).transpose() # Make the featSlice (no index)\n",
    "    \n",
    "    featSlice = pd.DataFrame(data=featSlice, index=sub_index, columns=ROI_index) # Add the index\n",
    "    featSlice.index.name = 'Subject' # Name the index\n",
    "    featSlice = featSlice.loc[indices2KeepMat,:] # Test if you can take a subsection of the featSlice \n",
    "\n",
    "    return featSlice\n",
    "\n",
    "featSlice = getFeatSlice(ROIs,subjects,tsData,feature,indices2KeepMat)\n",
    "\n",
    "# featSlice"
   ]
  },
  {
   "cell_type": "code",
   "execution_count": 5,
   "metadata": {},
   "outputs": [],
   "source": [
    "# Select a given ROI from the dataframe - Replaces the analysis function 'getROISlice'\n",
    "''' Take the tsData, ROI and the indices to be kept (based on the threshold fd) and\n",
    "    return the selected ROISlice as a dataframe '''\n",
    "\n",
    "ROI = 1 # Select the first ROI\n",
    "\n",
    "ROISlice = tsData.loc[ROI,indices2KeepMat,:]\n",
    "\n",
    "# ROISlice\n",
    "\n",
    "# ROISlice.loc[:,featList[:2]] # Sub-selection"
   ]
  },
  {
   "cell_type": "code",
   "execution_count": 6,
   "metadata": {},
   "outputs": [],
   "source": [
    "# Create the target column - unique for each dataset\n",
    "\n",
    "# Select which dataset is being used\n",
    "dataset = 'COBRE'\n",
    "\n",
    "if dataset == 'UCLA':\n",
    "\n",
    "    # Creating the target column\n",
    "    targetCol = af.getTargetCol(TS_path_names)\n",
    "\n",
    "elif dataset == 'COBRE':\n",
    "\n",
    "    # Creating the target column\n",
    "    csvPath = '/Users/AV/Dropbox/COBRE/participants.csv'\n",
    "    COBRE = pd.read_csv(csvPath,header=None);\n",
    "\n",
    "    targetCol = COBRE.iloc[1:,2]\n",
    "    targetCol = targetCol.tolist()\n",
    "    targetCol = pd.DataFrame(data=targetCol, columns=['target'])\n",
    "    \n",
    "    targetCol = targetCol.iloc[indices2Keep,:]\n",
    "    targetCol = np.asarray(targetCol,dtype=np.int)\n",
    "\n",
    "    # A '0' indicates a control subject and a '1' indicates a subject with SCZ\n",
    "    targetColModified = np.where(targetCol==1, 0, targetCol) # First change the pre-existing 1s to 0s\n",
    "    targetCol = np.where(targetCol==2, 1, targetColModified) # Then change the 2s to 1s"
   ]
  },
  {
   "cell_type": "code",
   "execution_count": 7,
   "metadata": {},
   "outputs": [
    {
     "name": "stdout",
     "output_type": "stream",
     "text": [
      "Control = 69\n",
      "SCZ = 55\n",
      "Total = 124\n",
      "SCZ : Control = 0.80 : 1\n"
     ]
    }
   ],
   "source": [
    "# The number of control : SCZ subjects and the total number of subjects\n",
    "\n",
    "Control = (targetCol == 0).sum()\n",
    "print('Control = ' + str(Control))\n",
    "\n",
    "SCZ = (targetCol == 1).sum()\n",
    "print('SCZ = ' + str(SCZ))\n",
    "\n",
    "Total = int(SCZ + Control)\n",
    "print('Total = ' + str(Total))\n",
    "\n",
    "SCZ2Ctrl = '{0:.2f}'.format(SCZ/Control)\n",
    "print('SCZ : Control = ' + str(SCZ2Ctrl) + ' : 1')"
   ]
  },
  {
   "cell_type": "code",
   "execution_count": 8,
   "metadata": {},
   "outputs": [],
   "source": [
    "# Assign the data to variables\n",
    "DataSlice = featSlice # featSlice or ROISlice\n",
    "DataSlice_zscored = DataSlice.apply(zscore)\n",
    "\n",
    "X = DataSlice_zscored\n",
    "y = np.ravel(targetCol)\n",
    "\n",
    "# X"
   ]
  },
  {
   "cell_type": "code",
   "execution_count": 9,
   "metadata": {},
   "outputs": [
    {
     "name": "stdout",
     "output_type": "stream",
     "text": [
      "10-fold CV scores as a percentage: [53.6 52.4 52.4 50.  59.5 58.6 58.6 41.4 44.3 50. ]\n",
      "\n",
      "Accuracy as a percentage: 52.1 (+/- 5.7)\n"
     ]
    }
   ],
   "source": [
    "# Perform 10-fold CV\n",
    "\n",
    "scores = af.get10FoldCVScore(X,y)\n",
    "\n",
    "# Print scores\n",
    "print('10-fold CV scores as a percentage: ' + str(scores))\n",
    "print('')\n",
    "\n",
    "# Mean 10-fold CV score with an error of 1 std dev\n",
    "print(\"Accuracy as a percentage: %0.1f (+/- %0.1f)\" % (scores.mean(), scores.std()))"
   ]
  },
  {
   "cell_type": "code",
   "execution_count": 10,
   "metadata": {},
   "outputs": [
    {
     "data": {
      "text/html": [
       "<div>\n",
       "<style scoped>\n",
       "    .dataframe tbody tr th:only-of-type {\n",
       "        vertical-align: middle;\n",
       "    }\n",
       "\n",
       "    .dataframe tbody tr th {\n",
       "        vertical-align: top;\n",
       "    }\n",
       "\n",
       "    .dataframe thead th {\n",
       "        text-align: right;\n",
       "    }\n",
       "</style>\n",
       "<table border=\"1\" class=\"dataframe\">\n",
       "  <thead>\n",
       "    <tr style=\"text-align: right;\">\n",
       "      <th></th>\n",
       "      <th>t-value</th>\n",
       "      <th>p-value</th>\n",
       "    </tr>\n",
       "    <tr>\n",
       "      <th>Feature / ROI</th>\n",
       "      <th></th>\n",
       "      <th></th>\n",
       "    </tr>\n",
       "  </thead>\n",
       "  <tbody>\n",
       "    <tr>\n",
       "      <th>3</th>\n",
       "      <td>1.574824</td>\n",
       "      <td>0.235801</td>\n",
       "    </tr>\n",
       "    <tr>\n",
       "      <th>1</th>\n",
       "      <td>1.112364</td>\n",
       "      <td>0.536567</td>\n",
       "    </tr>\n",
       "    <tr>\n",
       "      <th>6</th>\n",
       "      <td>0.674236</td>\n",
       "      <td>1.002971</td>\n",
       "    </tr>\n",
       "    <tr>\n",
       "      <th>2</th>\n",
       "      <td>0.658009</td>\n",
       "      <td>1.023663</td>\n",
       "    </tr>\n",
       "    <tr>\n",
       "      <th>5</th>\n",
       "      <td>0.301481</td>\n",
       "      <td>1.527288</td>\n",
       "    </tr>\n",
       "    <tr>\n",
       "      <th>4</th>\n",
       "      <td>0.297446</td>\n",
       "      <td>1.533396</td>\n",
       "    </tr>\n",
       "  </tbody>\n",
       "</table>\n",
       "</div>"
      ],
      "text/plain": [
       "                t-value   p-value\n",
       "Feature / ROI                    \n",
       "3              1.574824  0.235801\n",
       "1              1.112364  0.536567\n",
       "6              0.674236  1.002971\n",
       "2              0.658009  1.023663\n",
       "5              0.301481  1.527288\n",
       "4              0.297446  1.533396"
      ]
     },
     "execution_count": 10,
     "metadata": {},
     "output_type": "execute_result"
    }
   ],
   "source": [
    "# Store the first five indices of the ROIs / features with the most significant p-values (the third output)\n",
    "\n",
    "tpValDf, tpValDf_sorted, sigPValInds = af.getTPVals(targetCol, DataSlice)\n",
    "\n",
    "tpValDf_sorted"
   ]
  },
  {
   "cell_type": "code",
   "execution_count": 11,
   "metadata": {},
   "outputs": [
    {
     "data": {
      "image/png": "[encoded data removed]",
      "text/plain": [
       "<Figure size 447.85x360 with 1 Axes>"
      ]
     },
     "metadata": {},
     "output_type": "display_data"
    }
   ],
   "source": [
    "# Show me the PCA figure\n",
    "\n",
    "af.showMePCAFig(DataSlice, targetCol)"
   ]
  },
  {
   "cell_type": "code",
   "execution_count": 12,
   "metadata": {},
   "outputs": [
    {
     "data": {
      "image/png": "[encoded data removed]",
      "text/plain": [
       "<Figure size 432x288 with 5 Axes>"
      ]
     },
     "metadata": {},
     "output_type": "display_data"
    }
   ],
   "source": [
    "# Show me the top five features / ROIs as violin plots in the ROI / feature being analysed\n",
    "\n",
    "af.showMeViolinPlts(targetCol, sigPValInds, DataSlice, 0, ROI)"
   ]
  },
  {
   "cell_type": "code",
   "execution_count": 13,
   "metadata": {},
   "outputs": [
    {
     "name": "stdout",
     "output_type": "stream",
     "text": [
      "\n",
      "        % Accuracy  ROI Error\n",
      "Region                       \n",
      "3            57.83  14.059662\n",
      "4            56.85  14.402378\n",
      "1            56.67  15.367176\n",
      "5            54.89  11.876990\n",
      "6            50.32  16.339878\n",
      "\n",
      "Mean Accuracy (across all regions) = 54.47%\n",
      "\n",
      "Mean Error (across all regions) = 14.66%\n",
      "\n"
     ]
    },
    {
     "data": {
      "image/png": "[encoded data removed]",
      "text/plain": [
       "<Figure size 432x288 with 1 Axes>"
      ]
     },
     "metadata": {},
     "output_type": "display_data"
    }
   ],
   "source": [
    "# Define a function, showMeROIAccPlot\n",
    "\n",
    "# Need to check if this is showing the accuracies for all the ROIs / features in a particular feature / region\n",
    "\n",
    "def showMeROIAccPlot(ROIs, tsData, indices2KeepMat, targetCol, boolean):\n",
    "    ''' This function displays the region accuracy plot and the top 5 regions\n",
    "    having the highest accuracies\n",
    "    If 0 is given as an input, this function suppresses any printed messages\n",
    "    and plots but returns the mean regional accuracy and error '''\n",
    "\n",
    "    # Initialise a few variables\n",
    "    regions = np.zeros([ROIs])\n",
    "    region_acc = np.zeros([ROIs])\n",
    "    roiErr = np.zeros([ROIs])\n",
    "\n",
    "    for n in range(1, ROIs+1):\n",
    "        \n",
    "        # For each of the 1 to n regions, show me how good all of the features are at predicting\n",
    "        # whether the subject has SCZ or not\n",
    "        tsDataSlice = tsData.loc[n,indices2KeepMat,:]\n",
    "        tsDataSlice_zscored = tsDataSlice.apply(zscore)\n",
    "        \n",
    "        ## Print the top 5 features for each region being analysed\n",
    "        # top5Feats = af.getTPVals(targetCol, tsDataSlice)[2]\n",
    "        # print(top5Feats)\n",
    "\n",
    "        # Assign the data to variables\n",
    "        X = tsDataSlice_zscored\n",
    "        y = np.ravel(targetCol)\n",
    "\n",
    "        avgScore = af.get10FoldCVScore(X,y).mean() # Denotes how good all the features in a given region are at predicting if a subject has SCZ\n",
    "        avgSTD = af.get10FoldCVScore(X,y).std()  \n",
    "        regions[n-1] = n\n",
    "        region_acc[n-1] = avgScore\n",
    "        roiErr[n-1] = avgSTD\n",
    "\n",
    "    df = pd.DataFrame({'Region':regions,'% Accuracy':region_acc,'ROI Error':roiErr})\n",
    "    df['Region'] = df.Region.astype(int)\n",
    "\n",
    "    df_sorted = df.sort_values(by='% Accuracy',ascending=False)\n",
    "    df_sorted = df_sorted.set_index('Region')\n",
    "\n",
    "    if boolean == 1:\n",
    "        print('')\n",
    "        print(df_sorted[:5].to_string())\n",
    "        print('')\n",
    "\n",
    "        print('Mean Accuracy (across all regions) = ' +\n",
    "        \"{0:.2f}\".format(df['% Accuracy'].mean()) + '%')\n",
    "        print('')\n",
    "\n",
    "        print('Mean Error (across all regions) = ' +\n",
    "        \"{0:.2f}\".format(df['ROI Error'].mean()) + '%')\n",
    "        print('')\n",
    "\n",
    "        sns.distplot(region_acc, bins='auto', kde=False)\n",
    "        plt.xlabel('Classification Accuracy (%)')\n",
    "        plt.ylabel('No. of Regions')\n",
    "        plt.show()\n",
    "        return\n",
    "    \n",
    "    elif boolean == 0:\n",
    "        meanROIAcc = '{0:.2f}'.format(df['% Accuracy'].mean())\n",
    "        AvgROIError = '{0:.2f}'.format(df['ROI Error'].mean())\n",
    "        return meanROIAcc, AvgROIError, df_sorted\n",
    "    \n",
    "showMeROIAccPlot(ROIs, tsData, indices2KeepMat, targetCol,1)"
   ]
  },
  {
   "cell_type": "code",
   "execution_count": 14,
   "metadata": {},
   "outputs": [
    {
     "name": "stdout",
     "output_type": "stream",
     "text": [
      "         % Accuracy  Feat Error\n",
      "Feature                        \n",
      "7             58.50   11.686488\n",
      "13            57.96   13.258597\n",
      "8             57.00   11.667905\n",
      "21            56.97    9.548199\n",
      "15            54.86   14.175556\n",
      "\n",
      "Mean Accuracy (across all features) = 51.29%\n",
      "\n",
      "Mean Error (across all features) = 9.05%\n",
      "\n"
     ]
    },
    {
     "data": {
      "image/png": "[encoded data removed]",
      "text/plain": [
       "<Figure size 432x288 with 1 Axes>"
      ]
     },
     "metadata": {},
     "output_type": "display_data"
    }
   ],
   "source": [
    "# Define a function, showMeFeatAccPlot\n",
    "\n",
    "# getFeatSlice(ROIs,subjects,tsData,feature,indices2KeepMat)\n",
    "# showMeROIAccPlot(ROIs, tsData, indices2KeepMat, targetCol, 1)\n",
    "\n",
    "def showMeFeatAccPlot(ROIs, feats, subjects, tsData, indices2KeepMat, targetCol, boolean):\n",
    "    ''' This function displays the feature accuracy plot and the top 5 features\n",
    "    having the highest accuracies\n",
    "    If 0 is given as an input, this function suppresses any printed messages\n",
    "    and plots but returns the mean feature accuracy and error '''\n",
    "\n",
    "    # Initialise a few variables\n",
    "    featNo = np.zeros([feats])\n",
    "    feat_acc = np.zeros([feats])\n",
    "    featErr = np.zeros([feats])\n",
    "\n",
    "    for n in range(1, feats+1):\n",
    "\n",
    "        # For each of the 1 to 22 features, show me how good all of the ROIs are at predicting\n",
    "        # whether the subject has SCZ or not\n",
    "        tsDataSlice = getFeatSlice(ROIs,subjects,tsData,n,indices2KeepMat)\n",
    "        tsDataSlice_zscored = tsDataSlice.apply(zscore)\n",
    "\n",
    "        # Assign the data to variables\n",
    "        X = tsDataSlice_zscored\n",
    "        y = np.ravel(targetCol)\n",
    "\n",
    "        avgScore = af.get10FoldCVScore(X,y).mean()\n",
    "        avgSTD = af.get10FoldCVScore(X,y).std()\n",
    "        featNo[n-1] = n\n",
    "        feat_acc[n-1] = avgScore\n",
    "        featErr[n-1] = avgSTD\n",
    "\n",
    "    df = pd.DataFrame({'Feature':featNo,'% Accuracy':feat_acc,'Feat Error':featErr})\n",
    "    df['Feature'] = df.Feature.astype(int)\n",
    "\n",
    "    df_sorted = df.sort_values(by='% Accuracy',ascending=False)\n",
    "    df_sorted = df_sorted.set_index('Feature')\n",
    "\n",
    "    if boolean == 1:\n",
    "        print(df_sorted[:5].to_string())\n",
    "        print('')\n",
    "\n",
    "        print('Mean Accuracy (across all features) = ' +\n",
    "        \"{0:.2f}\".format(df['% Accuracy'].mean()) + '%')\n",
    "        print('')\n",
    "\n",
    "        print('Mean Error (across all features) = ' +\n",
    "        \"{0:.2f}\".format(df['Feat Error'].mean()) + '%')\n",
    "        print('')\n",
    "\n",
    "        sns.distplot(feat_acc, bins='auto', kde=False)\n",
    "        plt.xlabel('Classification Accuracy (%)')\n",
    "        plt.ylabel('No. of Features')\n",
    "        plt.show()\n",
    "        return\n",
    "    \n",
    "    elif boolean == 0:\n",
    "        meanFeatAcc = '{0:.2f}'.format(df['% Accuracy'].mean())\n",
    "        AvgFeatError = '{0:.2f}'.format(df['Feat Error'].mean())\n",
    "        return meanFeatAcc, AvgFeatError, df_sorted\n",
    "    \n",
    "showMeFeatAccPlot(ROIs, feats, subjects, tsData, indices2KeepMat, targetCol, 1)"
   ]
  },
  {
   "cell_type": "code",
   "execution_count": 15,
   "metadata": {},
   "outputs": [],
   "source": [
    "# Region-by-Region Analysis\n",
    "\n",
    "# def Reg_by_Reg_Anal():"
   ]
  },
  {
   "cell_type": "code",
   "execution_count": 16,
   "metadata": {},
   "outputs": [
    {
     "data": {
      "text/plain": [
       "' Input tsData\\n    Select a region to analyse\\n    Input the indices2Keep\\n    \\n    Create the targetCol\\n    z-score the ROISlice and ravel the targetCol\\n    Perform 10-fold CV '"
      ]
     },
     "execution_count": 16,
     "metadata": {},
     "output_type": "execute_result"
    }
   ],
   "source": [
    "# Region-by-Region Analysis\n",
    "''' Input tsData\n",
    "    Select a region to analyse\n",
    "    Input the indices2Keep\n",
    "    \n",
    "    Create the targetCol\n",
    "    z-score the ROISlice and ravel the targetCol\n",
    "    Perform 10-fold CV '''\n",
    "\n",
    "# Feature-by-Feature Analysis\n",
    "\n",
    "#"
   ]
  }
 ],
 "metadata": {
  "kernelspec": {
   "display_name": "Python 3",
   "language": "python",
   "name": "python3"
  },
  "language_info": {
   "codemirror_mode": {
    "name": "ipython",
    "version": 3
   },
   "file_extension": ".py",
   "mimetype": "text/x-python",
   "name": "python",
   "nbconvert_exporter": "python",
   "pygments_lexer": "ipython3",
   "version": "3.7.2"
  }
 },
 "nbformat": 4,
 "nbformat_minor": 2
}

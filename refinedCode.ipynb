{
 "cells": [
  {
   "cell_type": "code",
   "execution_count": 1,
   "metadata": {},
   "outputs": [],
   "source": [
    "# Import required modules\n",
    "import glob\n",
    "import scipy.io as sio\n",
    "import pandas as pd\n",
    "import numpy as np\n",
    "import matplotlib.pyplot as plt\n",
    "plt.style.use('ggplot')\n",
    "import seaborn as sns\n",
    "import sklearn\n",
    "import analysisFunctions as af\n",
    "\n",
    "from scipy.stats import zscore"
   ]
  },
  {
   "cell_type": "code",
   "execution_count": 2,
   "metadata": {},
   "outputs": [],
   "source": [
    "# Read in and store the framewise displacement (fd) for the given dataset in a variable called fdAvgs,\n",
    "# and create the TS_path_names and indices2Keep variables\n",
    "\n",
    "# Store the fdAvgs and set a threshold fd\n",
    "filePath = '/Users/AV/Dropbox/COBRE/movementData/fdAvgs_COBRE.txt'\n",
    "fdAvgs = pd.read_csv(filePath,header=None);\n",
    "threshold_fd = 0.5\n",
    "\n",
    "# Store the path of the folder containing the subject data for the given dataset\n",
    "subPath = '/Users/AV/Dropbox/COBRE/cfgData/'\n",
    "\n",
    "# Need to alphabetise and store the subject file names into a variable\n",
    "TS_path_names = sorted(glob.glob(subPath + '*.mat'))\n",
    "\n",
    "# Filter the subjects based on their fd, and retain the subjects that have an fd < threshold_fd\n",
    "TS_path_names, indices2Keep = af.removePathNames(filePath, threshold_fd, TS_path_names)\n",
    "indices2Keep = indices2Keep.tolist()\n",
    "\n",
    "# Adding 1 to every element in the array to convert to MATLAB indexing\n",
    "indices2KeepMat = list(np.asarray(indices2Keep) + 1)\n",
    "\n",
    "# print(indices2KeepMat)"
   ]
  },
  {
   "cell_type": "code",
   "execution_count": 3,
   "metadata": {},
   "outputs": [],
   "source": [
    "# Add a multi-level index to the tsData and store some key variables\n",
    "\n",
    "element = 'element1_COBRE.txt' # Read in the feature matrix data from the saved .txt file\n",
    "PyFeatList = 'PythonFeatureList.txt' # This text file contains the 22 feature names\n",
    "\n",
    "# Add a multi-level index to the feature matrix and save into the variable, tsData\n",
    "# Also store the number of ROIs and subjects in the data\n",
    "tsData, ROIs, subjects, feats, featList = af.addIndices(element,subPath,PyFeatList)"
   ]
  },
  {
   "cell_type": "code",
   "execution_count": 4,
   "metadata": {},
   "outputs": [],
   "source": [
    "# Select a given feature from the dataframe\n",
    "''' This function should take the tsData, feature name and the indices to be kept (based on the threshold fd) and\n",
    "    return the selected featSlice as a dataframe '''\n",
    "\n",
    "# Choose which feature to analyse\n",
    "feature = 1\n",
    "\n",
    "featureName = featList[feature-1]\n",
    "\n",
    "featSlice = af.getFeatSlice(ROIs,subjects,tsData,featureName,indices2KeepMat)\n",
    "\n",
    "# featSlice"
   ]
  },
  {
   "cell_type": "code",
   "execution_count": 5,
   "metadata": {},
   "outputs": [],
   "source": [
    "# Select a given ROI from the dataframe - Replaces the analysis function 'getROISlice'\n",
    "''' Take the tsData, ROI and the indices to be kept (based on the threshold fd) and\n",
    "    return the selected ROISlice as a dataframe '''\n",
    "\n",
    "ROI = 1 # Select the first ROI\n",
    "\n",
    "ROISlice = tsData.loc[ROI,indices2KeepMat,:]\n",
    "\n",
    "# ROISlice\n",
    "\n",
    "# ROISlice.loc[:,featList[:2]] # Sub-selection"
   ]
  },
  {
   "cell_type": "code",
   "execution_count": 6,
   "metadata": {},
   "outputs": [],
   "source": [
    "# Create the target column - unique for each dataset\n",
    "\n",
    "# Select which dataset is being used\n",
    "dataset = 'COBRE'\n",
    "\n",
    "if dataset == 'UCLA':\n",
    "\n",
    "    # Creating the target column\n",
    "    targetCol = af.getTargetCol(TS_path_names)\n",
    "\n",
    "elif dataset == 'COBRE':\n",
    "\n",
    "    # Creating the target column\n",
    "    csvPath = '/Users/AV/Dropbox/COBRE/participants.csv'\n",
    "    COBRE = pd.read_csv(csvPath,header=None);\n",
    "\n",
    "    targetCol = COBRE.iloc[1:,2]\n",
    "    targetCol = targetCol.tolist()\n",
    "    targetCol = pd.DataFrame(data=targetCol, columns=['target'])\n",
    "    \n",
    "    targetCol = targetCol.iloc[indices2Keep,:]\n",
    "    targetCol = np.asarray(targetCol,dtype=np.int)\n",
    "\n",
    "    # A '0' indicates a control subject and a '1' indicates a subject with SCZ\n",
    "    targetColModified = np.where(targetCol==1, 0, targetCol) # First change the pre-existing 1s to 0s\n",
    "    targetCol = np.where(targetCol==2, 1, targetColModified) # Then change the 2s to 1s"
   ]
  },
  {
   "cell_type": "code",
   "execution_count": 7,
   "metadata": {},
   "outputs": [
    {
     "name": "stdout",
     "output_type": "stream",
     "text": [
      "Control = 69\n",
      "SCZ = 55\n",
      "Total = 124\n",
      "SCZ : Control = 0.80 : 1\n"
     ]
    }
   ],
   "source": [
    "# Store and print the subject numbers within the dataset\n",
    "\n",
    "Control, SCZ, Total, SCZ2Ctrl = af.giveMeSubjectNums(targetCol)\n",
    "\n",
    "print('Control = ' + str(Control))\n",
    "print('SCZ = ' + str(SCZ))\n",
    "print('Total = ' + str(Total))\n",
    "print('SCZ : Control = ' + str(SCZ2Ctrl) + ' : 1')"
   ]
  },
  {
   "cell_type": "code",
   "execution_count": 8,
   "metadata": {},
   "outputs": [],
   "source": [
    "# Assign the data to variables\n",
    "DataSlice = ROISlice # featSlice or ROISlice\n",
    "DataSlice_zscored = DataSlice.apply(zscore)\n",
    "\n",
    "X = DataSlice_zscored\n",
    "y = np.ravel(targetCol)\n",
    "\n",
    "# X"
   ]
  },
  {
   "cell_type": "code",
   "execution_count": 9,
   "metadata": {},
   "outputs": [
    {
     "name": "stdout",
     "output_type": "stream",
     "text": [
      "10-fold CV scores as a percentage: [53.57 36.9  44.05 44.05 55.95 58.57 58.57 51.43 58.57 26.67]\n",
      "\n",
      "Accuracy as a percentage: 48.83 (+/- 10.22)\n"
     ]
    }
   ],
   "source": [
    "# Perform 10-fold CV\n",
    "\n",
    "def get10FoldCVScore(X,y):\n",
    "    ''' This function returns a 10-fold CV score after balancing the classes '''\n",
    "\n",
    "    # Import the support vector classifier and balance the classes\n",
    "    from sklearn.svm import SVC\n",
    "    svclassifier = SVC(kernel='linear')\n",
    "\n",
    "    # Split the data into training and test sets\n",
    "    from sklearn.model_selection import StratifiedKFold\n",
    "    skf = StratifiedKFold(n_splits=10)\n",
    "\n",
    "    # Import accuracy score\n",
    "    from sklearn.metrics import balanced_accuracy_score\n",
    "\n",
    "    # Initialise a few variables\n",
    "    scores = np.zeros(10)\n",
    "    i = 0\n",
    "\n",
    "    for train_index, test_index in skf.split(X,y):\n",
    "\n",
    "        train_index = train_index.tolist()\n",
    "        test_index = test_index.tolist()\n",
    "\n",
    "#         print(\"Train:\", train_index)\n",
    "#         print('')\n",
    "#         print(\"Validation:\",test_index)\n",
    "\n",
    "        X_train, X_test = X.iloc[train_index,:], X.iloc[test_index,:]\n",
    "        y_train, y_test = y[train_index], y[test_index]\n",
    "\n",
    "        svclassifier.fit(X_train, y_train)\n",
    "        y_pred = svclassifier.predict(X_test)\n",
    "\n",
    "#         print('')\n",
    "#         print('y_test = ', y_test)\n",
    "#         print('')\n",
    "#         print('y_pred = ', y_pred)\n",
    "#         print('')\n",
    "\n",
    "        scores[i] = '{0:.2f}'.format(balanced_accuracy_score(y_test, y_pred)*100)\n",
    "#         print('Acc % = ', scores[i])\n",
    "#         print('')\n",
    "\n",
    "        # Increment index\n",
    "        i += 1\n",
    "    return scores\n",
    "\n",
    "scores = get10FoldCVScore(X,y)\n",
    "\n",
    "# Print scores\n",
    "print('10-fold CV scores as a percentage: ' + str(scores))\n",
    "print('')\n",
    "\n",
    "# Mean 10-fold CV score with an error of 1 std dev\n",
    "print(\"Accuracy as a percentage: %0.2f (+/- %0.2f)\" % (scores.mean(), scores.std()))"
   ]
  },
  {
   "cell_type": "code",
   "execution_count": 10,
   "metadata": {},
   "outputs": [],
   "source": [
    "# Store the first five indices of the ROIs / features with the most significant p-values (the third output)\n",
    "\n",
    "tpValDf, tpValDf_sorted, sigPValInds = af.getTPVals(targetCol, DataSlice)\n",
    "\n",
    "# tpValDf_sorted"
   ]
  },
  {
   "cell_type": "code",
   "execution_count": 11,
   "metadata": {},
   "outputs": [],
   "source": [
    "# Show me the PCA figure\n",
    "\n",
    "# af.showMePCAFig(DataSlice, targetCol)"
   ]
  },
  {
   "cell_type": "code",
   "execution_count": 12,
   "metadata": {},
   "outputs": [],
   "source": [
    "# Show me the top five features / ROIs as violin plots in the ROI / feature being analysed\n",
    "\n",
    "# af.showMeViolinPlts(targetCol, sigPValInds, DataSlice, 1, ROI) # When looking at ROISlices\n",
    "\n",
    "# af.showMeViolinPlts(targetCol, sigPValInds, DataSlice, 0, feature) # When looking at featSlices"
   ]
  },
  {
   "cell_type": "code",
   "execution_count": 13,
   "metadata": {},
   "outputs": [
    {
     "data": {
      "text/plain": [
       "('50.66', '12.40')"
      ]
     },
     "execution_count": 13,
     "metadata": {},
     "output_type": "execute_result"
    }
   ],
   "source": [
    "# Initialise a few boolean variables which decide what the outputs are\n",
    "\n",
    "dispFigs = False\n",
    "regAccOnly = False\n",
    "featAccOnly = False\n",
    "    \n",
    "af.showMeROIAccPlot(ROIs, tsData, indices2KeepMat, targetCol, dispFigs)"
   ]
  },
  {
   "cell_type": "code",
   "execution_count": 14,
   "metadata": {},
   "outputs": [
    {
     "data": {
      "text/plain": [
       "('54.14', '13.94')"
      ]
     },
     "execution_count": 14,
     "metadata": {},
     "output_type": "execute_result"
    }
   ],
   "source": [
    "# Define a function, showMeFeatAccPlot\n",
    "    \n",
    "af.showMeFeatAccPlot(element, subPath, PyFeatList, indices2KeepMat, targetCol, dispFigs)"
   ]
  },
  {
   "cell_type": "code",
   "execution_count": 15,
   "metadata": {},
   "outputs": [],
   "source": [
    "# Region by Region Analysis\n",
    "\n",
    "# af.Reg_by_Reg_Anal(ROI, tsData, targetCol, ROIs, indices2KeepMat, regAccOnly, dispFigs)"
   ]
  },
  {
   "cell_type": "code",
   "execution_count": 16,
   "metadata": {},
   "outputs": [],
   "source": [
    "# Feature by Feature Analysis\n",
    "\n",
    "# af.Feat_by_Feat_Anal(feature, featureName, element, subPath, PyFeatList, indices2KeepMat, targetCol, featAccOnly, dispFigs)"
   ]
  }
 ],
 "metadata": {
  "kernelspec": {
   "display_name": "Python 3",
   "language": "python",
   "name": "python3"
  },
  "language_info": {
   "codemirror_mode": {
    "name": "ipython",
    "version": 3
   },
   "file_extension": ".py",
   "mimetype": "text/x-python",
   "name": "python",
   "nbconvert_exporter": "python",
   "pygments_lexer": "ipython3",
   "version": "3.7.2"
  }
 },
 "nbformat": 4,
 "nbformat_minor": 2
}

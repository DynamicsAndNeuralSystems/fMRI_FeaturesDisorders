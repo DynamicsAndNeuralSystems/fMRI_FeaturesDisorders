{
 "cells": [
  {
   "cell_type": "code",
   "execution_count": 1,
   "metadata": {},
   "outputs": [],
   "source": [
    "# Import required modules\n",
    "import glob\n",
    "import scipy.io as sio\n",
    "import pandas as pd\n",
    "import numpy as np\n",
    "import matplotlib.pyplot as plt\n",
    "plt.style.use('ggplot')\n",
    "import seaborn as sns\n",
    "import sklearn\n",
    "import analysisFunctions as af\n",
    "\n",
    "from scipy.stats import zscore"
   ]
  },
  {
   "cell_type": "code",
   "execution_count": 2,
   "metadata": {},
   "outputs": [],
   "source": [
    "# Read in and store the framewise displacement (fd) for the given dataset in a variable called fdAvgs,\n",
    "# and create the TS_path_names and indices2Keep variables\n",
    "\n",
    "# Store the fdAvgs and set a threshold fd\n",
    "filePath = '/Users/AV/Dropbox/COBRE/movementData/fdAvgs_COBRE.txt'\n",
    "fdAvgs = pd.read_csv(filePath,header=None);\n",
    "threshold_fd = 0.5\n",
    "\n",
    "# Store the path of the folder containing the subject data for the given dataset\n",
    "subPath = '/Users/AV/Dropbox/COBRE/cfgData/'\n",
    "\n",
    "# Need to alphabetise and store the subject file names into a variable\n",
    "TS_path_names = sorted(glob.glob(subPath + '*.mat'))\n",
    "\n",
    "# Filter the subjects based on their fd, and retain the subjects that have an fd < threshold_fd\n",
    "TS_path_names, indices2Keep = af.removePathNames(filePath, threshold_fd, TS_path_names)\n",
    "indices2Keep = indices2Keep.tolist()\n",
    "\n",
    "# Adding 1 to every element in the array to convert to MATLAB indexing\n",
    "indices2KeepMat = list(np.asarray(indices2Keep) + 1)\n",
    "\n",
    "# print(indices2Keep)"
   ]
  },
  {
   "cell_type": "code",
   "execution_count": 3,
   "metadata": {},
   "outputs": [],
   "source": [
    "# Add a multi-level index to the tsData and store some key variables\n",
    "\n",
    "element_txt = 'element3_COBRE.txt' # Read in the feature matrix data from the saved .txt file\n",
    "PyFeatList_txt = 'PythonFeatureList.txt' # This text file contains the 22 feature names\n",
    "\n",
    "# Add a multi-level index to the feature matrix and save into the variable, tsData\n",
    "# Also store the number of ROIs and subjects in the data\n",
    "tsData, ROIs, subjects, feats, featList = af.addIndices(element_txt,subPath,PyFeatList_txt)"
   ]
  },
  {
   "cell_type": "code",
   "execution_count": 4,
   "metadata": {},
   "outputs": [],
   "source": [
    "# Select a given feature from the dataframe\n",
    "''' This function should take the tsData, feature name and the indices to be kept (based on the threshold fd) and\n",
    "    return the selected featSlice as a dataframe '''\n",
    "\n",
    "# Choose which feature to analyse\n",
    "feature = 1\n",
    "\n",
    "featureName = featList[feature-1]\n",
    "\n",
    "def getFeatSlice(ROIs,subjects,tsData,featureName,indices2KeepMat):\n",
    "\n",
    "    ROI_index = list(range(1,ROIs+1))\n",
    "    sub_index = list(range(1,subjects+1))\n",
    "\n",
    "    featSlice = tsData.loc[:,featureName].values.reshape(ROIs,subjects).transpose() # Make the featSlice (no index)\n",
    "    \n",
    "    featSlice = pd.DataFrame(data=featSlice, index=sub_index, columns=ROI_index) # Add the index\n",
    "    featSlice.index.name = 'Subject' # Name the index\n",
    "    featSlice = featSlice.loc[indices2KeepMat,:] # Test if you can take a subsection of the featSlice \n",
    "\n",
    "    return featSlice\n",
    "\n",
    "featSlice = getFeatSlice(ROIs,subjects,tsData,featureName,indices2KeepMat)\n",
    "\n",
    "# featSlice"
   ]
  },
  {
   "cell_type": "code",
   "execution_count": 5,
   "metadata": {},
   "outputs": [],
   "source": [
    "# Select a given ROI from the dataframe - Replaces the analysis function 'getROISlice'\n",
    "''' Take the tsData, ROI and the indices to be kept (based on the threshold fd) and\n",
    "    return the selected ROISlice as a dataframe '''\n",
    "\n",
    "ROI = 1 # Select the first ROI\n",
    "\n",
    "ROISlice = tsData.loc[ROI,indices2KeepMat,:]\n",
    "\n",
    "# ROISlice\n",
    "\n",
    "# ROISlice.loc[:,featList[:2]] # Sub-selection"
   ]
  },
  {
   "cell_type": "code",
   "execution_count": 6,
   "metadata": {},
   "outputs": [],
   "source": [
    "# Create the target column - unique for each dataset\n",
    "\n",
    "# Select which dataset is being used\n",
    "dataset = 'COBRE'\n",
    "\n",
    "if dataset == 'UCLA':\n",
    "\n",
    "    # Creating the target column\n",
    "    targetCol = af.getTargetCol(TS_path_names)\n",
    "\n",
    "elif dataset == 'COBRE':\n",
    "\n",
    "    # Creating the target column\n",
    "    csvPath = '/Users/AV/Dropbox/COBRE/participants.csv'\n",
    "    COBRE = pd.read_csv(csvPath,header=None);\n",
    "\n",
    "    targetCol = COBRE.iloc[1:,2]\n",
    "    targetCol = targetCol.tolist()\n",
    "    targetCol = pd.DataFrame(data=targetCol, columns=['target'])\n",
    "    \n",
    "    targetCol = targetCol.iloc[indices2Keep,:]\n",
    "    targetCol = np.asarray(targetCol,dtype=np.int)\n",
    "\n",
    "    # A '0' indicates a control subject and a '1' indicates a subject with SCZ\n",
    "    targetColModified = np.where(targetCol==1, 0, targetCol) # First change the pre-existing 1s to 0s\n",
    "    targetCol = np.where(targetCol==2, 1, targetColModified) # Then change the 2s to 1s"
   ]
  },
  {
   "cell_type": "code",
   "execution_count": 7,
   "metadata": {},
   "outputs": [
    {
     "name": "stdout",
     "output_type": "stream",
     "text": [
      "Control = 69\n",
      "SCZ = 55\n",
      "Total = 124\n",
      "SCZ : Control = 0.80 : 1\n"
     ]
    }
   ],
   "source": [
    "# The number of control : SCZ subjects and the total number of subjects\n",
    "\n",
    "Control = (targetCol == 0).sum()\n",
    "print('Control = ' + str(Control))\n",
    "\n",
    "SCZ = (targetCol == 1).sum()\n",
    "print('SCZ = ' + str(SCZ))\n",
    "\n",
    "Total = int(SCZ + Control)\n",
    "print('Total = ' + str(Total))\n",
    "\n",
    "SCZ2Ctrl = '{0:.2f}'.format(SCZ/Control)\n",
    "print('SCZ : Control = ' + str(SCZ2Ctrl) + ' : 1')"
   ]
  },
  {
   "cell_type": "code",
   "execution_count": 8,
   "metadata": {},
   "outputs": [],
   "source": [
    "# Assign the data to variables\n",
    "DataSlice = ROISlice # featSlice or ROISlice\n",
    "DataSlice_zscored = DataSlice.apply(zscore)\n",
    "\n",
    "X = DataSlice_zscored\n",
    "y = np.ravel(targetCol)\n",
    "\n",
    "# X"
   ]
  },
  {
   "cell_type": "code",
   "execution_count": 9,
   "metadata": {},
   "outputs": [
    {
     "name": "stdout",
     "output_type": "stream",
     "text": [
      "10-fold CV scores as a percentage: [60.7 83.3 47.6 67.9 60.7 48.6 52.9 75.7 34.3 35. ]\n",
      "\n",
      "Accuracy as a percentage: 56.7 (+/- 15.4)\n"
     ]
    }
   ],
   "source": [
    "# Perform 10-fold CV\n",
    "\n",
    "scores = af.get10FoldCVScore(X,y)\n",
    "\n",
    "# Print scores\n",
    "print('10-fold CV scores as a percentage: ' + str(scores))\n",
    "print('')\n",
    "\n",
    "# Mean 10-fold CV score with an error of 1 std dev\n",
    "print(\"Accuracy as a percentage: %0.1f (+/- %0.1f)\" % (scores.mean(), scores.std()))"
   ]
  },
  {
   "cell_type": "code",
   "execution_count": 10,
   "metadata": {},
   "outputs": [],
   "source": [
    "# Store the first five indices of the ROIs / features with the most significant p-values (the third output)\n",
    "\n",
    "tpValDf, tpValDf_sorted, sigPValInds = af.getTPVals(targetCol, DataSlice)\n",
    "\n",
    "# tpValDf_sorted"
   ]
  },
  {
   "cell_type": "code",
   "execution_count": 11,
   "metadata": {},
   "outputs": [],
   "source": [
    "# Show me the PCA figure\n",
    "\n",
    "# af.showMePCAFig(DataSlice, targetCol)"
   ]
  },
  {
   "cell_type": "code",
   "execution_count": 12,
   "metadata": {},
   "outputs": [
    {
     "data": {
      "image/png": "[encoded data removed]",
      "text/plain": [
       "<Figure size 432x288 with 5 Axes>"
      ]
     },
     "metadata": {
      "needs_background": "light"
     },
     "output_type": "display_data"
    }
   ],
   "source": [
    "# Show me the top five features / ROIs as violin plots in the ROI / feature being analysed\n",
    "\n",
    "af.showMeViolinPlts(targetCol, sigPValInds, DataSlice, 1, ROI) # When looking at ROISlices\n",
    "\n",
    "# af.showMeViolinPlts(targetCol, sigPValInds, DataSlice, 0, feature) # When looking at featSlices"
   ]
  },
  {
   "cell_type": "code",
   "execution_count": 13,
   "metadata": {},
   "outputs": [
    {
     "name": "stdout",
     "output_type": "stream",
     "text": [
      "\n",
      "        % Accuracy  ROI Error\n",
      "Region                       \n",
      "3            57.83  14.059662\n",
      "4            56.85  14.402378\n",
      "1            56.67  15.367176\n",
      "5            54.89  11.876990\n",
      "6            50.32  16.339878\n",
      "\n",
      "Mean Accuracy (across all regions) = 54.47%\n",
      "\n",
      "Mean Error (across all regions) = 14.66%\n",
      "\n"
     ]
    },
    {
     "data": {
      "image/png": "[encoded data removed]",
      "text/plain": [
       "<Figure size 432x288 with 1 Axes>"
      ]
     },
     "metadata": {
      "needs_background": "light"
     },
     "output_type": "display_data"
    }
   ],
   "source": [
    "# Define a function, showMeROIAccPlot\n",
    "\n",
    "# Need to check if this is showing the accuracies for all the ROIs / features in a particular feature / region\n",
    "\n",
    "def showMeROIAccPlot(ROIs, tsData, indices2KeepMat, targetCol, dispFigs):\n",
    "    ''' This function displays the region accuracy plot and the top 5 regions\n",
    "    having the highest accuracies\n",
    "    If 0 is given as an input, this function suppresses any printed messages\n",
    "    and plots but returns the mean regional accuracy and error '''\n",
    "\n",
    "    # Initialise a few variables\n",
    "    regions = np.zeros([ROIs])\n",
    "    region_acc = np.zeros([ROIs])\n",
    "    roiErr = np.zeros([ROIs])\n",
    "\n",
    "    for n in range(1, ROIs+1):\n",
    "        \n",
    "        # For each of the 1 to n regions, show me how good all of the features are at predicting\n",
    "        # whether the subject has SCZ or not\n",
    "        tsDataSlice = tsData.loc[n,indices2KeepMat,:]\n",
    "        tsDataSlice_zscored = tsDataSlice.apply(zscore)\n",
    "        \n",
    "        ## Print the top 5 features for each region being analysed\n",
    "        # top5Feats = af.getTPVals(targetCol, tsDataSlice)[2]\n",
    "        # print(top5Feats)\n",
    "\n",
    "        # Assign the data to variables\n",
    "        X = tsDataSlice_zscored\n",
    "        y = np.ravel(targetCol)\n",
    "        \n",
    "        # Denotes how good all the features in a given region are at predicting if a subject has SCZ\n",
    "        avgScore = af.get10FoldCVScore(X,y).mean()\n",
    "        avgSTD = af.get10FoldCVScore(X,y).std()  \n",
    "        regions[n-1] = n\n",
    "        region_acc[n-1] = avgScore\n",
    "        roiErr[n-1] = avgSTD\n",
    "\n",
    "    df = pd.DataFrame({'Region':regions,'% Accuracy':region_acc,'ROI Error':roiErr})\n",
    "    df['Region'] = df.Region.astype(int)\n",
    "\n",
    "    df_sorted = df.sort_values(by='% Accuracy',ascending=False)\n",
    "    df_sorted = df_sorted.set_index('Region')\n",
    "\n",
    "    if dispFigs == 1:\n",
    "        print('')\n",
    "        print(df_sorted[:5].to_string())\n",
    "        print('')\n",
    "\n",
    "        print('Mean Accuracy (across all regions) = ' +\n",
    "        \"{0:.2f}\".format(df['% Accuracy'].mean()) + '%')\n",
    "        print('')\n",
    "\n",
    "        print('Mean Error (across all regions) = ' +\n",
    "        \"{0:.2f}\".format(df['ROI Error'].mean()) + '%')\n",
    "        print('')\n",
    "\n",
    "        sns.distplot(region_acc, bins='auto', kde=False)\n",
    "        plt.xlabel('Classification Accuracy (%)')\n",
    "        plt.ylabel('No. of Regions')\n",
    "        plt.show()\n",
    "        return\n",
    "    \n",
    "    elif dispFigs == 0:\n",
    "        meanROIAcc = '{0:.2f}'.format(df['% Accuracy'].mean())\n",
    "        meanROIError = '{0:.2f}'.format(df['ROI Error'].mean())\n",
    "        return meanROIAcc, meanROIError\n",
    "    \n",
    "showMeROIAccPlot(ROIs, tsData, indices2KeepMat, targetCol,1)"
   ]
  },
  {
   "cell_type": "code",
   "execution_count": 14,
   "metadata": {},
   "outputs": [],
   "source": [
    "# Define a function, showMeFeatAccPlot\n",
    "\n",
    "def showMeFeatAccPlot(ROIs, feats, featList, subjects, tsData, indices2KeepMat, targetCol, dispFigs):\n",
    "    ''' This function displays the feature accuracy plot and the top 5 features\n",
    "    having the highest accuracies\n",
    "    If 0 is given as an input, this function suppresses any printed messages\n",
    "    and plots but returns the mean feature accuracy and error '''\n",
    "\n",
    "    # Initialise a few variables\n",
    "    featNo = np.zeros([feats])\n",
    "    feat_acc = np.zeros([feats])\n",
    "    featErr = np.zeros([feats])\n",
    "\n",
    "    for n in featList:\n",
    "\n",
    "        # For each of the 1 to 22 features, show me how good all of the ROIs are at predicting\n",
    "        # whether the subject has SCZ or not\n",
    "        tsDataSlice = getFeatSlice(ROIs,subjects,tsData,n,indices2KeepMat)\n",
    "        tsDataSlice_zscored = tsDataSlice.apply(zscore)\n",
    "\n",
    "        # Assign the data to variables\n",
    "        X = tsDataSlice_zscored\n",
    "        y = np.ravel(targetCol)\n",
    "\n",
    "        avgScore = af.get10FoldCVScore(X,y).mean()\n",
    "        avgSTD = af.get10FoldCVScore(X,y).std()\n",
    "        featNo[n-1] = n\n",
    "        feat_acc[n-1] = avgScore\n",
    "        featErr[n-1] = avgSTD\n",
    "\n",
    "    df = pd.DataFrame({'Feature':featNo,'% Accuracy':feat_acc,'Feat Error':featErr})\n",
    "    df['Feature'] = df.Feature.astype(int)\n",
    "\n",
    "    df_sorted = df.sort_values(by='% Accuracy',ascending=False)\n",
    "    df_sorted = df_sorted.set_index('Feature')\n",
    "\n",
    "    if dispFigs == 1:\n",
    "        print(df_sorted[:5].to_string())\n",
    "        print('')\n",
    "\n",
    "        print('Mean Accuracy (across all features) = ' +\n",
    "        \"{0:.2f}\".format(df['% Accuracy'].mean()) + '%')\n",
    "        print('')\n",
    "\n",
    "        print('Mean Error (across all features) = ' +\n",
    "        \"{0:.2f}\".format(df['Feat Error'].mean()) + '%')\n",
    "        print('')\n",
    "\n",
    "        sns.distplot(feat_acc, bins='auto', kde=False)\n",
    "        plt.xlabel('Classification Accuracy (%)')\n",
    "        plt.ylabel('No. of Features')\n",
    "        plt.show()\n",
    "        return\n",
    "    \n",
    "    elif dispFigs == 0:\n",
    "        meanFeatAcc = '{0:.2f}'.format(df['% Accuracy'].mean())\n",
    "        meanFeatError = '{0:.2f}'.format(df['Feat Error'].mean())\n",
    "        return meanFeatAcc, meanFeatError\n",
    "    \n",
    "# showMeFeatAccPlot(ROIs, feats, subjects, tsData, indices2KeepMat, targetCol, 1)"
   ]
  },
  {
   "cell_type": "code",
   "execution_count": 15,
   "metadata": {},
   "outputs": [
    {
     "data": {
      "text/plain": [
       "(array([60.7, 83.3, 47.6, 67.9, 60.7, 48.6, 52.9, 75.7, 34.3, 35. ]),\n",
       " '54.47',\n",
       " '14.66')"
      ]
     },
     "execution_count": 15,
     "metadata": {},
     "output_type": "execute_result"
    }
   ],
   "source": [
    "# Region-by-Region Analysis\n",
    "\n",
    "def Reg_by_Reg_Anal(ROI, tsData, targetCol, ROIs, indices2Keep, dispFigs):\n",
    "    \n",
    "    # Acquire ROI slice\n",
    "    ROISlice = tsData.loc[ROI,indices2KeepMat,:]\n",
    "    \n",
    "    # Assign the data to variables\n",
    "    DataSlice = ROISlice\n",
    "    DataSlice_zscored = DataSlice.apply(zscore)\n",
    "\n",
    "    X = DataSlice_zscored\n",
    "    y = np.ravel(targetCol)\n",
    "    \n",
    "    # Perform 10-fold CV\n",
    "    scores = af.get10FoldCVScore(X,y)\n",
    "    \n",
    "    if dispFigs == True:\n",
    "    \n",
    "        # Store the first five indices of the features with the most significant p-values (the third output)\n",
    "        tpValDf, tpValDf_sorted, sigPValInds = af.getTPVals(targetCol, DataSlice)\n",
    "        \n",
    "        # Show me the PCA figure\n",
    "        af.showMePCAFig(DataSlice, targetCol)\n",
    "\n",
    "        # Show me the top five features as violin plots in the ROI being analysed\n",
    "        af.showMeViolinPlts(targetCol, sigPValInds, DataSlice, 1, ROI)\n",
    "\n",
    "        showMeROIAccPlot(ROIs, tsData, indices2KeepMat, targetCol, dispFigs)\n",
    "        \n",
    "    elif dispFigs == False:\n",
    "        \n",
    "        meanROIAcc, meanROIError = showMeROIAccPlot(ROIs, tsData, indices2KeepMat, targetCol, dispFigs)\n",
    "    \n",
    "    return scores, meanROIAcc, meanROIError\n",
    "\n",
    "dispFigs = False\n",
    "\n",
    "Reg_by_Reg_Anal(ROI, tsData, targetCol, ROIs, indices2Keep, dispFigs)"
   ]
  },
  {
   "cell_type": "code",
   "execution_count": null,
   "metadata": {},
   "outputs": [],
   "source": []
  },
  {
   "cell_type": "code",
   "execution_count": 16,
   "metadata": {},
   "outputs": [
    {
     "data": {
      "text/plain": [
       "' Input tsData\\n    Select a region to analyse\\n    Input the indices2Keep\\n    \\n    Create the targetCol\\n    z-score the ROISlice and ravel the targetCol\\n    Perform 10-fold CV '"
      ]
     },
     "execution_count": 16,
     "metadata": {},
     "output_type": "execute_result"
    }
   ],
   "source": [
    "# Region-by-Region Analysis\n",
    "''' Input tsData\n",
    "    Select a region to analyse\n",
    "    Input the indices2Keep\n",
    "    \n",
    "    Create the targetCol\n",
    "    z-score the ROISlice and ravel the targetCol\n",
    "    Perform 10-fold CV '''\n",
    "\n",
    "# Feature-by-Feature Analysis\n",
    "\n",
    "#"
   ]
  }
 ],
 "metadata": {
  "kernelspec": {
   "display_name": "Python 3",
   "language": "python",
   "name": "python3"
  },
  "language_info": {
   "codemirror_mode": {
    "name": "ipython",
    "version": 3
   },
   "file_extension": ".py",
   "mimetype": "text/x-python",
   "name": "python",
   "nbconvert_exporter": "python",
   "pygments_lexer": "ipython3",
   "version": "3.7.2"
  }
 },
 "nbformat": 4,
 "nbformat_minor": 2
}

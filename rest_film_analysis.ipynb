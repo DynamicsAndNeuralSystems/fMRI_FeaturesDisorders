{
 "cells": [
  {
   "cell_type": "code",
   "execution_count": 1,
   "metadata": {},
   "outputs": [],
   "source": [
    "import os\n",
    "import numpy as np\n",
    "import nibabel as nib\n",
    "import pandas as pd\n",
    "\n",
    "%load_ext rpy2.ipython"
   ]
  },
  {
   "cell_type": "code",
   "execution_count": 2,
   "metadata": {},
   "outputs": [
    {
     "name": "stdout",
     "output_type": "stream",
     "text": [
      "\n",
      "    WARNING: The R package \"reticulate\" only fixed recently\n",
      "    an issue that caused a segfault when used with rpy2:\n",
      "    https://github.com/rstudio/reticulate/pull/1188\n",
      "    Make sure that you use a version of that package that includes\n",
      "    the fix.\n",
      "    "
     ]
    }
   ],
   "source": [
    "%%R \n",
    "\n",
    "suppressPackageStartupMessages({\n",
    "    library(cowplot)\n",
    "    library(tidyverse)\n",
    "    library(theft)\n",
    "})\n",
    "\n",
    "\n",
    "# Set cowplot theme\n",
    "theme_set(theme_cowplot())"
   ]
  },
  {
   "cell_type": "code",
   "execution_count": 48,
   "metadata": {},
   "outputs": [],
   "source": [
    "parc_info = pd.read_csv(\"/Users/abry4213/data/Rest_vs_Film_fMRI/parc_info.csv\").assign(row_index = lambda x: x.index)"
   ]
  },
  {
   "cell_type": "code",
   "execution_count": 68,
   "metadata": {},
   "outputs": [],
   "source": [
    "ts_file_path = \"/Users/abry4213/data/Rest_vs_Film_fMRI/time_series_files\"\n",
    "\n",
    "TS_data_7_networks_list = []\n",
    "\n",
    "for ts_file in os.listdir(ts_file_path):\n",
    "    sample_ID, scan_type, scan_session, _ = (ts_file.split(\".\"))\n",
    "    this_data = (pd.read_csv(f\"{ts_file_path}/{ts_file}\", header=None, na_values=\"nan\")\n",
    "                 .assign(timepoint = lambda x: x.index + 1)\n",
    "                 .melt(id_vars=[\"timepoint\"], var_name=\"row_index\", value_name=\"values\")\n",
    "                 .merge(parc_info, on=\"row_index\", how=\"left\"))\n",
    "    this_data_7_networks = (this_data.groupby([\"Yeo_7_Networks_Unilateral\", \"timepoint\"], as_index=False).agg({\"values\": \"mean\"}))\n",
    "    this_data_7_networks[\"sample_ID\"] = sample_ID\n",
    "    this_data_7_networks[\"scan_type\"] = scan_type\n",
    "    this_data_7_networks[\"scan_session\"] = scan_session\n",
    "    this_data_7_networks[\"Unique_ID\"] = f\"{sample_ID}_{scan_type}_{scan_session}\"\n",
    "\n",
    "    TS_data_7_networks_list.append(this_data_7_networks)\n",
    "\n",
    "TS_data_7_networks =  pd.concat(TS_data_7_networks_list).reset_index(drop=True)\n",
    "TS_data_7_networks_mean_and_SD = TS_data_7_networks.groupby([\"sample_ID\", \"scan_type\", \"scan_session\"])['values'].agg([\"mean\", \"std\"]).reset_index()\n"
   ]
  },
  {
   "cell_type": "markdown",
   "metadata": {},
   "source": [
    "How many participants have valid scans for all four sessions for both movie and rest?"
   ]
  },
  {
   "cell_type": "code",
   "execution_count": 74,
   "metadata": {},
   "outputs": [
    {
     "name": "stdout",
     "output_type": "stream",
     "text": [
      "# A tibble: 23 × 1\n",
      "# Groups:   sample_ID [23]\n",
      "   sample_ID\n",
      "   <chr>    \n",
      " 1 sub01    \n",
      " 2 sub02    \n",
      " 3 sub04    \n",
      " 4 sub06    \n",
      " 5 sub07    \n",
      " 6 sub08    \n",
      " 7 sub09    \n",
      " 8 sub13    \n",
      " 9 sub14    \n",
      "10 sub15    \n",
      "# ℹ 13 more rows\n",
      "# ℹ Use `print(n = ...)` to see more rows\n"
     ]
    }
   ],
   "source": [
    "%%R -i TS_data_7_networks_mean_and_SD\n",
    "TS_data_7_networks_mean_and_SD %>%\n",
    "    filter(!is.na(mean)) %>%\n",
    "    group_by(sample_ID, scan_type) %>%\n",
    "    count() %>%\n",
    "    group_by(sample_ID) %>%\n",
    "    filter(all(n==4)) %>%\n",
    "    distinct(sample_ID)"
   ]
  },
  {
   "cell_type": "markdown",
   "metadata": {},
   "source": [
    "How many participants have valid scans for all four session for each scan type separately?"
   ]
  },
  {
   "cell_type": "code",
   "execution_count": 76,
   "metadata": {},
   "outputs": [
    {
     "name": "stdout",
     "output_type": "stream",
     "text": [
      "# A tibble: 2 × 2\n",
      "# Groups:   scan_type [2]\n",
      "  scan_type     n\n",
      "  <chr>     <int>\n",
      "1 movie        25\n",
      "2 rest         27\n"
     ]
    }
   ],
   "source": [
    "%%R -i TS_data_7_networks_mean_and_SD\n",
    "TS_data_7_networks_mean_and_SD %>%\n",
    "    filter(!is.na(mean)) %>%\n",
    "    group_by(sample_ID, scan_type) %>%\n",
    "    count() %>%\n",
    "    filter(n==4) %>%\n",
    "    group_by(scan_type) %>%\n",
    "    count()"
   ]
  },
  {
   "cell_type": "code",
   "execution_count": 29,
   "metadata": {},
   "outputs": [
    {
     "data": {
      "text/plain": [
       "Removed ID: sub03_movie_3 due to non-real values.\n",
       "Removed ID: sub03_movie_4 due to non-real values.\n",
       "Removed ID: sub05_rest_3 due to non-real values.\n",
       "Removed ID: sub10_movie_3 due to non-real values.\n",
       "Removed ID: sub10_movie_4 due to non-real values.\n",
       "Removed ID: sub11_movie_3 due to non-real values.\n",
       "Removed ID: sub11_movie_4 due to non-real values.\n",
       "Removed ID: sub12_rest_1 due to non-real values.\n",
       "Removed ID: sub12_rest_3 due to non-real values.\n",
       "Removed ID: sub29_movie_4 due to non-real values.\n",
       "Total IDs removed due to non-real values: sub03_movie_3 (4%)Total IDs removed due to non-real values: sub03_movie_4 (4%)Total IDs removed due to non-real values: sub05_rest_3 (4%)Total IDs removed due to non-real values: sub10_movie_3 (4%)Total IDs removed due to non-real values: sub10_movie_4 (4%)Total IDs removed due to non-real values: sub11_movie_3 (4%)Total IDs removed due to non-real values: sub11_movie_4 (4%)Total IDs removed due to non-real values: sub12_rest_1 (4%)Total IDs removed due to non-real values: sub12_rest_3 (4%)Total IDs removed due to non-real values: sub29_movie_4 (4%)\n",
       "Running computations for catch22...\n",
       "\n",
       "Calculations completed for catch22.\n",
       "Running computations for user-supplied features...\n",
       "\n",
       "Calculations completed for user-supplied features.\n",
       "In addition: Warning message:\n",
       "There was 1 warning in `dplyr::reframe()`.\n",
       "ℹ In argument: `Rcatch22::catch22_all(.data$values, catch24 = catch24)`.\n",
       "ℹ In group 1: `id = \"sub29_rest_2\"`.\n",
       "Caused by warning:\n",
       "! As of 0.1.14 the feature 'CO_f1ecac' returns a double instead of int\n",
       "This warning is displayed once per session. \n"
      ]
     },
     "metadata": {},
     "output_type": "display_data"
    }
   ],
   "source": [
    "%%R -i TS_data_7_networks -o catch24_7_networks\n",
    "\n",
    "catch24_7_networks = calculate_features(data = TS_data_7_networks, \n",
    "                    id_var = \"Unique_ID\",\n",
    "                   feature_set = \"catch22\",\n",
    "                   features = list(\"mean\" = mean, \"sd\" = sd))"
   ]
  },
  {
   "cell_type": "code",
   "execution_count": 31,
   "metadata": {},
   "outputs": [],
   "source": [
    "catch24_7_networks.reset_index(drop=True).to_feather(\"/Users/abry4213/data/Rest_vs_Film_fMRI/catch24_7_networks.feather\")"
   ]
  }
 ],
 "metadata": {
  "kernelspec": {
   "display_name": "annie_env",
   "language": "python",
   "name": "python3"
  },
  "language_info": {
   "codemirror_mode": {
    "name": "ipython",
    "version": 3
   },
   "file_extension": ".py",
   "mimetype": "text/x-python",
   "name": "python",
   "nbconvert_exporter": "python",
   "pygments_lexer": "ipython3",
   "version": "3.9.7"
  }
 },
 "nbformat": 4,
 "nbformat_minor": 2
}

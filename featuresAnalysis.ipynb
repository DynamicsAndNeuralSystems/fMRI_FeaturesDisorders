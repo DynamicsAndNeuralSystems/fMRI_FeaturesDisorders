{
 "cells": [
  {
   "cell_type": "code",
   "execution_count": 1,
   "metadata": {},
   "outputs": [],
   "source": [
    "import sys\n",
    "import pandas as pd\n",
    "import numpy as np\n",
    "import matplotlib.pyplot as plt\n",
    "plt.style.use('classic')\n",
    "import seaborn as sns\n",
    "import sklearn\n",
    "from scipy.stats import stats,ttest_ind"
   ]
  },
  {
   "cell_type": "code",
   "execution_count": 2,
   "metadata": {},
   "outputs": [],
   "source": [
    "path = 'featureMatrixPy.txt'\n",
    "tsData = pd.read_csv(path,header=None);"
   ]
  },
  {
   "cell_type": "code",
   "execution_count": 3,
   "metadata": {},
   "outputs": [],
   "source": [
    "zeros = np.zeros((100), dtype=int)\n",
    "ones = np.ones((100), dtype=int)\n",
    "targetCol = np.hstack((ones, zeros))\n",
    "targetCol = np.reshape(targetCol,(200,1))"
   ]
  },
  {
   "cell_type": "code",
   "execution_count": 4,
   "metadata": {},
   "outputs": [],
   "source": [
    "from scipy.stats import zscore\n",
    "tsData_zscored = tsData.apply(zscore)"
   ]
  },
  {
   "cell_type": "code",
   "execution_count": 5,
   "metadata": {},
   "outputs": [],
   "source": [
    "X = tsData_zscored\n",
    "y = np.ravel(targetCol)\n",
    "\n",
    "# Split the data into training and test sets\n",
    "from sklearn.model_selection import train_test_split\n",
    "X_train, X_test, y_train, y_test = train_test_split(X, y, test_size = 0.10)"
   ]
  },
  {
   "cell_type": "code",
   "execution_count": 6,
   "metadata": {},
   "outputs": [
    {
     "name": "stdout",
     "output_type": "stream",
     "text": [
      "[[ 7  0]\n",
      " [ 0 13]]\n",
      "\n",
      "The classification accuracy of the SVM for a single random split is 100.0%\n"
     ]
    }
   ],
   "source": [
    "from sklearn.svm import SVC\n",
    "svclassifier = SVC(kernel='linear')\n",
    "svclassifier.fit(X_train, y_train)\n",
    "\n",
    "# Using the SVC derived from fitting to the training set, classify the test set\n",
    "# and store this in a variable\n",
    "y_pred = svclassifier.predict(X_test)\n",
    "\n",
    "# Compare the predictions made by the SVC to the correct classifications\n",
    "# Display the results using a confusion matrix and the classification accuracy\n",
    "from sklearn.metrics import accuracy_score, confusion_matrix\n",
    "print(confusion_matrix(y_test, y_pred))\n",
    "print('')\n",
    "print('The classification accuracy of the SVM for a single random split is ' +\n",
    "str(accuracy_score(y_test, y_pred) * 100) + '%')"
   ]
  },
  {
   "cell_type": "code",
   "execution_count": 7,
   "metadata": {},
   "outputs": [
    {
     "name": "stdout",
     "output_type": "stream",
     "text": [
      "The specificity is 100.0% and the sensitivity is 100.0%\n",
      "\n"
     ]
    }
   ],
   "source": [
    "confMat = confusion_matrix(y_test, y_pred)\n",
    "specificity = (confMat[0,0] / (confMat[0,0] + confMat[1,0])) * 100\n",
    "sensitivity = (confMat[1,1] / (confMat[1,1] + confMat[0,1])) * 100\n",
    "print('The specificity is ' + str(\"%.1f\" % specificity) + '% and the sensitivity is '\n",
    "+ str(\"%.1f\" % sensitivity) + '%')\n",
    "print('')"
   ]
  },
  {
   "cell_type": "code",
   "execution_count": 8,
   "metadata": {},
   "outputs": [
    {
     "name": "stdout",
     "output_type": "stream",
     "text": [
      "10-fold CV scores as a percentage: [100 100  95 100 100 100 100 100  95 100]\n",
      "\n",
      "The average 10-fold CV score is 99.0%\n",
      "\n"
     ]
    }
   ],
   "source": [
    "# Performing a 10-fold validation using cross_val_score\n",
    "from sklearn.model_selection import cross_val_score\n",
    "scores = cross_val_score(svclassifier, X, y, cv=10) * 100\n",
    "scores = scores.astype(int)\n",
    "\n",
    "# Print scores\n",
    "print('10-fold CV scores as a percentage: ' + str(scores))\n",
    "print('')\n",
    "\n",
    "avgCVScore = np.mean(scores)\n",
    "print('The average 10-fold CV score is ' + str(\"%.1f\" % avgCVScore) + '%')\n",
    "print('')"
   ]
  },
  {
   "cell_type": "code",
   "execution_count": 9,
   "metadata": {},
   "outputs": [
    {
     "name": "stdout",
     "output_type": "stream",
     "text": [
      "      t-value       p-value\n",
      "0   -1.646650  2.024324e-01\n",
      "1   -4.640577  1.262330e-05\n",
      "2   -8.430390  1.413439e-14\n",
      "3    0.349755  1.453788e+00\n",
      "4   -0.062478  1.900491e+00\n",
      "5   -0.579031  1.126453e+00\n",
      "6   -2.093077  7.523217e-02\n",
      "7    3.147426  3.803229e-03\n",
      "8    3.366957  1.826104e-03\n",
      "9  -16.637060  3.679283e-39\n",
      "10   2.182296  6.052926e-02\n",
      "11   0.444272  1.314662e+00\n",
      "12  10.982195  6.440116e-22\n",
      "13  -5.027799  2.215562e-06\n",
      "14 -10.876303  1.333349e-21\n",
      "15   5.418917  3.461260e-07\n",
      "16  10.997517  5.795681e-22\n",
      "17  -3.572155  8.891152e-04\n",
      "18  22.421473  6.111434e-56\n",
      "19   6.873038  1.598130e-10\n",
      "20  -5.333284  5.239965e-07\n",
      "21  -2.376740  3.683915e-02\n"
     ]
    }
   ],
   "source": [
    "# Compute the t-value (from a two-tail t-test) and the p-value\n",
    "# Store these two values (t-value, then p-value) in each column, 22 in total for each feature\n",
    "\n",
    "# Initialise the array and assign its shape\n",
    "tpValArray = np.zeros([2, 22])\n",
    "[rows, cols] = tpValArray.shape\n",
    "\n",
    "# Loop through the array and store the t and p values\n",
    "for j in range(cols):\n",
    "\n",
    "    # Calculate the t and p values by inputting the two halves of each of the 22 columns\n",
    "    # of the normalised data into the ttest functions\n",
    "    # Store the statistics in the variable, tpVal (which changes on each iteration of the outer loop)\n",
    "    setE_FeatureCol = tsData.iloc[0:100,j]\n",
    "    setA_FeatureCol = tsData.iloc[100:200,j]\n",
    "    tpVal = stats.ttest_ind(setA_FeatureCol, setE_FeatureCol)\n",
    "\n",
    "    for i in range(rows):\n",
    "\n",
    "        # Store the values into each column\n",
    "        tpValArray[i,j] = tpVal[i]\n",
    "\n",
    "# Since it is a two-tailed t-test, need to multiply the p-values by two (second row)\n",
    "tpValArray[1,:] = tpValArray[1,:] * 2\n",
    "\n",
    "# Formatting the tpValArray\n",
    "tpValDf = pd.DataFrame(data=tpValArray.T, columns=['t-value', 'p-value'])\n",
    "print(tpValDf)"
   ]
  },
  {
   "cell_type": "code",
   "execution_count": 10,
   "metadata": {},
   "outputs": [
    {
     "name": "stdout",
     "output_type": "stream",
     "text": [
      "          PC1       PC2  target\n",
      "0   -0.466520  0.972985       1\n",
      "1   -1.715950  0.268570       1\n",
      "2   -3.689212  2.210228       1\n",
      "3    0.466398  2.224022       1\n",
      "4    2.273560  2.025920       1\n",
      "5    1.693349  1.513487       1\n",
      "6    0.359110 -2.120276       1\n",
      "7    2.061841  5.180776       1\n",
      "8    0.378024  1.979334       1\n",
      "9   -5.406274  1.937100       1\n",
      "10  -2.735661  2.122185       1\n",
      "11   1.842068  3.662893       1\n",
      "12   0.420461  3.752155       1\n",
      "13   2.247172 -0.902285       1\n",
      "14   4.330223 -0.620903       1\n",
      "15   9.720630 -2.325618       1\n",
      "16  -1.637008  0.316295       1\n",
      "17   4.577674 -1.305677       1\n",
      "18   2.134502  2.645816       1\n",
      "19  -0.679428  3.272365       1\n",
      "20   2.768670  1.188821       1\n",
      "21  -0.813806  2.083404       1\n",
      "22   0.499360  0.697161       1\n",
      "23  -0.512965  2.415875       1\n",
      "24   3.399703  0.543144       1\n",
      "25   0.887098  3.788475       1\n",
      "26  -2.954070  1.048640       1\n",
      "27   1.845831  2.254107       1\n",
      "28   6.486638 -1.685124       1\n",
      "29  -2.365089  1.899525       1\n",
      "..        ...       ...     ...\n",
      "170  0.353770 -2.138769       0\n",
      "171 -2.488820 -1.462385       0\n",
      "172 -1.537888 -1.151923       0\n",
      "173 -0.540463 -0.442785       0\n",
      "174 -0.227270 -0.744825       0\n",
      "175 -0.848831 -1.547946       0\n",
      "176 -1.198248 -1.165470       0\n",
      "177 -4.982821 -0.161062       0\n",
      "178 -1.391801 -1.160064       0\n",
      "179 -2.235360 -0.590524       0\n",
      "180 -0.880399 -0.198286       0\n",
      "181 -2.705308 -2.320725       0\n",
      "182 -1.417493 -1.644321       0\n",
      "183 -0.547771 -1.883921       0\n",
      "184 -1.460853 -1.945223       0\n",
      "185 -1.173816 -1.020370       0\n",
      "186 -2.043093 -0.803469       0\n",
      "187 -0.988011 -1.240071       0\n",
      "188 -1.057868 -1.920157       0\n",
      "189 -2.514796 -1.268484       0\n",
      "190 -0.983141 -1.553274       0\n",
      "191 -0.932271 -0.744687       0\n",
      "192 -2.610931 -1.324477       0\n",
      "193 -0.312307 -1.077674       0\n",
      "194 -1.715850  0.021915       0\n",
      "195 -2.622279 -0.902542       0\n",
      "196 -1.446162 -1.209553       0\n",
      "197 -0.881101 -1.505517       0\n",
      "198 -2.640638 -1.562447       0\n",
      "199 -1.887650  0.318059       0\n",
      "\n",
      "[200 rows x 3 columns]\n"
     ]
    }
   ],
   "source": [
    "from sklearn.preprocessing import StandardScaler\n",
    "\n",
    "# Standardizing the features\n",
    "x = StandardScaler().fit_transform(tsData)\n",
    "\n",
    "from sklearn.decomposition import PCA\n",
    "pca = PCA(n_components=2)\n",
    "principalComponents = pca.fit_transform(x)\n",
    "principalDf = pd.DataFrame(data = principalComponents\n",
    "             , columns = ['PC1', 'PC2'])\n",
    "\n",
    "targetCol_df = pd.DataFrame(data=targetCol, columns=['target'])\n",
    "\n",
    "finalDf = pd.concat([principalDf, targetCol_df], axis = 1)\n",
    "\n",
    "print(finalDf)"
   ]
  },
  {
   "cell_type": "code",
   "execution_count": 11,
   "metadata": {},
   "outputs": [
    {
     "data": {
      "image/png": "[encoded data removed]",
      "text/plain": [
       "<Figure size 440.2x360 with 1 Axes>"
      ]
     },
     "metadata": {
      "needs_background": "light"
     },
     "output_type": "display_data"
    }
   ],
   "source": [
    "ax = sns.relplot(x='PC1', y='PC2', data=finalDf, hue='target',palette='Set1')\n",
    "plt.show()"
   ]
  },
  {
   "cell_type": "code",
   "execution_count": 12,
   "metadata": {},
   "outputs": [
    {
     "name": "stdout",
     "output_type": "stream",
     "text": [
      "    Epileptic   Healthy\n",
      "0    0.836006 -0.575062\n",
      "1    0.836006  0.350951\n",
      "2    1.806115 -0.549864\n",
      "3    1.113180  0.189266\n",
      "4    0.447962 -0.789583\n",
      "5    0.836006 -0.999336\n",
      "6   -0.905216  0.059919\n",
      "7    1.667528 -0.856525\n",
      "8    1.113180 -0.856525\n",
      "9    2.776224 -0.960493\n",
      "10   1.224050 -0.780843\n",
      "11   1.321060 -0.751446\n",
      "12   1.482745 -0.740422\n",
      "13  -0.419430 -0.884565\n",
      "14  -0.603511 -0.896332\n",
      "15  -0.789583 -0.954965\n",
      "16  -0.208727 -0.673053\n",
      "17  -0.688451 -0.906902\n",
      "18   0.836006 -0.856525\n",
      "19   1.482745 -0.940250\n",
      "20  -0.045912 -0.851141\n",
      "21   0.836006 -0.880341\n",
      "22  -0.272690 -0.933017\n",
      "23   1.113180 -0.793778\n",
      "24  -0.328125 -0.997411\n",
      "25   1.667528 -0.875952\n",
      "26   1.224050  0.836006\n",
      "27   0.447962 -0.839637\n",
      "28  -0.656470 -0.833484\n",
      "29   1.224050 -0.925115\n",
      "..        ...       ...\n",
      "70  -0.619158 -0.866635\n",
      "71   1.113180 -0.866635\n",
      "72   0.447962 -0.522147\n",
      "73  -0.716169 -0.789583\n",
      "74   1.667528 -0.880341\n",
      "75   1.806115 -0.906902\n",
      "76  -0.134103 -0.892552\n",
      "77   0.558832 -0.241893\n",
      "78   1.482745 -0.951037\n",
      "79   1.667528 -0.856525\n",
      "80  -0.328125 -0.951037\n",
      "81   1.482745 -0.845517\n",
      "82   1.224050 -0.851141\n",
      "83  -0.716169 -0.861685\n",
      "84   1.224050 -0.780843\n",
      "85   1.806115 -0.780843\n",
      "86   1.482745 -0.906902\n",
      "87   1.667528 -0.884565\n",
      "88  -0.656470 -0.866635\n",
      "89   1.224050 -0.948995\n",
      "90   0.189266 -0.866635\n",
      "91   0.447962 -0.771604\n",
      "92  -0.491512 -0.856525\n",
      "93   1.482745 -0.789583\n",
      "94   1.482745 -0.575062\n",
      "95   1.113180 -0.761821\n",
      "96   1.667528 -0.771604\n",
      "97   1.482745 -0.925115\n",
      "98   1.224050 -0.851141\n",
      "99   1.113180 -0.575062\n",
      "\n",
      "[100 rows x 2 columns]\n"
     ]
    },
    {
     "data": {
      "image/png": "[encoded data removed]",
      "text/plain": [
       "<Figure size 432x288 with 1 Axes>"
      ]
     },
     "metadata": {
      "needs_background": "light"
     },
     "output_type": "display_data"
    }
   ],
   "source": [
    "# Obtaining Seizure_Feature1 & Healthy_Feature1\n",
    "sf1 = X.iloc[0:100,9]\n",
    "hf1 = X.iloc[100:200,9]\n",
    "\n",
    "feat1 = np.column_stack((sf1,hf1))\n",
    "\n",
    "df_feat1 = pd.DataFrame(data=feat1, columns=['Epileptic', 'Healthy'])\n",
    "print(df_feat1)\n",
    "\n",
    "# Violin plots\n",
    "ax = sns.violinplot(data=df_feat1, order=[\"Epileptic\", \"Healthy\"])\n",
    "plt.xlabel('Individual')\n",
    "plt.ylabel('Feature i')\n",
    "plt.show()"
   ]
  },
  {
   "cell_type": "code",
   "execution_count": null,
   "metadata": {},
   "outputs": [],
   "source": []
  },
  {
   "cell_type": "code",
   "execution_count": null,
   "metadata": {},
   "outputs": [],
   "source": []
  }
 ],
 "metadata": {
  "kernelspec": {
   "display_name": "Python 3",
   "language": "python",
   "name": "python3"
  },
  "language_info": {
   "codemirror_mode": {
    "name": "ipython",
    "version": 3
   },
   "file_extension": ".py",
   "mimetype": "text/x-python",
   "name": "python",
   "nbconvert_exporter": "python",
   "pygments_lexer": "ipython3",
   "version": "3.7.2"
  }
 },
 "nbformat": 4,
 "nbformat_minor": 2
}
